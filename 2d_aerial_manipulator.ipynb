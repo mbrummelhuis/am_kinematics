{
 "cells": [
  {
   "cell_type": "markdown",
   "metadata": {},
   "source": [
    "# Model definition\n",
    "The world frame is defined with $x$ to the right and $y$ up. Rotations are CCW positive.\n",
    "Consider a 2D birotor with mass $m_{b}$, moment of inertia $I_{b}$ about its center of mass (CoM), which is exactly between the rotors. The distance between the rotors is $L_{b}$. At the center of mass of the base, a revolute joint is attached which actuates a manipulator made up of one member of length $L_{m}$. Its mass $m_{m}$ is concentrated at $\\frac{1}{2}L_{m}$ and its moment of inertia is $I_{m}$ about the CoM. \n",
    "The pitch of the birotor $\\theta_{b}$ is defined 0 in the horizontal orientation, and the nominal configuration of the manipulator is defined to the right (positive $x$), where the revolute joint rotation $q$ is defined 0.\n",
    "\n",
    "First, we set up the kinematics function of the manipulator.\n",
    "\n",
    "Then, we set up the equations of motion by using the Euler-Lagrange method."
   ]
  },
  {
   "cell_type": "code",
   "execution_count": 23,
   "metadata": {},
   "outputs": [],
   "source": [
    "import sympy as sp\n",
    "import numpy as np\n",
    "from sympy import symbols, Function, cos, sin, diff\n",
    "from sympy.physics.vector import init_vprinting\n",
    "\n",
    "init_vprinting() # Pretty printing with sympy\n",
    "\n",
    "# Time variable\n",
    "t = symbols('t')\n",
    "\n",
    "# Other variables\n",
    "mb, mm, Ib, Im, Lb, Lm, g = symbols('m_b m_m I_b I_m L_b L_m g')\n",
    "\n",
    "# Generalized coordinates as functions of time\n",
    "xb = Function('x_b')(t)\n",
    "yb = Function('y_b')(t)\n",
    "thetab = Function('theta_b')(t)\n",
    "q = Function('q')(t)\n",
    "\n",
    "# Derivatives\n",
    "xb_dot = diff(xb, t)\n",
    "yb_dot = diff(yb, t)\n",
    "thetab_dot = diff(thetab, t)\n",
    "q_dot = diff(q, t)\n",
    "\n",
    "xb_ddot = diff(xb_dot, t)\n",
    "yb_ddot = diff(yb_dot, t)\n",
    "thetab_ddot = diff(thetab_dot, t)\n",
    "q_ddot = diff(q_dot, t)\n",
    "\n",
    "# End-effector coordinates\n",
    "xe = Function('x_e')(t)\n",
    "ye = Function('y_e')(t)\n",
    "thetae = Function('theta_e')(t)\n",
    "\n",
    "xe_dot = diff(xe, t)\n",
    "ye_dot = diff(ye, t)\n",
    "thetae_dot = diff(thetae, t)"
   ]
  },
  {
   "cell_type": "code",
   "execution_count": 75,
   "metadata": {},
   "outputs": [
    {
     "name": "stdout",
     "output_type": "stream",
     "text": [
      "⎡Lₘ⋅cos(q(t) + θ_b(t)) + x_b(t)⎤\n",
      "⎢                              ⎥\n",
      "⎢Lₘ⋅sin(q(t) + θ_b(t)) + y_b(t)⎥\n",
      "⎢                              ⎥\n",
      "⎣        q(t) + θ_b(t)         ⎦\n",
      "(3, 4)\n"
     ]
    }
   ],
   "source": [
    "# Deriving the kinematic equation\n",
    "xe = xb + Lm*cos(thetab+q)\n",
    "ye = yb + Lm*sin(thetab+q)\n",
    "thetae = thetab + q\n",
    "k = sp.Matrix([xe, ye, thetae]) # kinematic equation\n",
    "sp.pprint(k)\n",
    "\n",
    "# Jacobian\n",
    "J_A = k.jacobian([xb, yb, thetab, q])\n",
    "print(J_A.shape)"
   ]
  },
  {
   "cell_type": "markdown",
   "metadata": {},
   "source": [
    "### Controller\n",
    "Now that we have the differential kinematics, we can employ a second-order inverse kinematics algorithm to get references for the controllable states. We follow the formulation of Arleo (2013)."
   ]
  },
  {
   "cell_type": "code",
   "execution_count": 81,
   "metadata": {},
   "outputs": [
    {
     "name": "stdout",
     "output_type": "stream",
     "text": [
      "Iterations:  275\n",
      "State\n",
      "Matrix([[0], [0.468790722610088], [0], [0]])\n",
      "Controlled state velocity references\n",
      "Matrix([[0], [0.0315245226160727], [0]])\n",
      "Task-space error\n",
      "Matrix([[0], [-0.0315245226160727], [0]])\n",
      "Task-space pose\n",
      "Matrix([[1], [0.468790722610088], [0]])\n"
     ]
    }
   ],
   "source": [
    "J_A_controlled = J_A[:,0:2].row_join(J_A[:,3])\n",
    "J_A_uncontrolled = J_A[:,2]\n",
    "\n",
    "# Set the parameters\n",
    "J_A_controlled = J_A_controlled.subs({Lm:1})\n",
    "J_A_uncontrolled = J_A_uncontrolled.subs({Lm:1})\n",
    "\n",
    "# CLIK inputs\n",
    "K = sp.eye(3) # gain matrix\n",
    "\n",
    "# Forward kinematics function\n",
    "def forward_kinematics(xi):\n",
    "    return k.subs({xb:xi[0], yb:xi[1], thetab:xi[2], q:xi[3], Lm:1})\n",
    "\n",
    "# CLIK law\n",
    "def CLIK(xe_current, xe_ref, xe_dot_ref, xi_measured, J_A_controlled, J_A_uncontrolled, K):\n",
    "    J_A_controlled_sub = J_A_controlled.subs({xb:xi_measured[0], yb:xi_measured[1], thetab:xi_measured[2], q:xi_measured[3]})\n",
    "    J_A_uncontrolled_sub = J_A_uncontrolled.subs({xb:xi_measured[0], yb:xi_measured[1], thetab:xi_measured[2], q:xi_measured[3]})\n",
    "    return J_A_controlled_sub.inv()*(xe_dot_ref - K*(xe_ref - xe_current)) - J_A_controlled_sub.inv()*J_A_uncontrolled_sub*thetab_dot\n",
    "\n",
    "# Set some initial conditions\n",
    "xi_current = sp.Matrix([0, 0, 0, 0])\n",
    "timestep = 0.01\n",
    "\n",
    "# References\n",
    "xe_des = np.array([[1.0], [0.5], [0.0]])  # Desired task-space pose\n",
    "xe_goal_vel = np.array([[0.0], [0.0], [0.0]])  # Goal velocity\n",
    "\n",
    "for _ in range(10000):\n",
    "    xe_current = forward_kinematics(xi_current)\n",
    "    J_A_controlled_sub = J_A_controlled.subs({xb:xi_current[0], yb:xi_current[1], thetab:xi_current[2], q:xi_current[3]})\n",
    "    J_A_uncontrolled_sub = J_A_uncontrolled.subs({xb:xi_current[0], yb:xi_current[1], thetab:xi_current[2], q:xi_current[3]})\n",
    "    e = xe_current - xe_des\n",
    "    e_dot = xe_goal_vel - K*e\n",
    "    CLIK_output = J_A_controlled_sub.inv()*e_dot - J_A_controlled_sub.inv()*J_A_uncontrolled_sub*0.0\n",
    "\n",
    "    # Euler integration\n",
    "    xi_current = xi_current + timestep*sp.Matrix([CLIK_output[0], CLIK_output[1], 0.0, CLIK_output[2]])\n",
    "    error_norm = (e.T.dot(e).evalf())\n",
    "    if error_norm.evalf() < 0.001:\n",
    "        print(\"Iterations: \", _)\n",
    "        print(\"State\")\n",
    "        print(xi_current)\n",
    "        print(\"Controlled state velocity references\")\n",
    "        print(CLIK_output)\n",
    "        print(\"Task-space error\")\n",
    "        print(e)\n",
    "        print(\"Task-space pose\")\n",
    "        print(forward_kinematics(xi_current))\n",
    "        break"
   ]
  },
  {
   "cell_type": "code",
   "execution_count": null,
   "metadata": {},
   "outputs": [
    {
     "name": "stdout",
     "output_type": "stream",
     "text": [
      "Equations of motion\n",
      "     2              2       \n",
      "    d              d        \n",
      "m_b⋅───(x(t)) + mₘ⋅───(x(t))\n",
      "      2              2      \n",
      "    dt             dt       \n",
      "                    2              2       \n",
      "                   d              d        \n",
      "g⋅m_b + g⋅mₘ + m_b⋅───(y(t)) + mₘ⋅───(y(t))\n",
      "                     2              2      \n",
      "                   dt             dt       \n",
      "                                                                               ↪\n",
      "                                                                               ↪\n",
      "                                                                               ↪\n",
      "                   ⎛   2             2       ⎞                                 ↪\n",
      "                   ⎜  d             d        ⎟                                 ↪\n",
      "                Iₘ⋅⎜2⋅───(q(t)) + 2⋅───(θ(t))⎟                              mₘ ↪\n",
      "     2             ⎜    2             2      ⎟                                 ↪\n",
      "    d              ⎝  dt            dt       ⎠   Lₘ⋅g⋅mₘ⋅cos(q(t) + θ(t))      ↪\n",
      "I_b⋅───(θ(t)) + ────────────────────────────── + ──────────────────────── + ── ↪\n",
      "      2                       2                             2                  ↪\n",
      "    dt                                                                         ↪\n",
      "\n",
      "↪  ⎛    2                          ⎞\n",
      "↪  ⎜   d                           ⎟\n",
      "↪  ⎜Lₘ⋅───(q(t))                   ⎟\n",
      "↪  ⎜     2                 2       ⎟\n",
      "↪  ⎜   dt                 d        ⎟\n",
      "↪ ⋅⎜──────────── + 0.5⋅Lₘ⋅───(θ(t))⎟\n",
      "↪  ⎜     2                  2      ⎟\n",
      "↪  ⎝                      dt       ⎠\n",
      "↪ ──────────────────────────────────\n",
      "↪                2                  \n",
      "↪                                   \n",
      "                                                               ⎛    2          ↪\n",
      "                                                               ⎜   d           ↪\n",
      "   ⎛   2             2       ⎞                                 ⎜Lₘ⋅───(q(t))   ↪\n",
      "   ⎜  d             d        ⎟                                 ⎜     2         ↪\n",
      "Iₘ⋅⎜2⋅───(q(t)) + 2⋅───(θ(t))⎟                                 ⎜   dt          ↪\n",
      "   ⎜    2             2      ⎟                              mₘ⋅⎜──────────── + ↪\n",
      "   ⎝  dt            dt       ⎠   Lₘ⋅g⋅mₘ⋅cos(q(t) + θ(t))      ⎝     2         ↪\n",
      "────────────────────────────── + ──────────────────────── + ────────────────── ↪\n",
      "              2                             2                              2   ↪\n",
      "\n",
      "↪      2       ⎞\n",
      "↪     d        ⎟\n",
      "↪  Lₘ⋅───(θ(t))⎟\n",
      "↪       2      ⎟\n",
      "↪     dt       ⎟\n",
      "↪  ────────────⎟\n",
      "↪       2      ⎠\n",
      "↪ ──────────────\n",
      "↪               \n"
     ]
    }
   ],
   "source": [
    "# Dynamics\n",
    "# Deriving the kinetic energy\n",
    "T_b = mb*(xb_dot**2 + yb_dot**2)/2 + Ib*thetab_dot**2/2\n",
    "T_m = mm*(xb_dot**2 + yb_dot**2 + (Lm*q_dot**2)/4 + (Lm*q_dot*thetab_dot)/2 + (Lm*thetab_dot**2)/4.)/2 + Im*(q_dot+thetab_dot)**2/2\n",
    "\n",
    "# Deriving the potential energy\n",
    "U_b = mb*g*yb\n",
    "U_m = mm*g*yb + mm*g*Lm*sin(q+thetab)/2\n",
    "\n",
    "# Deriving the Lagrangian\n",
    "L = T_b + T_m - U_b - U_m\n",
    "\n",
    "# Deriving the equations of motion\n",
    "eq1 = diff(diff(L, xb_dot), t) - diff(L, xb)\n",
    "eq2 = diff(diff(L, yb_dot), t) - diff(L, yb)\n",
    "eq3 = diff(diff(L, thetab_dot), t) - diff(L, thetab)\n",
    "eq4 = diff(diff(L, q_dot), t) - diff(L, q)\n",
    "\n",
    "sp.pprint(\"Equations of motion\")\n",
    "sp.pprint(eq1)\n",
    "sp.pprint(eq2)\n",
    "sp.pprint(eq3)\n",
    "sp.pprint(eq4)"
   ]
  },
  {
   "cell_type": "markdown",
   "metadata": {},
   "source": [
    "# Controller\n",
    "Now that we have the EoMs of the aerial manipulator, we can set up the "
   ]
  }
 ],
 "metadata": {
  "kernelspec": {
   "display_name": "usr",
   "language": "python",
   "name": "python3"
  },
  "language_info": {
   "codemirror_mode": {
    "name": "ipython",
    "version": 3
   },
   "file_extension": ".py",
   "mimetype": "text/x-python",
   "name": "python",
   "nbconvert_exporter": "python",
   "pygments_lexer": "ipython3",
   "version": "3.10.12"
  }
 },
 "nbformat": 4,
 "nbformat_minor": 2
}
