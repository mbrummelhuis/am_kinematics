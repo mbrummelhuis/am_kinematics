{
 "cells": [
  {
   "cell_type": "markdown",
   "metadata": {},
   "source": [
    "# Introduction\n",
    "In this notebook we do the derivation of the kinematics of the omnidrone for aerial tactile servoing. The final aim is to achieve a method for obtaining references for the controlled state velocities of the system (since the aerial platform is a quadrotor there is underactuation), which can be done by Jacobian (pseudo-)inverse methods. We regard the aerial manipulator as one system, thus the Jacobian is best derived from the centralised kinematics.\n",
    "\n",
    "## Robot model\n",
    "The robot is modelled as a kinematic chain where the first link is the drone platform, which is 'connected' to the environment by a 6DOF freedom joint (i.e. the drone can move independently from the environment). Then, the manipulator consists of three links (with lengths L1, L2, L3) with three revolute joints.\n",
    "\n",
    "We use Denavit-Hartenberg for deriving the kinematics. Special attention needs to be paid to the intended workspace, because the Euler angle representation of the end-effector orientation implies singularities when the pitch (i.e. rotation about y) is $\\pi/2 \\vee -\\pi/2$. It is wise to define reference frames (in particular, the manipulator base frame $\\mathcal{F}_{0}$) such that these singularities are not close to the intended operational space in the workspace. We derive the kinematics in the homogeneous transformation matrix form, then we get the 6-dimensional kinematic function from the homogeneous transformation matrix. Finally, we can derive the Jacobian matrix by taking the partial derivative of each kinematic function element w.r.t. each state.\n",
    "\n",
    "## State definition\n",
    "The state of the aerial manipulator $\\boldsymbol{\\xi}$ is defined as\n",
    "$$\n",
    "\\boldsymbol{\\xi} = \\begin{bmatrix} x_{b} & y_{b} & z_{b} & \\psi_{b} & \\theta_{b} & \\varphi_{b} & q_{1} & q_{2} & q_{3}\\end{bmatrix}^{\\top}\n",
    "$$\n",
    "with $x_{b}$, $y_{b}$, and $z_{b}$ the position of the drone body CoM in the inertial frame, angles $\\psi_{b}$, $\\theta_{b}$, and $\\varphi_{b}$ the Euler angles (yaw, pitch, roll) of the drone rotation with intrinsic ZYX convention, and $q_{1}$, $q_{2}$, and $q_{3}$ the angles of the revolute joints of the manipulator.\n",
    "\n",
    "We start by setting up the relevant symbols and elementary rotation matrices with Sympy.\n",
    "\n",
    "### Rotation convention\n",
    "The yaw, pitch, roll (YPR) convention common in aerospace follows an intrinsic (that is, about the moving coordinate system) rotation about the body Z, Y, and X axes. \n",
    "\n",
    "For the calculation of the associated rotation matrices see the code below. This also shows that the YPR convention is equal to an extrinsic (that is, about the inertial coordinate system) rotation in the order XYZ.\n",
    "\n",
    "The convention used here thus corresponds to the Euler ZYX mentioned in this source: http://web.mit.edu/2.05/www/Handout/HO2.PDF \\\n",
    "And this corresponds to the rotation matrix derived here: https://link.springer.com/article/10.1007/s11071-022-08212-w"
   ]
  },
  {
   "cell_type": "code",
   "execution_count": 2,
   "metadata": {},
   "outputs": [],
   "source": [
    "import sympy as sp\n",
    "import numpy as np\n",
    "\n",
    "sp.init_printing(use_latex=True)\n",
    "\n",
    "L1_length = 0.110\n",
    "L2_length = 0.311\n",
    "L3_length = 0.273\n",
    "\n",
    "#q1, q2, q3 = sp.symbols('q_1 q_2 q_3', real=True)\n",
    "x_b, y_b, z_b, yaw, pitch, roll, q1, q2, q3 = sp.symbols('x_b y_b z_b yaw pitch roll q_1 q_2 q_3', real=True)\n",
    "state_vector = sp.Matrix([x_b, y_b, z_b, yaw, pitch, roll, q1, q2, q3])\n",
    "joint_vector = sp.Matrix([q1, q2, q3])\n",
    "\n",
    "# Secondary states\n",
    "x_be, y_be, z_be = sp.symbols('x^{b}_{be} y^{b}_{be} z^{b}_{be}')\n",
    "\n",
    "# Parameters\n",
    "L1, L2, L3 = sp.symbols('L_1 L_2 L_3', real=True, positive=True)\n",
    "\n",
    "# Elementary rotation matrices\n",
    "def Rx(x):\n",
    "    return sp.Matrix([[1, 0, 0], [0, sp.cos(x), -sp.sin(x)], [0, sp.sin(x), sp.cos(x)]])\n",
    "\n",
    "def Ry(y):\n",
    "    return sp.Matrix([[sp.cos(y), 0, sp.sin(y)], [0, 1, 0], [-sp.sin(y), 0, sp.cos(y)]])\n",
    "\n",
    "def Rz(z):\n",
    "    return sp.Matrix([[sp.cos(z), -sp.sin(z), 0], [sp.sin(z), sp.cos(z), 0], [0, 0, 1]])"
   ]
  },
  {
   "cell_type": "markdown",
   "metadata": {},
   "source": [
    "### Frame definitions\n",
    "The nominal configuration (i.e. all joint angles 0) is defined as the arm pointing upwards and being fully extended. The frames for this derivation are defined as follows:\n",
    "- **Inertial frame** $\\mathcal{F}_{I}$ - Frame attached to the world, unmoving, North-East-Down for positive XYZ axes.\n",
    "- **Body frame** $\\mathcal{F}_{b}$ - Frame attached to the drone body in its center of mass (CoM), moves and rotates with body, Forward-Right-Down for positive XYZ axes\n",
    "- **Manipulator base frame** $\\mathcal{F}_{0}$ - Origin coincides with body frame, but rotated to Up-Right-Forward for positive XYZ to align Z axis with rotation of $q_{1}$ and set Y axis such that Euler angle singularity in $\\mathcal{F}_{0}$ is placed away from operational workspace. Does not rotate with $q_{1}$\n",
    "- **Frame 1** $\\mathcal{F}_{1}$ - Z-axis coincides with axis of rotation of $q_{2}$. X points towards $q_{3}$ when $q_{2}=0$. Does not rotate with $q_{2}$\n",
    "- **Frame 2** $\\mathcal{F}_{2}$ - Z-axis coincides with axis of rotation of $q_{3}$. X points towards end-effector. Does not rotate with $q_{3}$\n",
    "- **Frame 3** $\\mathcal{F}_{3}$ - Oriented equal to $\\mathcal{F}_{2}$ when $q_{3}=0$. Origin at end-effector. \n",
    "- **Frame e** $\\mathcal{F}_{e}$ - Oriented with positive Z pointing outwards, X in direction of negative $Z_{3}$ and Y completing right handed\n",
    "\n",
    "<p align=\"center\">\n",
    "    <img title=\"Kinematic diagram\" src=\"images/kinematic_diagram.png\">\n",
    "</p>\n",
    "\n",
    "### Angular velocity\n",
    "Taking the time-derivative of expressions of Euler angles does not yield angular velocities. A transformation matrix exists to convert between them. For the YPR convention described above, this looks like:\n",
    "\n",
    "$$\n",
    "T(\\phi_{b})=\\begin{bmatrix} 0 & -\\sin(\\psi) & \\cos(\\psi) \\cos(\\theta) \\\\\n",
    "                            0 & \\cos(\\psi) & \\sin(\\psi) \\cos(\\theta) \\\\\n",
    "                            1 & 0 & 0 \\end{bmatrix}\n",
    "$$\n",
    "\n",
    "Source: https://ieeexplore.ieee.org/document/6608869"
   ]
  },
  {
   "cell_type": "code",
   "execution_count": 1,
   "metadata": {},
   "outputs": [
    {
     "ename": "NameError",
     "evalue": "name 'Rz' is not defined",
     "output_type": "error",
     "traceback": [
      "\u001b[0;31m---------------------------------------------------------------------------\u001b[0m",
      "\u001b[0;31mNameError\u001b[0m                                 Traceback (most recent call last)",
      "Cell \u001b[0;32mIn[1], line 2\u001b[0m\n\u001b[1;32m      1\u001b[0m \u001b[38;5;66;03m# Setting up transformation for free body\u001b[39;00m\n\u001b[0;32m----> 2\u001b[0m Rz_yaw \u001b[38;5;241m=\u001b[39m \u001b[43mRz\u001b[49m(yaw)\n\u001b[1;32m      3\u001b[0m Ry_pitch \u001b[38;5;241m=\u001b[39m Ry(pitch)\n\u001b[1;32m      4\u001b[0m Rx_roll \u001b[38;5;241m=\u001b[39m Rx(roll)\n",
      "\u001b[0;31mNameError\u001b[0m: name 'Rz' is not defined"
     ]
    }
   ],
   "source": [
    "# Setting up transformation for free body\n",
    "Rz_yaw = Rz(yaw)\n",
    "Ry_pitch = Ry(pitch)\n",
    "Rx_roll = Rx(roll)\n",
    "\n",
    "# Intrinsic ZYX: Postmultiplication\n",
    "R_Ib = Rz_yaw * Ry_pitch * Rx_roll\n",
    "\n",
    "# Transformation between euler angle time derivatives and angular velocity\n",
    "T_euler = sp.Matrix([[0, -sp.sin(yaw), sp.cos(yaw)*sp.cos(pitch)],\n",
    "                     [0, sp.cos(yaw), sp.sin(yaw)*sp.cos(pitch)],\n",
    "                     [1, 0, -sp.sin(pitch)]])\n",
    "\n",
    "T_A = sp.Matrix([[sp.eye(3), sp.zeros(3, 3)],\n",
    "                 [sp.zeros(3, 3), T_euler]])\n",
    "\n",
    "# Homogeneous transformation matrix for inertial to body frame (i.e. 6DOF freedom joint)\n",
    "H_Ib = sp.Matrix([[sp.cos(yaw)*sp.cos(pitch), sp.cos(yaw)*sp.sin(pitch)*sp.sin(roll)-sp.sin(yaw)*sp.cos(roll), sp.cos(yaw)*sp.sin(pitch)*sp.cos(roll)+sp.sin(yaw)*sp.sin(roll), x_b],\n",
    "                  [sp.sin(yaw)*sp.cos(pitch), sp.sin(yaw)*sp.sin(pitch)*sp.sin(roll)+sp.cos(yaw)*sp.cos(roll), sp.sin(yaw)*sp.sin(pitch)*sp.cos(roll)-sp.cos(yaw)*sp.sin(roll), y_b],\n",
    "                  [-sp.sin(pitch), sp.cos(pitch)*sp.sin(roll), sp.cos(pitch)*sp.cos(roll), z_b],\n",
    "                  [0, 0, 0, 1]])"
   ]
  },
  {
   "cell_type": "code",
   "execution_count": null,
   "metadata": {},
   "outputs": [],
   "source": [
    "# Denavit-Hartenberg approach\n",
    "# Parameters\n",
    "DH_theta = [q1, q2, q3]\n",
    "DH_alpha = [-sp.pi/2, sp.pi/2, 0]\n",
    "DH_r = [L1, L2, L3]\n",
    "DH_d = [0, 0, 0]\n",
    "\n",
    "# Manipulator base frame is rotated w.r.t. body frame but origins coincide\n",
    "H_b0 = sp.Matrix([[ 0, 0, 1, 0],\n",
    "                  [ 0, 1, 0, 0],\n",
    "                  [-1, 0, 0, 0],\n",
    "                  [ 0, 0, 0, 1]])\n",
    "\n",
    "# Frame 0: X pointing right, Z pointing forward, Y pointing down (i.e. rotation around Zb by pi/2, then rotation around Xb' by pi/2)\n",
    "# I.e. intrinisic rotation so multiply Rz * Rx'\n",
    "# Frame 1: Attached at Q2, Z pointing down, X pointing right (rotation around X0 of -pi/2, then translation along x0' by L1)\n",
    "\n",
    "H_01 = sp.Matrix([[sp.cos(DH_theta[0]), -sp.sin(DH_theta[0])*sp.cos(DH_alpha[0]), sp.sin(DH_theta[0])*sp.sin(DH_alpha[0]), DH_r[0]*sp.cos(DH_theta[0])],\n",
    "                  [sp.sin(DH_theta[0]), sp.cos(DH_theta[0])*sp.cos(DH_alpha[0]), -sp.cos(DH_theta[0])*sp.sin(DH_alpha[0]), DH_r[0]*sp.sin(DH_theta[0])],\n",
    "                  [0, sp.sin(DH_alpha[0]), sp.cos(DH_alpha[0]), DH_d[0]],\n",
    "                  [0, 0, 0, 1]])\n",
    "\n",
    "# Frame 2: Attached at Q3, Z pointing forward, X pointing right (rotation around X1 of pi/2, then translation along x1' by L2)\n",
    "H_12 = sp.Matrix([[sp.cos(DH_theta[1]), -sp.sin(DH_theta[1])*sp.cos(DH_alpha[1]), sp.sin(DH_theta[1])*sp.sin(DH_alpha[1]), DH_r[1]*sp.cos(DH_theta[1])],\n",
    "                  [sp.sin(DH_theta[1]), sp.cos(DH_theta[1])*sp.cos(DH_alpha[1]), -sp.cos(DH_theta[1])*sp.sin(DH_alpha[1]), DH_r[1]*sp.sin(DH_theta[1])],\n",
    "                  [0, sp.sin(DH_alpha[1]), sp.cos(DH_alpha[1]), DH_d[1]],\n",
    "                  [0, 0, 0, 1]])\n",
    "\n",
    "# Frame 3: Attached at EE, Z pointing forward, X pointing right (translation along x2 by L3)\n",
    "H_23 = sp.Matrix([[sp.cos(DH_theta[2]), -sp.sin(DH_theta[2])*sp.cos(DH_alpha[2]), sp.sin(DH_theta[2])*sp.sin(DH_alpha[2]), DH_r[2]*sp.cos(DH_theta[2])],\n",
    "                  [sp.sin(DH_theta[2]), sp.cos(DH_theta[2])*sp.cos(DH_alpha[2]), -sp.cos(DH_theta[2])*sp.sin(DH_alpha[2]), DH_r[2]*sp.sin(DH_theta[2])],\n",
    "                  [0, sp.sin(DH_alpha[2]), sp.cos(DH_alpha[2]), DH_d[2]],\n",
    "                  [0, 0, 0, 1]])\n",
    "\n",
    "# Transformation between 3 and e - To align e with frame e from direct derivation\n",
    "H_3e = sp.Matrix([[ 0,  0, 1, 0],\n",
    "                  [ 0,  1, 0, 0],\n",
    "                  [-1,  0, 0, 0],\n",
    "                  [ 0,  0, 0, 1]])\n",
    "\n",
    "# Equivalent transformation\n",
    "H_be = (H_b0 * H_01 * H_12 * H_23 * H_3e).subs([(L1, L1_length), (L2, L2_length), (L3, L3_length)])"
   ]
  },
  {
   "cell_type": "code",
   "execution_count": null,
   "metadata": {},
   "outputs": [
    {
     "name": "stdout",
     "output_type": "stream",
     "text": [
      "pos_1 = np.array([L_1*cos(q_1), L_1*sin(q_1), 0])\n",
      "pos_2 = np.array([L_1*cos(q_1) + L_2*cos(q_1)*cos(q_2), L_1*sin(q_1) + L_2*sin(q_1)*cos(q_2), -L_2*sin(q_2)])\n",
      "pos_3 = np.array([L_1*cos(q_1) + L_2*cos(q_1)*cos(q_2) - L_3*sin(q_1)*sin(q_3) + L_3*cos(q_1)*cos(q_2)*cos(q_3), L_1*sin(q_1) + L_2*sin(q_1)*cos(q_2) + L_3*sin(q_1)*cos(q_2)*cos(q_3) + L_3*sin(q_3)*cos(q_1), -L_2*sin(q_2) - L_3*sin(q_2)*cos(q_3))\n"
     ]
    }
   ],
   "source": [
    "# Get FK for all joint positions\n",
    "FK_1 = sp.Matrix([H_01[0,3],\n",
    "                  H_01[1,3],\n",
    "                  H_01[2,3]])\n",
    "\n",
    "H_02 = H_01 * H_12\n",
    "FK_2 = sp.Matrix([H_02[0,3],\n",
    "                  H_02[1,3],\n",
    "                  H_02[2,3]])\n",
    "H_03 = H_02 * H_23\n",
    "FK_3 = sp.Matrix([H_03[0,3],\n",
    "                  H_03[1,3],\n",
    "                  H_03[2,3]])\n",
    "# Print to easily copy over to ROS2 node\n",
    "with sp.evaluate(False):\n",
    "    print(f\"pos_1 = np.array([{FK_1[0]}, {FK_1[1]}, {FK_1[2]}])\")\n",
    "    print(f\"pos_2 = np.array([{FK_2[0]}, {FK_2[1]}, {FK_2[2]}])\")\n",
    "    print(f\"pos_3 = np.array([{FK_3[0]}, {FK_3[1]}, {FK_3[2]})\")"
   ]
  },
  {
   "cell_type": "code",
   "execution_count": null,
   "metadata": {},
   "outputs": [
    {
     "name": "stdout",
     "output_type": "stream",
     "text": [
      "Unit test 1 passed\n",
      "Unit test 2 passed\n",
      "Unit test 3 passed\n",
      "Unit test 4 passed\n"
     ]
    }
   ],
   "source": [
    "# Testing if the DH formulation yielded the same result as the direct derivation\n",
    "# Unit test 1\n",
    "q1_val = 0.0\n",
    "q2_val = 0\n",
    "q3_val = 0\n",
    "H_be_subs = H_be.subs([(q1, q1_val), (q2, q2_val), (q3, q3_val)]).evalf()\n",
    "if (H_be_subs[2,3] + (L1_length+L2_length+L3_length)< 0.0001):\n",
    "    print(\"Unit test 1 passed\")\n",
    "else:\n",
    "    print(\"Unit test 1 failed\")\n",
    "\n",
    "# Unit test 2\n",
    "q1_val = sp.pi/2\n",
    "q2_val = 0\n",
    "q3_val = 0\n",
    "H_be_subs = H_be.subs([(q1, q1_val), (q2, q2_val), (q3, q3_val)]).evalf()\n",
    "if (H_be_subs[1,3] - (L1_length+L2_length+L3_length)< 0.0001):\n",
    "    print(\"Unit test 2 passed\")\n",
    "else:\n",
    "    print(\"Unit test 2 failed\")\n",
    "\n",
    "# Unit test 3\n",
    "q1_val = sp.pi/2-sp.pi/6\n",
    "q2_val = 0.0\n",
    "q3_val = sp.pi/6\n",
    "H_be_subs = H_be.subs([(q1, q1_val), (q2, q2_val), (q3, q3_val)]).evalf()\n",
    "if ((H_be_subs[1,3] - (sp.cos(sp.pi/6).evalf()*(L1_length+L2_length)+L3_length)< 0.0001) and (H_be_subs[2,3] + (sp.sin(sp.pi/6).evalf()*(L1_length+L2_length))< 0.0001)):\n",
    "    print(\"Unit test 3 passed\")\n",
    "else:\n",
    "    print(\"Unit test 3 failed\")\n",
    "\n",
    "# Unit test 4\n",
    "q1_val = sp.pi/2\n",
    "q2_val = sp.pi/6\n",
    "q3_val = 0.0\n",
    "H_be_subs = H_be.subs([(q1, q1_val), (q2, q2_val), (q3, q3_val)]).evalf()\n",
    "if ((H_be_subs[0,3] + (sp.sin(sp.pi/6).evalf()*(L3_length+L2_length))< 0.0001) and (H_be_subs[1,3] - (sp.cos(sp.pi/6).evalf()*(L3_length+L2_length)+L1_length)< 0.0001)):\n",
    "    print(\"Unit test 4 passed\")\n",
    "else:\n",
    "    print(\"Unit test 4 failed\")"
   ]
  },
  {
   "cell_type": "markdown",
   "metadata": {},
   "source": [
    "### Manipulator kinematics\n",
    "First we derive the kinematics function of the manipulator in $\\mathcal{F}_{0}$. This is needed for the manipulator position controller that is used for homing and positioning the manipulator outside of the contact operation.\n",
    "Since we have 3 degrees of freedom in the manipulator, we can only control three out of the six total pose components. Intuitively, we can immediately see that control of the Z coordinate is delegated to $q_{2}$, and it coupled with the roll (rotation about $x_{0}$). We choose to control this DoF by defining the roll angle.\n",
    "Next, we can see that the yaw (rotation around $z_{0}$) is dependent on a combination of $q_{1}$ and $q_{3}$. This is coupled with the $x_{0}$ and $y_{0}$ positions.\n",
    "Finally, the rotation around $y_{0}$ is dependent on $q_{2}$ as well, but this is only controllable in certain configurations.\n",
    "\n",
    "Then, how can we devise an inverse kinematics algorithm for this? "
   ]
  },
  {
   "cell_type": "code",
   "execution_count": 7,
   "metadata": {},
   "outputs": [
    {
     "name": "stdout",
     "output_type": "stream",
     "text": [
      "⎡                              -(0.273⋅cos(q₃) + 0.311)⋅sin(q₂)               \n",
      "⎢                                                                             \n",
      "⎢0.273⋅sin(q₁)⋅cos(q₂)⋅cos(q₃) + 0.311⋅sin(q₁)⋅cos(q₂) + 0.11⋅sin(q₁) + 0.273⋅\n",
      "⎢                                                                             \n",
      "⎢0.273⋅sin(q₁)⋅sin(q₃) - 0.273⋅cos(q₁)⋅cos(q₂)⋅cos(q₃) - 0.311⋅cos(q₁)⋅cos(q₂)\n",
      "⎢                                                                             \n",
      "⎢                             atan2(-sin(q₁)⋅sin(q₂), -cos(q₂))               \n",
      "⎢                                                                             \n",
      "⎢                                   -asin(sin(q₂)⋅cos(q₁))                    \n",
      "⎢                                                                             \n",
      "⎣atan2(sin(q₁)⋅cos(q₃) + sin(q₃)⋅cos(q₁)⋅cos(q₂), sin(q₁)⋅sin(q₃) - cos(q₁)⋅co\n",
      "\n",
      "               ⎤\n",
      "               ⎥\n",
      "sin(q₃)⋅cos(q₁)⎥\n",
      "               ⎥\n",
      " - 0.11⋅cos(q₁)⎥\n",
      "               ⎥\n",
      "               ⎥\n",
      "               ⎥\n",
      "               ⎥\n",
      "               ⎥\n",
      "s(q₂)⋅cos(q₃)) ⎦\n",
      "FK_manipulator[ 0 ] = f( {q_3, q_2} )\n",
      "FK_manipulator[ 1 ] = f( {q_3, q_1, q_2} )\n",
      "FK_manipulator[ 2 ] = f( {q_3, q_1, q_2} )\n",
      "FK_manipulator[ 3 ] = f( {q_2, q_1} )\n",
      "FK_manipulator[ 4 ] = f( {q_2, q_1} )\n",
      "FK_manipulator[ 5 ] = f( {q_3, q_1, q_2} )\n",
      "jacobian[0,1]=(-0.273*cos(q_3) - 0.311)*cos(q_2)\n",
      "jacobian[0,2]=0.273*sin(q_2)*sin(q_3)\n",
      "jacobian[1,0]=-0.273*sin(q_1)*sin(q_3) + 0.273*cos(q_1)*cos(q_2)*cos(q_3) + 0.311*cos(q_1)*cos(q_2) + 0.11*cos(q_1)\n",
      "jacobian[1,1]=-0.273*sin(q_1)*sin(q_2)*cos(q_3) - 0.311*sin(q_1)*sin(q_2)\n",
      "jacobian[1,2]=-0.273*sin(q_1)*sin(q_3)*cos(q_2) + 0.273*cos(q_1)*cos(q_3)\n",
      "jacobian[2,0]=0.273*sin(q_1)*cos(q_2)*cos(q_3) + 0.311*sin(q_1)*cos(q_2) + 0.11*sin(q_1) + 0.273*sin(q_3)*cos(q_1)\n",
      "jacobian[2,1]=0.273*sin(q_2)*cos(q_1)*cos(q_3) + 0.311*sin(q_2)*cos(q_1)\n",
      "jacobian[2,2]=0.273*sin(q_1)*cos(q_3) + 0.273*sin(q_3)*cos(q_1)*cos(q_2)\n",
      "jacobian[3,0]=sin(q_2)*cos(q_1)*cos(q_2)/(sin(q_1)**2*sin(q_2)**2 + cos(q_2)**2)\n",
      "jacobian[3,1]=sin(q_1)*sin(q_2)**2/(sin(q_1)**2*sin(q_2)**2 + cos(q_2)**2) + sin(q_1)*cos(q_2)**2/(sin(q_1)**2*sin(q_2)**2 + cos(q_2)**2)\n",
      "jacobian[4,0]=sin(q_1)*sin(q_2)/sqrt(-sin(q_2)**2*cos(q_1)**2 + 1)\n",
      "jacobian[4,1]=-cos(q_1)*cos(q_2)/sqrt(-sin(q_2)**2*cos(q_1)**2 + 1)\n",
      "jacobian[5,0]=(sin(q_1)*sin(q_3) - cos(q_1)*cos(q_2)*cos(q_3))*(-sin(q_1)*sin(q_3)*cos(q_2) + cos(q_1)*cos(q_3))/((sin(q_1)*sin(q_3) - cos(q_1)*cos(q_2)*cos(q_3))**2 + (sin(q_1)*cos(q_3) + sin(q_3)*cos(q_1)*cos(q_2))**2) + (-sin(q_1)*cos(q_3) - sin(q_3)*cos(q_1)*cos(q_2))*(sin(q_1)*cos(q_2)*cos(q_3) + sin(q_3)*cos(q_1))/((sin(q_1)*sin(q_3) - cos(q_1)*cos(q_2)*cos(q_3))**2 + (sin(q_1)*cos(q_3) + sin(q_3)*cos(q_1)*cos(q_2))**2)\n",
      "jacobian[5,1]=-(sin(q_1)*sin(q_3) - cos(q_1)*cos(q_2)*cos(q_3))*sin(q_2)*sin(q_3)*cos(q_1)/((sin(q_1)*sin(q_3) - cos(q_1)*cos(q_2)*cos(q_3))**2 + (sin(q_1)*cos(q_3) + sin(q_3)*cos(q_1)*cos(q_2))**2) + (-sin(q_1)*cos(q_3) - sin(q_3)*cos(q_1)*cos(q_2))*sin(q_2)*cos(q_1)*cos(q_3)/((sin(q_1)*sin(q_3) - cos(q_1)*cos(q_2)*cos(q_3))**2 + (sin(q_1)*cos(q_3) + sin(q_3)*cos(q_1)*cos(q_2))**2)\n",
      "jacobian[5,2]=(-sin(q_1)*sin(q_3) + cos(q_1)*cos(q_2)*cos(q_3))*(sin(q_1)*sin(q_3) - cos(q_1)*cos(q_2)*cos(q_3))/((sin(q_1)*sin(q_3) - cos(q_1)*cos(q_2)*cos(q_3))**2 + (sin(q_1)*cos(q_3) + sin(q_3)*cos(q_1)*cos(q_2))**2) + (-sin(q_1)*cos(q_3) - sin(q_3)*cos(q_1)*cos(q_2))*(sin(q_1)*cos(q_3) + sin(q_3)*cos(q_1)*cos(q_2))/((sin(q_1)*sin(q_3) - cos(q_1)*cos(q_2)*cos(q_3))**2 + (sin(q_1)*cos(q_3) + sin(q_3)*cos(q_1)*cos(q_2))**2)\n",
      "Rotation matrix of e in b\n",
      "Matrix([[-cos(q_2), sin(q_2)*sin(q_3), -sin(q_2)*cos(q_3)], [-sin(q_1)*sin(q_2), -sin(q_1)*sin(q_3)*cos(q_2) + cos(q_1)*cos(q_3), sin(q_1)*cos(q_2)*cos(q_3) + sin(q_3)*cos(q_1)], [sin(q_2)*cos(q_1), sin(q_1)*cos(q_3) + sin(q_3)*cos(q_1)*cos(q_2), sin(q_1)*sin(q_3) - cos(q_1)*cos(q_2)*cos(q_3)]])\n"
     ]
    }
   ],
   "source": [
    "# Forward kinematics function of the manipulator (in the body frame)\n",
    "FK_manipulator = sp.Matrix([H_be[0,3],\n",
    "                H_be[1,3],\n",
    "                H_be[2,3],\n",
    "                sp.atan2(H_be[1,0], H_be[0,0]), # yaw\n",
    "                -sp.asin(H_be[2,0]), # pitch\n",
    "                sp.atan2(H_be[2,1], H_be[2,2])]) # roll\n",
    "\n",
    "FK_manipulator = sp.simplify(sp.trigsimp(FK_manipulator))\n",
    "sp.pprint(FK_manipulator)\n",
    "for i in range(len(FK_manipulator)):\n",
    "    print(\"FK_manipulator[\", i, \"] = f(\", FK_manipulator[i].free_symbols, \")\")\n",
    "\n",
    "q1_val = sp.pi/2-sp.pi/6\n",
    "q2_val = 0.0\n",
    "q3_val = sp.pi/6\n",
    "FK_manipulator_subs = FK_manipulator.subs([(q1, q1_val), (q2, q2_val), (q3, q3_val)]).evalf()\n",
    "\n",
    "J_manipulator = FK_manipulator.jacobian(joint_vector)\n",
    "jacobian_object_name = \"jacobian\"\n",
    "for i in range(J_manipulator.shape[0]):\n",
    "    for j in range(J_manipulator.shape[1]):\n",
    "        if J_manipulator[i,j] != 0:\n",
    "            print(f\"{jacobian_object_name}[{i},{j}]={J_manipulator[i,j]}\")\n",
    "\n",
    "print(\"Rotation matrix of e in b\")\n",
    "print(H_be[0:3,0:3])\n"
   ]
  },
  {
   "cell_type": "markdown",
   "metadata": {},
   "source": [
    "### Printing forward manipulator kinematics"
   ]
  },
  {
   "cell_type": "code",
   "execution_count": 8,
   "metadata": {},
   "outputs": [
    {
     "name": "stdout",
     "output_type": "stream",
     "text": [
      "forward_kinematics[0]=-(0.273*cos(q_3) + 0.311)*sin(q_2)\n",
      "forward_kinematics[1]=0.273*sin(q_1)*cos(q_2)*cos(q_3) + 0.311*sin(q_1)*cos(q_2) + 0.11*sin(q_1) + 0.273*sin(q_3)*cos(q_1)\n",
      "forward_kinematics[2]=0.273*sin(q_1)*sin(q_3) - 0.273*cos(q_1)*cos(q_2)*cos(q_3) - 0.311*cos(q_1)*cos(q_2) - 0.11*cos(q_1)\n",
      "forward_kinematics[3]=atan2(-sin(q_1)*sin(q_2), -cos(q_2))\n",
      "forward_kinematics[4]=-asin(sin(q_2)*cos(q_1))\n",
      "forward_kinematics[5]=atan2(sin(q_1)*cos(q_3) + sin(q_3)*cos(q_1)*cos(q_2), sin(q_1)*sin(q_3) - cos(q_1)*cos(q_2)*cos(q_3))\n"
     ]
    }
   ],
   "source": [
    "# Printing the forward manopulator kinematics\n",
    "for i, line in enumerate(FK_manipulator):\n",
    "    print(f\"forward_kinematics[{i}]={line}\")"
   ]
  },
  {
   "cell_type": "code",
   "execution_count": 15,
   "metadata": {},
   "outputs": [
    {
     "name": "stdout",
     "output_type": "stream",
     "text": [
      "State dependencies of centralised kinematics\n",
      "xe = f({yaw, x_b, q_2, roll, q_3, q_1, pitch})\n",
      "ye = f({y_b, yaw, q_2, roll, q_3, q_1, pitch})\n",
      "ze = f({z_b, q_2, roll, q_3, q_1, pitch})\n",
      "yawe = f({yaw, q_2, roll, q_1, pitch})\n",
      "pitche = f({roll, q_1, q_2, pitch})\n",
      "rolle = f({q_2, roll, q_3, q_1, pitch})\n",
      "                             \n",
      "Denominators for yaw and roll\n",
      "-cos(q₂)\n",
      "sin(q₁)⋅sin(q₃) - cos(q₁)⋅cos(q₂)⋅cos(q₃)\n",
      "\n",
      "Centralised Jacobian shape: (6, 9)\n",
      "The Jacobian is full rank (rank=6)\n"
     ]
    }
   ],
   "source": [
    "# Forward kinematics function of the combined kinematics (in the inertial frame)\n",
    "H_Ie = H_Ib * H_be\n",
    "FK_centralised = sp.Matrix([H_Ie[0,3],\n",
    "                H_Ie[1,3],\n",
    "                H_Ie[2,3],\n",
    "                sp.atan2(H_Ie[1,0], H_Ie[0,0]), # yaw\n",
    "                -sp.asin(H_Ie[2,0]), # pitch\n",
    "                sp.atan2(H_Ie[2,1], H_Ie[2,2])]) # roll\n",
    "FK_centralised = sp.trigsimp(sp.expand(FK_centralised))\n",
    "\n",
    "sp.pprint(\"State dependencies of centralised kinematics\")\n",
    "print(f\"xe = f({FK_centralised[0,0].free_symbols})\")\n",
    "print(f\"ye = f({FK_centralised[1,0].free_symbols})\")\n",
    "print(f\"ze = f({FK_centralised[2,0].free_symbols})\")\n",
    "print(f\"yawe = f({FK_centralised[3,0].free_symbols})\")\n",
    "print(f\"pitche = f({FK_centralised[4,0].free_symbols})\")\n",
    "print(f\"rolle = f({FK_centralised[5,0].free_symbols})\")\n",
    "\n",
    "sp.pprint(\"\\nDenominators for yaw and roll\")\n",
    "sp.pprint(H_be[0,0])\n",
    "sp.pprint(H_be[2,2])\n",
    "\n",
    "# Jacobian calculation for velocity\n",
    "J_A_centralised = FK_centralised.jacobian([x_b, y_b, z_b, yaw, pitch, roll, q1, q2, q3])\n",
    "\n",
    "print(f\"\\nCentralised Jacobian shape: {J_A_centralised.shape}\")\n",
    "\n",
    "# Instantaneous states\n",
    "xb_inst = 0.0\n",
    "yb_inst = 0.0\n",
    "zb_inst = 0.0\n",
    "yaw_inst = 0.0\n",
    "pitch_inst = 0.0\n",
    "roll_inst = 0.0\n",
    "q1_inst = sp.pi/2-sp.pi/6\n",
    "q2_inst = 0\n",
    "q3_inst = sp.pi/6\n",
    "\n",
    "# Substitute the instantaneous states\n",
    "J_A_centralised_inst = J_A_centralised.subs([(x_b, xb_inst), (y_b, yb_inst), (z_b, zb_inst), (yaw, yaw_inst), (pitch, pitch_inst), (roll, roll_inst), (q1, q1_inst), (q2, q2_inst), (q3, q3_inst)]).evalf()\n",
    "if J_A_centralised_inst.rank() == 6:\n",
    "    print(f\"The Jacobian is full rank (rank={J_A_centralised_inst.rank()})\")"
   ]
  },
  {
   "cell_type": "markdown",
   "metadata": {},
   "source": [
    "Could do kinematic singularity analysis here but maybe not necessary"
   ]
  },
  {
   "cell_type": "markdown",
   "metadata": {},
   "source": [
    "### Printing forward centralized kinematics\n",
    "And rotation matrix."
   ]
  },
  {
   "cell_type": "code",
   "execution_count": 18,
   "metadata": {},
   "outputs": [
    {
     "name": "stdout",
     "output_type": "stream",
     "text": [
      "self.forward_kinematics[0]=1.0*x_b + 0.273*sin(pitch)*sin(q_3)*sin(q_1 + roll)*cos(yaw) - 0.273*sin(pitch)*cos(q_2)*cos(q_3)*cos(yaw)*cos(q_1 + roll) - 0.311*sin(pitch)*cos(q_2)*cos(yaw)*cos(q_1 + roll) - 0.11*sin(pitch)*cos(yaw)*cos(q_1 + roll) - 0.273*sin(q_2)*cos(pitch)*cos(q_3)*cos(yaw) - 0.311*sin(q_2)*cos(pitch)*cos(yaw) - 0.273*sin(q_3)*sin(yaw)*cos(q_1 + roll) - 0.273*sin(yaw)*sin(q_1 + roll)*cos(q_2)*cos(q_3) - 0.311*sin(yaw)*sin(q_1 + roll)*cos(q_2) - 0.11*sin(yaw)*sin(q_1 + roll)\n",
      "self.forward_kinematics[1]=1.0*y_b + 0.273*sin(pitch)*sin(q_3)*sin(yaw)*sin(q_1 + roll) - 0.273*sin(pitch)*sin(yaw)*cos(q_2)*cos(q_3)*cos(q_1 + roll) - 0.311*sin(pitch)*sin(yaw)*cos(q_2)*cos(q_1 + roll) - 0.11*sin(pitch)*sin(yaw)*cos(q_1 + roll) - 0.273*sin(q_2)*sin(yaw)*cos(pitch)*cos(q_3) - 0.311*sin(q_2)*sin(yaw)*cos(pitch) + 0.273*sin(q_3)*cos(yaw)*cos(q_1 + roll) + 0.273*sin(q_1 + roll)*cos(q_2)*cos(q_3)*cos(yaw) + 0.311*sin(q_1 + roll)*cos(q_2)*cos(yaw) + 0.11*sin(q_1 + roll)*cos(yaw)\n",
      "self.forward_kinematics[2]=1.0*z_b + 0.273*sin(pitch)*sin(q_2)*cos(q_3) + 0.311*sin(pitch)*sin(q_2) + 0.273*sin(q_3)*sin(q_1 + roll)*cos(pitch) - 0.273*cos(pitch)*cos(q_2)*cos(q_3)*cos(q_1 + roll) - 0.311*cos(pitch)*cos(q_2)*cos(q_1 + roll) - 0.11*cos(pitch)*cos(q_1 + roll)\n",
      "self.forward_kinematics[3]=atan2(sin(pitch)*sin(q_2)*sin(yaw)*cos(q_1 + roll) - sin(q_2)*sin(q_1 + roll)*cos(yaw) - sin(yaw)*cos(pitch)*cos(q_2), sin(pitch)*sin(q_2)*cos(yaw)*cos(q_1 + roll) + sin(q_2)*sin(yaw)*sin(q_1 + roll) - cos(pitch)*cos(q_2)*cos(yaw))\n",
      "self.forward_kinematics[4]=-asin(sin(pitch)*cos(q_2) + sin(q_2)*cos(pitch)*cos(q_1 + roll))\n",
      "self.forward_kinematics[5]=atan2(-sin(pitch)*sin(q_2)*sin(q_3) + sin(q_3)*cos(pitch)*cos(q_2)*cos(q_1 + roll) + sin(q_1 + roll)*cos(pitch)*cos(q_3), sin(pitch)*sin(q_2)*cos(q_3) + sin(q_3)*sin(q_1 + roll)*cos(pitch) - cos(pitch)*cos(q_2)*cos(q_3)*cos(q_1 + roll))\n",
      "Rotation matrix of e in I\n",
      "Matrix([[-(sin(pitch)*sin(roll)*cos(yaw) - sin(yaw)*cos(roll))*sin(q_1)*sin(q_2) + (sin(pitch)*cos(roll)*cos(yaw) + sin(roll)*sin(yaw))*sin(q_2)*cos(q_1) - cos(pitch)*cos(q_2)*cos(yaw), (sin(q_1)*cos(q_3) + sin(q_3)*cos(q_1)*cos(q_2))*(sin(pitch)*cos(roll)*cos(yaw) + sin(roll)*sin(yaw)) + (sin(pitch)*sin(roll)*cos(yaw) - sin(yaw)*cos(roll))*(-sin(q_1)*sin(q_3)*cos(q_2) + cos(q_1)*cos(q_3)) + sin(q_2)*sin(q_3)*cos(pitch)*cos(yaw), (sin(q_1)*sin(q_3) - cos(q_1)*cos(q_2)*cos(q_3))*(sin(pitch)*cos(roll)*cos(yaw) + sin(roll)*sin(yaw)) + (sin(pitch)*sin(roll)*cos(yaw) - sin(yaw)*cos(roll))*(sin(q_1)*cos(q_2)*cos(q_3) + sin(q_3)*cos(q_1)) - sin(q_2)*cos(pitch)*cos(q_3)*cos(yaw)], [-(sin(pitch)*sin(roll)*sin(yaw) + cos(roll)*cos(yaw))*sin(q_1)*sin(q_2) + (sin(pitch)*sin(yaw)*cos(roll) - sin(roll)*cos(yaw))*sin(q_2)*cos(q_1) - sin(yaw)*cos(pitch)*cos(q_2), (sin(q_1)*cos(q_3) + sin(q_3)*cos(q_1)*cos(q_2))*(sin(pitch)*sin(yaw)*cos(roll) - sin(roll)*cos(yaw)) + (sin(pitch)*sin(roll)*sin(yaw) + cos(roll)*cos(yaw))*(-sin(q_1)*sin(q_3)*cos(q_2) + cos(q_1)*cos(q_3)) + sin(q_2)*sin(q_3)*sin(yaw)*cos(pitch), (sin(q_1)*sin(q_3) - cos(q_1)*cos(q_2)*cos(q_3))*(sin(pitch)*sin(yaw)*cos(roll) - sin(roll)*cos(yaw)) + (sin(pitch)*sin(roll)*sin(yaw) + cos(roll)*cos(yaw))*(sin(q_1)*cos(q_2)*cos(q_3) + sin(q_3)*cos(q_1)) - sin(q_2)*sin(yaw)*cos(pitch)*cos(q_3)], [sin(pitch)*cos(q_2) - sin(q_1)*sin(q_2)*sin(roll)*cos(pitch) + sin(q_2)*cos(pitch)*cos(q_1)*cos(roll), (sin(q_1)*cos(q_3) + sin(q_3)*cos(q_1)*cos(q_2))*cos(pitch)*cos(roll) + (-sin(q_1)*sin(q_3)*cos(q_2) + cos(q_1)*cos(q_3))*sin(roll)*cos(pitch) - sin(pitch)*sin(q_2)*sin(q_3), (sin(q_1)*sin(q_3) - cos(q_1)*cos(q_2)*cos(q_3))*cos(pitch)*cos(roll) + (sin(q_1)*cos(q_2)*cos(q_3) + sin(q_3)*cos(q_1))*sin(roll)*cos(pitch) + sin(pitch)*sin(q_2)*cos(q_3)]])\n"
     ]
    }
   ],
   "source": [
    "# Printing the forward manopulator kinematics\n",
    "for i, line in enumerate(FK_centralised):\n",
    "    print(f\"self.forward_kinematics[{i}]={line}\")\n",
    "\n",
    "print(\"Rotation matrix of e in I\")\n",
    "print(H_Ie[0:3,0:3])"
   ]
  },
  {
   "cell_type": "markdown",
   "metadata": {},
   "source": [
    "## Inverse kinematics\n",
    "Now that we have derived the Jacobian and it's not singular close to our desired workspace, we can define the inverse kinematics law for the system."
   ]
  },
  {
   "cell_type": "code",
   "execution_count": 16,
   "metadata": {},
   "outputs": [
    {
     "name": "stdout",
     "output_type": "stream",
     "text": [
      "Jacobian = J({yaw, q_2, roll, q_3, q_1, pitch})\n",
      "self.jacobian[0,0]=1.00000000000000\n",
      "self.jacobian[0,3]=-0.273*sin(pitch)*sin(q_3)*sin(yaw)*sin(q_1 + roll) + 0.273*sin(pitch)*sin(yaw)*cos(q_2)*cos(q_3)*cos(q_1 + roll) + 0.311*sin(pitch)*sin(yaw)*cos(q_2)*cos(q_1 + roll) + 0.11*sin(pitch)*sin(yaw)*cos(q_1 + roll) + 0.273*sin(q_2)*sin(yaw)*cos(pitch)*cos(q_3) + 0.311*sin(q_2)*sin(yaw)*cos(pitch) - 0.273*sin(q_3)*cos(yaw)*cos(q_1 + roll) - 0.273*sin(q_1 + roll)*cos(q_2)*cos(q_3)*cos(yaw) - 0.311*sin(q_1 + roll)*cos(q_2)*cos(yaw) - 0.11*sin(q_1 + roll)*cos(yaw)\n",
      "self.jacobian[0,4]=0.273*sin(pitch)*sin(q_2)*cos(q_3)*cos(yaw) + 0.311*sin(pitch)*sin(q_2)*cos(yaw) + 0.273*sin(q_3)*sin(q_1 + roll)*cos(pitch)*cos(yaw) - 0.273*cos(pitch)*cos(q_2)*cos(q_3)*cos(yaw)*cos(q_1 + roll) - 0.311*cos(pitch)*cos(q_2)*cos(yaw)*cos(q_1 + roll) - 0.11*cos(pitch)*cos(yaw)*cos(q_1 + roll)\n",
      "self.jacobian[0,5]=0.273*sin(pitch)*sin(q_3)*cos(yaw)*cos(q_1 + roll) + 0.273*sin(pitch)*sin(q_1 + roll)*cos(q_2)*cos(q_3)*cos(yaw) + 0.311*sin(pitch)*sin(q_1 + roll)*cos(q_2)*cos(yaw) + 0.11*sin(pitch)*sin(q_1 + roll)*cos(yaw) + 0.273*sin(q_3)*sin(yaw)*sin(q_1 + roll) - 0.273*sin(yaw)*cos(q_2)*cos(q_3)*cos(q_1 + roll) - 0.311*sin(yaw)*cos(q_2)*cos(q_1 + roll) - 0.11*sin(yaw)*cos(q_1 + roll)\n",
      "self.jacobian[0,6]=0.273*sin(pitch)*sin(q_3)*cos(yaw)*cos(q_1 + roll) + 0.273*sin(pitch)*sin(q_1 + roll)*cos(q_2)*cos(q_3)*cos(yaw) + 0.311*sin(pitch)*sin(q_1 + roll)*cos(q_2)*cos(yaw) + 0.11*sin(pitch)*sin(q_1 + roll)*cos(yaw) + 0.273*sin(q_3)*sin(yaw)*sin(q_1 + roll) - 0.273*sin(yaw)*cos(q_2)*cos(q_3)*cos(q_1 + roll) - 0.311*sin(yaw)*cos(q_2)*cos(q_1 + roll) - 0.11*sin(yaw)*cos(q_1 + roll)\n",
      "self.jacobian[0,7]=0.273*sin(pitch)*sin(q_2)*cos(q_3)*cos(yaw)*cos(q_1 + roll) + 0.311*sin(pitch)*sin(q_2)*cos(yaw)*cos(q_1 + roll) + 0.273*sin(q_2)*sin(yaw)*sin(q_1 + roll)*cos(q_3) + 0.311*sin(q_2)*sin(yaw)*sin(q_1 + roll) - 0.273*cos(pitch)*cos(q_2)*cos(q_3)*cos(yaw) - 0.311*cos(pitch)*cos(q_2)*cos(yaw)\n",
      "self.jacobian[0,8]=0.273*sin(pitch)*sin(q_3)*cos(q_2)*cos(yaw)*cos(q_1 + roll) + 0.273*sin(pitch)*sin(q_1 + roll)*cos(q_3)*cos(yaw) + 0.273*sin(q_2)*sin(q_3)*cos(pitch)*cos(yaw) + 0.273*sin(q_3)*sin(yaw)*sin(q_1 + roll)*cos(q_2) - 0.273*sin(yaw)*cos(q_3)*cos(q_1 + roll)\n",
      "self.jacobian[1,1]=1.00000000000000\n",
      "self.jacobian[1,3]=0.273*sin(pitch)*sin(q_3)*sin(q_1 + roll)*cos(yaw) - 0.273*sin(pitch)*cos(q_2)*cos(q_3)*cos(yaw)*cos(q_1 + roll) - 0.311*sin(pitch)*cos(q_2)*cos(yaw)*cos(q_1 + roll) - 0.11*sin(pitch)*cos(yaw)*cos(q_1 + roll) - 0.273*sin(q_2)*cos(pitch)*cos(q_3)*cos(yaw) - 0.311*sin(q_2)*cos(pitch)*cos(yaw) - 0.273*sin(q_3)*sin(yaw)*cos(q_1 + roll) - 0.273*sin(yaw)*sin(q_1 + roll)*cos(q_2)*cos(q_3) - 0.311*sin(yaw)*sin(q_1 + roll)*cos(q_2) - 0.11*sin(yaw)*sin(q_1 + roll)\n",
      "self.jacobian[1,4]=0.273*sin(pitch)*sin(q_2)*sin(yaw)*cos(q_3) + 0.311*sin(pitch)*sin(q_2)*sin(yaw) + 0.273*sin(q_3)*sin(yaw)*sin(q_1 + roll)*cos(pitch) - 0.273*sin(yaw)*cos(pitch)*cos(q_2)*cos(q_3)*cos(q_1 + roll) - 0.311*sin(yaw)*cos(pitch)*cos(q_2)*cos(q_1 + roll) - 0.11*sin(yaw)*cos(pitch)*cos(q_1 + roll)\n",
      "self.jacobian[1,5]=0.273*sin(pitch)*sin(q_3)*sin(yaw)*cos(q_1 + roll) + 0.273*sin(pitch)*sin(yaw)*sin(q_1 + roll)*cos(q_2)*cos(q_3) + 0.311*sin(pitch)*sin(yaw)*sin(q_1 + roll)*cos(q_2) + 0.11*sin(pitch)*sin(yaw)*sin(q_1 + roll) - 0.273*sin(q_3)*sin(q_1 + roll)*cos(yaw) + 0.273*cos(q_2)*cos(q_3)*cos(yaw)*cos(q_1 + roll) + 0.311*cos(q_2)*cos(yaw)*cos(q_1 + roll) + 0.11*cos(yaw)*cos(q_1 + roll)\n",
      "self.jacobian[1,6]=0.273*sin(pitch)*sin(q_3)*sin(yaw)*cos(q_1 + roll) + 0.273*sin(pitch)*sin(yaw)*sin(q_1 + roll)*cos(q_2)*cos(q_3) + 0.311*sin(pitch)*sin(yaw)*sin(q_1 + roll)*cos(q_2) + 0.11*sin(pitch)*sin(yaw)*sin(q_1 + roll) - 0.273*sin(q_3)*sin(q_1 + roll)*cos(yaw) + 0.273*cos(q_2)*cos(q_3)*cos(yaw)*cos(q_1 + roll) + 0.311*cos(q_2)*cos(yaw)*cos(q_1 + roll) + 0.11*cos(yaw)*cos(q_1 + roll)\n",
      "self.jacobian[1,7]=0.273*sin(pitch)*sin(q_2)*sin(yaw)*cos(q_3)*cos(q_1 + roll) + 0.311*sin(pitch)*sin(q_2)*sin(yaw)*cos(q_1 + roll) - 0.273*sin(q_2)*sin(q_1 + roll)*cos(q_3)*cos(yaw) - 0.311*sin(q_2)*sin(q_1 + roll)*cos(yaw) - 0.273*sin(yaw)*cos(pitch)*cos(q_2)*cos(q_3) - 0.311*sin(yaw)*cos(pitch)*cos(q_2)\n",
      "self.jacobian[1,8]=0.273*sin(pitch)*sin(q_3)*sin(yaw)*cos(q_2)*cos(q_1 + roll) + 0.273*sin(pitch)*sin(yaw)*sin(q_1 + roll)*cos(q_3) + 0.273*sin(q_2)*sin(q_3)*sin(yaw)*cos(pitch) - 0.273*sin(q_3)*sin(q_1 + roll)*cos(q_2)*cos(yaw) + 0.273*cos(q_3)*cos(yaw)*cos(q_1 + roll)\n",
      "self.jacobian[2,2]=1.00000000000000\n",
      "self.jacobian[2,4]=-0.273*sin(pitch)*sin(q_3)*sin(q_1 + roll) + 0.273*sin(pitch)*cos(q_2)*cos(q_3)*cos(q_1 + roll) + 0.311*sin(pitch)*cos(q_2)*cos(q_1 + roll) + 0.11*sin(pitch)*cos(q_1 + roll) + 0.273*sin(q_2)*cos(pitch)*cos(q_3) + 0.311*sin(q_2)*cos(pitch)\n",
      "self.jacobian[2,5]=0.273*sin(q_3)*cos(pitch)*cos(q_1 + roll) + 0.273*sin(q_1 + roll)*cos(pitch)*cos(q_2)*cos(q_3) + 0.311*sin(q_1 + roll)*cos(pitch)*cos(q_2) + 0.11*sin(q_1 + roll)*cos(pitch)\n",
      "self.jacobian[2,6]=0.273*sin(q_3)*cos(pitch)*cos(q_1 + roll) + 0.273*sin(q_1 + roll)*cos(pitch)*cos(q_2)*cos(q_3) + 0.311*sin(q_1 + roll)*cos(pitch)*cos(q_2) + 0.11*sin(q_1 + roll)*cos(pitch)\n",
      "self.jacobian[2,7]=0.273*sin(pitch)*cos(q_2)*cos(q_3) + 0.311*sin(pitch)*cos(q_2) + 0.273*sin(q_2)*cos(pitch)*cos(q_3)*cos(q_1 + roll) + 0.311*sin(q_2)*cos(pitch)*cos(q_1 + roll)\n",
      "self.jacobian[2,8]=-0.273*sin(pitch)*sin(q_2)*sin(q_3) + 0.273*sin(q_3)*cos(pitch)*cos(q_2)*cos(q_1 + roll) + 0.273*sin(q_1 + roll)*cos(pitch)*cos(q_3)\n",
      "self.jacobian[3,4]=((sin(pitch)*sin(q_2)*sin(q_3) - sin(q_3)*cos(pitch)*cos(q_2)*cos(q_1 + roll) - sin(q_1 + roll)*cos(pitch)*cos(q_3))*(-sin(pitch)*sin(q_3)*sin(q_1 + roll) + sin(pitch)*cos(q_2)*cos(q_3)*cos(q_1 + roll) + sin(q_2)*cos(pitch)*cos(q_3))/((-sin(pitch)*sin(q_2)*sin(q_3) + sin(q_3)*cos(pitch)*cos(q_2)*cos(q_1 + roll) + sin(q_1 + roll)*cos(pitch)*cos(q_3))**2 + (sin(pitch)*sin(q_2)*cos(q_3) + sin(q_3)*sin(q_1 + roll)*cos(pitch) - cos(pitch)*cos(q_2)*cos(q_3)*cos(q_1 + roll))**2) + (sin(pitch)*sin(q_2)*cos(q_3) + sin(q_3)*sin(q_1 + roll)*cos(pitch) - cos(pitch)*cos(q_2)*cos(q_3)*cos(q_1 + roll))*(-sin(pitch)*sin(q_3)*cos(q_2)*cos(q_1 + roll) - sin(pitch)*sin(q_1 + roll)*cos(q_3) - sin(q_2)*sin(q_3)*cos(pitch))/((-sin(pitch)*sin(q_2)*sin(q_3) + sin(q_3)*cos(pitch)*cos(q_2)*cos(q_1 + roll) + sin(q_1 + roll)*cos(pitch)*cos(q_3))**2 + (sin(pitch)*sin(q_2)*cos(q_3) + sin(q_3)*sin(q_1 + roll)*cos(pitch) - cos(pitch)*cos(q_2)*cos(q_3)*cos(q_1 + roll))**2))*cos(pitch)*cos(yaw) + (-sin(pitch)*sin(q_2)*cos(q_1 + roll) + cos(pitch)*cos(q_2))*sin(yaw)/sqrt(1 - (sin(pitch)*cos(q_2) + sin(q_2)*cos(pitch)*cos(q_1 + roll))**2)\n",
      "self.jacobian[3,5]=((sin(q_3)*cos(pitch)*cos(q_1 + roll) + sin(q_1 + roll)*cos(pitch)*cos(q_2)*cos(q_3))*(sin(pitch)*sin(q_2)*sin(q_3) - sin(q_3)*cos(pitch)*cos(q_2)*cos(q_1 + roll) - sin(q_1 + roll)*cos(pitch)*cos(q_3))/((-sin(pitch)*sin(q_2)*sin(q_3) + sin(q_3)*cos(pitch)*cos(q_2)*cos(q_1 + roll) + sin(q_1 + roll)*cos(pitch)*cos(q_3))**2 + (sin(pitch)*sin(q_2)*cos(q_3) + sin(q_3)*sin(q_1 + roll)*cos(pitch) - cos(pitch)*cos(q_2)*cos(q_3)*cos(q_1 + roll))**2) + (-sin(q_3)*sin(q_1 + roll)*cos(pitch)*cos(q_2) + cos(pitch)*cos(q_3)*cos(q_1 + roll))*(sin(pitch)*sin(q_2)*cos(q_3) + sin(q_3)*sin(q_1 + roll)*cos(pitch) - cos(pitch)*cos(q_2)*cos(q_3)*cos(q_1 + roll))/((-sin(pitch)*sin(q_2)*sin(q_3) + sin(q_3)*cos(pitch)*cos(q_2)*cos(q_1 + roll) + sin(q_1 + roll)*cos(pitch)*cos(q_3))**2 + (sin(pitch)*sin(q_2)*cos(q_3) + sin(q_3)*sin(q_1 + roll)*cos(pitch) - cos(pitch)*cos(q_2)*cos(q_3)*cos(q_1 + roll))**2))*cos(pitch)*cos(yaw) - sin(q_2)*sin(yaw)*sin(q_1 + roll)*cos(pitch)/sqrt(1 - (sin(pitch)*cos(q_2) + sin(q_2)*cos(pitch)*cos(q_1 + roll))**2)\n",
      "self.jacobian[3,6]=((sin(q_3)*cos(pitch)*cos(q_1 + roll) + sin(q_1 + roll)*cos(pitch)*cos(q_2)*cos(q_3))*(sin(pitch)*sin(q_2)*sin(q_3) - sin(q_3)*cos(pitch)*cos(q_2)*cos(q_1 + roll) - sin(q_1 + roll)*cos(pitch)*cos(q_3))/((-sin(pitch)*sin(q_2)*sin(q_3) + sin(q_3)*cos(pitch)*cos(q_2)*cos(q_1 + roll) + sin(q_1 + roll)*cos(pitch)*cos(q_3))**2 + (sin(pitch)*sin(q_2)*cos(q_3) + sin(q_3)*sin(q_1 + roll)*cos(pitch) - cos(pitch)*cos(q_2)*cos(q_3)*cos(q_1 + roll))**2) + (-sin(q_3)*sin(q_1 + roll)*cos(pitch)*cos(q_2) + cos(pitch)*cos(q_3)*cos(q_1 + roll))*(sin(pitch)*sin(q_2)*cos(q_3) + sin(q_3)*sin(q_1 + roll)*cos(pitch) - cos(pitch)*cos(q_2)*cos(q_3)*cos(q_1 + roll))/((-sin(pitch)*sin(q_2)*sin(q_3) + sin(q_3)*cos(pitch)*cos(q_2)*cos(q_1 + roll) + sin(q_1 + roll)*cos(pitch)*cos(q_3))**2 + (sin(pitch)*sin(q_2)*cos(q_3) + sin(q_3)*sin(q_1 + roll)*cos(pitch) - cos(pitch)*cos(q_2)*cos(q_3)*cos(q_1 + roll))**2))*cos(pitch)*cos(yaw) - sin(q_2)*sin(yaw)*sin(q_1 + roll)*cos(pitch)/sqrt(1 - (sin(pitch)*cos(q_2) + sin(q_2)*cos(pitch)*cos(q_1 + roll))**2)\n",
      "self.jacobian[3,7]=((-sin(pitch)*sin(q_3)*cos(q_2) - sin(q_2)*sin(q_3)*cos(pitch)*cos(q_1 + roll))*(sin(pitch)*sin(q_2)*cos(q_3) + sin(q_3)*sin(q_1 + roll)*cos(pitch) - cos(pitch)*cos(q_2)*cos(q_3)*cos(q_1 + roll))/((-sin(pitch)*sin(q_2)*sin(q_3) + sin(q_3)*cos(pitch)*cos(q_2)*cos(q_1 + roll) + sin(q_1 + roll)*cos(pitch)*cos(q_3))**2 + (sin(pitch)*sin(q_2)*cos(q_3) + sin(q_3)*sin(q_1 + roll)*cos(pitch) - cos(pitch)*cos(q_2)*cos(q_3)*cos(q_1 + roll))**2) + (sin(pitch)*cos(q_2)*cos(q_3) + sin(q_2)*cos(pitch)*cos(q_3)*cos(q_1 + roll))*(sin(pitch)*sin(q_2)*sin(q_3) - sin(q_3)*cos(pitch)*cos(q_2)*cos(q_1 + roll) - sin(q_1 + roll)*cos(pitch)*cos(q_3))/((-sin(pitch)*sin(q_2)*sin(q_3) + sin(q_3)*cos(pitch)*cos(q_2)*cos(q_1 + roll) + sin(q_1 + roll)*cos(pitch)*cos(q_3))**2 + (sin(pitch)*sin(q_2)*cos(q_3) + sin(q_3)*sin(q_1 + roll)*cos(pitch) - cos(pitch)*cos(q_2)*cos(q_3)*cos(q_1 + roll))**2))*cos(pitch)*cos(yaw) + (-sin(pitch)*sin(q_2) + cos(pitch)*cos(q_2)*cos(q_1 + roll))*sin(yaw)/sqrt(1 - (sin(pitch)*cos(q_2) + sin(q_2)*cos(pitch)*cos(q_1 + roll))**2)\n",
      "self.jacobian[3,8]=((-sin(pitch)*sin(q_2)*sin(q_3) + sin(q_3)*cos(pitch)*cos(q_2)*cos(q_1 + roll) + sin(q_1 + roll)*cos(pitch)*cos(q_3))*(sin(pitch)*sin(q_2)*sin(q_3) - sin(q_3)*cos(pitch)*cos(q_2)*cos(q_1 + roll) - sin(q_1 + roll)*cos(pitch)*cos(q_3))/((-sin(pitch)*sin(q_2)*sin(q_3) + sin(q_3)*cos(pitch)*cos(q_2)*cos(q_1 + roll) + sin(q_1 + roll)*cos(pitch)*cos(q_3))**2 + (sin(pitch)*sin(q_2)*cos(q_3) + sin(q_3)*sin(q_1 + roll)*cos(pitch) - cos(pitch)*cos(q_2)*cos(q_3)*cos(q_1 + roll))**2) + (-sin(pitch)*sin(q_2)*cos(q_3) - sin(q_3)*sin(q_1 + roll)*cos(pitch) + cos(pitch)*cos(q_2)*cos(q_3)*cos(q_1 + roll))*(sin(pitch)*sin(q_2)*cos(q_3) + sin(q_3)*sin(q_1 + roll)*cos(pitch) - cos(pitch)*cos(q_2)*cos(q_3)*cos(q_1 + roll))/((-sin(pitch)*sin(q_2)*sin(q_3) + sin(q_3)*cos(pitch)*cos(q_2)*cos(q_1 + roll) + sin(q_1 + roll)*cos(pitch)*cos(q_3))**2 + (sin(pitch)*sin(q_2)*cos(q_3) + sin(q_3)*sin(q_1 + roll)*cos(pitch) - cos(pitch)*cos(q_2)*cos(q_3)*cos(q_1 + roll))**2))*cos(pitch)*cos(yaw)\n",
      "self.jacobian[4,4]=((sin(pitch)*sin(q_2)*sin(q_3) - sin(q_3)*cos(pitch)*cos(q_2)*cos(q_1 + roll) - sin(q_1 + roll)*cos(pitch)*cos(q_3))*(-sin(pitch)*sin(q_3)*sin(q_1 + roll) + sin(pitch)*cos(q_2)*cos(q_3)*cos(q_1 + roll) + sin(q_2)*cos(pitch)*cos(q_3))/((-sin(pitch)*sin(q_2)*sin(q_3) + sin(q_3)*cos(pitch)*cos(q_2)*cos(q_1 + roll) + sin(q_1 + roll)*cos(pitch)*cos(q_3))**2 + (sin(pitch)*sin(q_2)*cos(q_3) + sin(q_3)*sin(q_1 + roll)*cos(pitch) - cos(pitch)*cos(q_2)*cos(q_3)*cos(q_1 + roll))**2) + (sin(pitch)*sin(q_2)*cos(q_3) + sin(q_3)*sin(q_1 + roll)*cos(pitch) - cos(pitch)*cos(q_2)*cos(q_3)*cos(q_1 + roll))*(-sin(pitch)*sin(q_3)*cos(q_2)*cos(q_1 + roll) - sin(pitch)*sin(q_1 + roll)*cos(q_3) - sin(q_2)*sin(q_3)*cos(pitch))/((-sin(pitch)*sin(q_2)*sin(q_3) + sin(q_3)*cos(pitch)*cos(q_2)*cos(q_1 + roll) + sin(q_1 + roll)*cos(pitch)*cos(q_3))**2 + (sin(pitch)*sin(q_2)*cos(q_3) + sin(q_3)*sin(q_1 + roll)*cos(pitch) - cos(pitch)*cos(q_2)*cos(q_3)*cos(q_1 + roll))**2))*sin(yaw)*cos(pitch) - (-sin(pitch)*sin(q_2)*cos(q_1 + roll) + cos(pitch)*cos(q_2))*cos(yaw)/sqrt(1 - (sin(pitch)*cos(q_2) + sin(q_2)*cos(pitch)*cos(q_1 + roll))**2)\n",
      "self.jacobian[4,5]=((sin(q_3)*cos(pitch)*cos(q_1 + roll) + sin(q_1 + roll)*cos(pitch)*cos(q_2)*cos(q_3))*(sin(pitch)*sin(q_2)*sin(q_3) - sin(q_3)*cos(pitch)*cos(q_2)*cos(q_1 + roll) - sin(q_1 + roll)*cos(pitch)*cos(q_3))/((-sin(pitch)*sin(q_2)*sin(q_3) + sin(q_3)*cos(pitch)*cos(q_2)*cos(q_1 + roll) + sin(q_1 + roll)*cos(pitch)*cos(q_3))**2 + (sin(pitch)*sin(q_2)*cos(q_3) + sin(q_3)*sin(q_1 + roll)*cos(pitch) - cos(pitch)*cos(q_2)*cos(q_3)*cos(q_1 + roll))**2) + (-sin(q_3)*sin(q_1 + roll)*cos(pitch)*cos(q_2) + cos(pitch)*cos(q_3)*cos(q_1 + roll))*(sin(pitch)*sin(q_2)*cos(q_3) + sin(q_3)*sin(q_1 + roll)*cos(pitch) - cos(pitch)*cos(q_2)*cos(q_3)*cos(q_1 + roll))/((-sin(pitch)*sin(q_2)*sin(q_3) + sin(q_3)*cos(pitch)*cos(q_2)*cos(q_1 + roll) + sin(q_1 + roll)*cos(pitch)*cos(q_3))**2 + (sin(pitch)*sin(q_2)*cos(q_3) + sin(q_3)*sin(q_1 + roll)*cos(pitch) - cos(pitch)*cos(q_2)*cos(q_3)*cos(q_1 + roll))**2))*sin(yaw)*cos(pitch) + sin(q_2)*sin(q_1 + roll)*cos(pitch)*cos(yaw)/sqrt(1 - (sin(pitch)*cos(q_2) + sin(q_2)*cos(pitch)*cos(q_1 + roll))**2)\n",
      "self.jacobian[4,6]=((sin(q_3)*cos(pitch)*cos(q_1 + roll) + sin(q_1 + roll)*cos(pitch)*cos(q_2)*cos(q_3))*(sin(pitch)*sin(q_2)*sin(q_3) - sin(q_3)*cos(pitch)*cos(q_2)*cos(q_1 + roll) - sin(q_1 + roll)*cos(pitch)*cos(q_3))/((-sin(pitch)*sin(q_2)*sin(q_3) + sin(q_3)*cos(pitch)*cos(q_2)*cos(q_1 + roll) + sin(q_1 + roll)*cos(pitch)*cos(q_3))**2 + (sin(pitch)*sin(q_2)*cos(q_3) + sin(q_3)*sin(q_1 + roll)*cos(pitch) - cos(pitch)*cos(q_2)*cos(q_3)*cos(q_1 + roll))**2) + (-sin(q_3)*sin(q_1 + roll)*cos(pitch)*cos(q_2) + cos(pitch)*cos(q_3)*cos(q_1 + roll))*(sin(pitch)*sin(q_2)*cos(q_3) + sin(q_3)*sin(q_1 + roll)*cos(pitch) - cos(pitch)*cos(q_2)*cos(q_3)*cos(q_1 + roll))/((-sin(pitch)*sin(q_2)*sin(q_3) + sin(q_3)*cos(pitch)*cos(q_2)*cos(q_1 + roll) + sin(q_1 + roll)*cos(pitch)*cos(q_3))**2 + (sin(pitch)*sin(q_2)*cos(q_3) + sin(q_3)*sin(q_1 + roll)*cos(pitch) - cos(pitch)*cos(q_2)*cos(q_3)*cos(q_1 + roll))**2))*sin(yaw)*cos(pitch) + sin(q_2)*sin(q_1 + roll)*cos(pitch)*cos(yaw)/sqrt(1 - (sin(pitch)*cos(q_2) + sin(q_2)*cos(pitch)*cos(q_1 + roll))**2)\n",
      "self.jacobian[4,7]=((-sin(pitch)*sin(q_3)*cos(q_2) - sin(q_2)*sin(q_3)*cos(pitch)*cos(q_1 + roll))*(sin(pitch)*sin(q_2)*cos(q_3) + sin(q_3)*sin(q_1 + roll)*cos(pitch) - cos(pitch)*cos(q_2)*cos(q_3)*cos(q_1 + roll))/((-sin(pitch)*sin(q_2)*sin(q_3) + sin(q_3)*cos(pitch)*cos(q_2)*cos(q_1 + roll) + sin(q_1 + roll)*cos(pitch)*cos(q_3))**2 + (sin(pitch)*sin(q_2)*cos(q_3) + sin(q_3)*sin(q_1 + roll)*cos(pitch) - cos(pitch)*cos(q_2)*cos(q_3)*cos(q_1 + roll))**2) + (sin(pitch)*cos(q_2)*cos(q_3) + sin(q_2)*cos(pitch)*cos(q_3)*cos(q_1 + roll))*(sin(pitch)*sin(q_2)*sin(q_3) - sin(q_3)*cos(pitch)*cos(q_2)*cos(q_1 + roll) - sin(q_1 + roll)*cos(pitch)*cos(q_3))/((-sin(pitch)*sin(q_2)*sin(q_3) + sin(q_3)*cos(pitch)*cos(q_2)*cos(q_1 + roll) + sin(q_1 + roll)*cos(pitch)*cos(q_3))**2 + (sin(pitch)*sin(q_2)*cos(q_3) + sin(q_3)*sin(q_1 + roll)*cos(pitch) - cos(pitch)*cos(q_2)*cos(q_3)*cos(q_1 + roll))**2))*sin(yaw)*cos(pitch) - (-sin(pitch)*sin(q_2) + cos(pitch)*cos(q_2)*cos(q_1 + roll))*cos(yaw)/sqrt(1 - (sin(pitch)*cos(q_2) + sin(q_2)*cos(pitch)*cos(q_1 + roll))**2)\n",
      "self.jacobian[4,8]=((-sin(pitch)*sin(q_2)*sin(q_3) + sin(q_3)*cos(pitch)*cos(q_2)*cos(q_1 + roll) + sin(q_1 + roll)*cos(pitch)*cos(q_3))*(sin(pitch)*sin(q_2)*sin(q_3) - sin(q_3)*cos(pitch)*cos(q_2)*cos(q_1 + roll) - sin(q_1 + roll)*cos(pitch)*cos(q_3))/((-sin(pitch)*sin(q_2)*sin(q_3) + sin(q_3)*cos(pitch)*cos(q_2)*cos(q_1 + roll) + sin(q_1 + roll)*cos(pitch)*cos(q_3))**2 + (sin(pitch)*sin(q_2)*cos(q_3) + sin(q_3)*sin(q_1 + roll)*cos(pitch) - cos(pitch)*cos(q_2)*cos(q_3)*cos(q_1 + roll))**2) + (-sin(pitch)*sin(q_2)*cos(q_3) - sin(q_3)*sin(q_1 + roll)*cos(pitch) + cos(pitch)*cos(q_2)*cos(q_3)*cos(q_1 + roll))*(sin(pitch)*sin(q_2)*cos(q_3) + sin(q_3)*sin(q_1 + roll)*cos(pitch) - cos(pitch)*cos(q_2)*cos(q_3)*cos(q_1 + roll))/((-sin(pitch)*sin(q_2)*sin(q_3) + sin(q_3)*cos(pitch)*cos(q_2)*cos(q_1 + roll) + sin(q_1 + roll)*cos(pitch)*cos(q_3))**2 + (sin(pitch)*sin(q_2)*cos(q_3) + sin(q_3)*sin(q_1 + roll)*cos(pitch) - cos(pitch)*cos(q_2)*cos(q_3)*cos(q_1 + roll))**2))*sin(yaw)*cos(pitch)\n",
      "self.jacobian[5,3]=(-sin(pitch)*sin(q_2)*sin(yaw)*cos(q_1 + roll) + sin(q_2)*sin(q_1 + roll)*cos(yaw) + sin(yaw)*cos(pitch)*cos(q_2))**2/((sin(pitch)*sin(q_2)*sin(yaw)*cos(q_1 + roll) - sin(q_2)*sin(q_1 + roll)*cos(yaw) - sin(yaw)*cos(pitch)*cos(q_2))**2 + (sin(pitch)*sin(q_2)*cos(yaw)*cos(q_1 + roll) + sin(q_2)*sin(yaw)*sin(q_1 + roll) - cos(pitch)*cos(q_2)*cos(yaw))**2) + (sin(pitch)*sin(q_2)*cos(yaw)*cos(q_1 + roll) + sin(q_2)*sin(yaw)*sin(q_1 + roll) - cos(pitch)*cos(q_2)*cos(yaw))**2/((sin(pitch)*sin(q_2)*sin(yaw)*cos(q_1 + roll) - sin(q_2)*sin(q_1 + roll)*cos(yaw) - sin(yaw)*cos(pitch)*cos(q_2))**2 + (sin(pitch)*sin(q_2)*cos(yaw)*cos(q_1 + roll) + sin(q_2)*sin(yaw)*sin(q_1 + roll) - cos(pitch)*cos(q_2)*cos(yaw))**2)\n",
      "self.jacobian[5,4]=-((sin(pitch)*sin(q_2)*sin(q_3) - sin(q_3)*cos(pitch)*cos(q_2)*cos(q_1 + roll) - sin(q_1 + roll)*cos(pitch)*cos(q_3))*(-sin(pitch)*sin(q_3)*sin(q_1 + roll) + sin(pitch)*cos(q_2)*cos(q_3)*cos(q_1 + roll) + sin(q_2)*cos(pitch)*cos(q_3))/((-sin(pitch)*sin(q_2)*sin(q_3) + sin(q_3)*cos(pitch)*cos(q_2)*cos(q_1 + roll) + sin(q_1 + roll)*cos(pitch)*cos(q_3))**2 + (sin(pitch)*sin(q_2)*cos(q_3) + sin(q_3)*sin(q_1 + roll)*cos(pitch) - cos(pitch)*cos(q_2)*cos(q_3)*cos(q_1 + roll))**2) + (sin(pitch)*sin(q_2)*cos(q_3) + sin(q_3)*sin(q_1 + roll)*cos(pitch) - cos(pitch)*cos(q_2)*cos(q_3)*cos(q_1 + roll))*(-sin(pitch)*sin(q_3)*cos(q_2)*cos(q_1 + roll) - sin(pitch)*sin(q_1 + roll)*cos(q_3) - sin(q_2)*sin(q_3)*cos(pitch))/((-sin(pitch)*sin(q_2)*sin(q_3) + sin(q_3)*cos(pitch)*cos(q_2)*cos(q_1 + roll) + sin(q_1 + roll)*cos(pitch)*cos(q_3))**2 + (sin(pitch)*sin(q_2)*cos(q_3) + sin(q_3)*sin(q_1 + roll)*cos(pitch) - cos(pitch)*cos(q_2)*cos(q_3)*cos(q_1 + roll))**2))*sin(pitch) + (sin(pitch)*sin(yaw)*cos(q_2) + sin(q_2)*sin(yaw)*cos(pitch)*cos(q_1 + roll))*(sin(pitch)*sin(q_2)*cos(yaw)*cos(q_1 + roll) + sin(q_2)*sin(yaw)*sin(q_1 + roll) - cos(pitch)*cos(q_2)*cos(yaw))/((sin(pitch)*sin(q_2)*sin(yaw)*cos(q_1 + roll) - sin(q_2)*sin(q_1 + roll)*cos(yaw) - sin(yaw)*cos(pitch)*cos(q_2))**2 + (sin(pitch)*sin(q_2)*cos(yaw)*cos(q_1 + roll) + sin(q_2)*sin(yaw)*sin(q_1 + roll) - cos(pitch)*cos(q_2)*cos(yaw))**2) + (sin(pitch)*cos(q_2)*cos(yaw) + sin(q_2)*cos(pitch)*cos(yaw)*cos(q_1 + roll))*(-sin(pitch)*sin(q_2)*sin(yaw)*cos(q_1 + roll) + sin(q_2)*sin(q_1 + roll)*cos(yaw) + sin(yaw)*cos(pitch)*cos(q_2))/((sin(pitch)*sin(q_2)*sin(yaw)*cos(q_1 + roll) - sin(q_2)*sin(q_1 + roll)*cos(yaw) - sin(yaw)*cos(pitch)*cos(q_2))**2 + (sin(pitch)*sin(q_2)*cos(yaw)*cos(q_1 + roll) + sin(q_2)*sin(yaw)*sin(q_1 + roll) - cos(pitch)*cos(q_2)*cos(yaw))**2)\n",
      "self.jacobian[5,5]=-((sin(q_3)*cos(pitch)*cos(q_1 + roll) + sin(q_1 + roll)*cos(pitch)*cos(q_2)*cos(q_3))*(sin(pitch)*sin(q_2)*sin(q_3) - sin(q_3)*cos(pitch)*cos(q_2)*cos(q_1 + roll) - sin(q_1 + roll)*cos(pitch)*cos(q_3))/((-sin(pitch)*sin(q_2)*sin(q_3) + sin(q_3)*cos(pitch)*cos(q_2)*cos(q_1 + roll) + sin(q_1 + roll)*cos(pitch)*cos(q_3))**2 + (sin(pitch)*sin(q_2)*cos(q_3) + sin(q_3)*sin(q_1 + roll)*cos(pitch) - cos(pitch)*cos(q_2)*cos(q_3)*cos(q_1 + roll))**2) + (-sin(q_3)*sin(q_1 + roll)*cos(pitch)*cos(q_2) + cos(pitch)*cos(q_3)*cos(q_1 + roll))*(sin(pitch)*sin(q_2)*cos(q_3) + sin(q_3)*sin(q_1 + roll)*cos(pitch) - cos(pitch)*cos(q_2)*cos(q_3)*cos(q_1 + roll))/((-sin(pitch)*sin(q_2)*sin(q_3) + sin(q_3)*cos(pitch)*cos(q_2)*cos(q_1 + roll) + sin(q_1 + roll)*cos(pitch)*cos(q_3))**2 + (sin(pitch)*sin(q_2)*cos(q_3) + sin(q_3)*sin(q_1 + roll)*cos(pitch) - cos(pitch)*cos(q_2)*cos(q_3)*cos(q_1 + roll))**2))*sin(pitch) + (-sin(pitch)*sin(q_2)*sin(yaw)*sin(q_1 + roll) - sin(q_2)*cos(yaw)*cos(q_1 + roll))*(sin(pitch)*sin(q_2)*cos(yaw)*cos(q_1 + roll) + sin(q_2)*sin(yaw)*sin(q_1 + roll) - cos(pitch)*cos(q_2)*cos(yaw))/((sin(pitch)*sin(q_2)*sin(yaw)*cos(q_1 + roll) - sin(q_2)*sin(q_1 + roll)*cos(yaw) - sin(yaw)*cos(pitch)*cos(q_2))**2 + (sin(pitch)*sin(q_2)*cos(yaw)*cos(q_1 + roll) + sin(q_2)*sin(yaw)*sin(q_1 + roll) - cos(pitch)*cos(q_2)*cos(yaw))**2) + (-sin(pitch)*sin(q_2)*sin(q_1 + roll)*cos(yaw) + sin(q_2)*sin(yaw)*cos(q_1 + roll))*(-sin(pitch)*sin(q_2)*sin(yaw)*cos(q_1 + roll) + sin(q_2)*sin(q_1 + roll)*cos(yaw) + sin(yaw)*cos(pitch)*cos(q_2))/((sin(pitch)*sin(q_2)*sin(yaw)*cos(q_1 + roll) - sin(q_2)*sin(q_1 + roll)*cos(yaw) - sin(yaw)*cos(pitch)*cos(q_2))**2 + (sin(pitch)*sin(q_2)*cos(yaw)*cos(q_1 + roll) + sin(q_2)*sin(yaw)*sin(q_1 + roll) - cos(pitch)*cos(q_2)*cos(yaw))**2)\n",
      "self.jacobian[5,6]=-((sin(q_3)*cos(pitch)*cos(q_1 + roll) + sin(q_1 + roll)*cos(pitch)*cos(q_2)*cos(q_3))*(sin(pitch)*sin(q_2)*sin(q_3) - sin(q_3)*cos(pitch)*cos(q_2)*cos(q_1 + roll) - sin(q_1 + roll)*cos(pitch)*cos(q_3))/((-sin(pitch)*sin(q_2)*sin(q_3) + sin(q_3)*cos(pitch)*cos(q_2)*cos(q_1 + roll) + sin(q_1 + roll)*cos(pitch)*cos(q_3))**2 + (sin(pitch)*sin(q_2)*cos(q_3) + sin(q_3)*sin(q_1 + roll)*cos(pitch) - cos(pitch)*cos(q_2)*cos(q_3)*cos(q_1 + roll))**2) + (-sin(q_3)*sin(q_1 + roll)*cos(pitch)*cos(q_2) + cos(pitch)*cos(q_3)*cos(q_1 + roll))*(sin(pitch)*sin(q_2)*cos(q_3) + sin(q_3)*sin(q_1 + roll)*cos(pitch) - cos(pitch)*cos(q_2)*cos(q_3)*cos(q_1 + roll))/((-sin(pitch)*sin(q_2)*sin(q_3) + sin(q_3)*cos(pitch)*cos(q_2)*cos(q_1 + roll) + sin(q_1 + roll)*cos(pitch)*cos(q_3))**2 + (sin(pitch)*sin(q_2)*cos(q_3) + sin(q_3)*sin(q_1 + roll)*cos(pitch) - cos(pitch)*cos(q_2)*cos(q_3)*cos(q_1 + roll))**2))*sin(pitch) + (-sin(pitch)*sin(q_2)*sin(yaw)*sin(q_1 + roll) - sin(q_2)*cos(yaw)*cos(q_1 + roll))*(sin(pitch)*sin(q_2)*cos(yaw)*cos(q_1 + roll) + sin(q_2)*sin(yaw)*sin(q_1 + roll) - cos(pitch)*cos(q_2)*cos(yaw))/((sin(pitch)*sin(q_2)*sin(yaw)*cos(q_1 + roll) - sin(q_2)*sin(q_1 + roll)*cos(yaw) - sin(yaw)*cos(pitch)*cos(q_2))**2 + (sin(pitch)*sin(q_2)*cos(yaw)*cos(q_1 + roll) + sin(q_2)*sin(yaw)*sin(q_1 + roll) - cos(pitch)*cos(q_2)*cos(yaw))**2) + (-sin(pitch)*sin(q_2)*sin(q_1 + roll)*cos(yaw) + sin(q_2)*sin(yaw)*cos(q_1 + roll))*(-sin(pitch)*sin(q_2)*sin(yaw)*cos(q_1 + roll) + sin(q_2)*sin(q_1 + roll)*cos(yaw) + sin(yaw)*cos(pitch)*cos(q_2))/((sin(pitch)*sin(q_2)*sin(yaw)*cos(q_1 + roll) - sin(q_2)*sin(q_1 + roll)*cos(yaw) - sin(yaw)*cos(pitch)*cos(q_2))**2 + (sin(pitch)*sin(q_2)*cos(yaw)*cos(q_1 + roll) + sin(q_2)*sin(yaw)*sin(q_1 + roll) - cos(pitch)*cos(q_2)*cos(yaw))**2)\n",
      "self.jacobian[5,7]=-((-sin(pitch)*sin(q_3)*cos(q_2) - sin(q_2)*sin(q_3)*cos(pitch)*cos(q_1 + roll))*(sin(pitch)*sin(q_2)*cos(q_3) + sin(q_3)*sin(q_1 + roll)*cos(pitch) - cos(pitch)*cos(q_2)*cos(q_3)*cos(q_1 + roll))/((-sin(pitch)*sin(q_2)*sin(q_3) + sin(q_3)*cos(pitch)*cos(q_2)*cos(q_1 + roll) + sin(q_1 + roll)*cos(pitch)*cos(q_3))**2 + (sin(pitch)*sin(q_2)*cos(q_3) + sin(q_3)*sin(q_1 + roll)*cos(pitch) - cos(pitch)*cos(q_2)*cos(q_3)*cos(q_1 + roll))**2) + (sin(pitch)*cos(q_2)*cos(q_3) + sin(q_2)*cos(pitch)*cos(q_3)*cos(q_1 + roll))*(sin(pitch)*sin(q_2)*sin(q_3) - sin(q_3)*cos(pitch)*cos(q_2)*cos(q_1 + roll) - sin(q_1 + roll)*cos(pitch)*cos(q_3))/((-sin(pitch)*sin(q_2)*sin(q_3) + sin(q_3)*cos(pitch)*cos(q_2)*cos(q_1 + roll) + sin(q_1 + roll)*cos(pitch)*cos(q_3))**2 + (sin(pitch)*sin(q_2)*cos(q_3) + sin(q_3)*sin(q_1 + roll)*cos(pitch) - cos(pitch)*cos(q_2)*cos(q_3)*cos(q_1 + roll))**2))*sin(pitch) + (-sin(pitch)*sin(q_2)*sin(yaw)*cos(q_1 + roll) + sin(q_2)*sin(q_1 + roll)*cos(yaw) + sin(yaw)*cos(pitch)*cos(q_2))*(sin(pitch)*cos(q_2)*cos(yaw)*cos(q_1 + roll) + sin(q_2)*cos(pitch)*cos(yaw) + sin(yaw)*sin(q_1 + roll)*cos(q_2))/((sin(pitch)*sin(q_2)*sin(yaw)*cos(q_1 + roll) - sin(q_2)*sin(q_1 + roll)*cos(yaw) - sin(yaw)*cos(pitch)*cos(q_2))**2 + (sin(pitch)*sin(q_2)*cos(yaw)*cos(q_1 + roll) + sin(q_2)*sin(yaw)*sin(q_1 + roll) - cos(pitch)*cos(q_2)*cos(yaw))**2) + (sin(pitch)*sin(q_2)*cos(yaw)*cos(q_1 + roll) + sin(q_2)*sin(yaw)*sin(q_1 + roll) - cos(pitch)*cos(q_2)*cos(yaw))*(sin(pitch)*sin(yaw)*cos(q_2)*cos(q_1 + roll) + sin(q_2)*sin(yaw)*cos(pitch) - sin(q_1 + roll)*cos(q_2)*cos(yaw))/((sin(pitch)*sin(q_2)*sin(yaw)*cos(q_1 + roll) - sin(q_2)*sin(q_1 + roll)*cos(yaw) - sin(yaw)*cos(pitch)*cos(q_2))**2 + (sin(pitch)*sin(q_2)*cos(yaw)*cos(q_1 + roll) + sin(q_2)*sin(yaw)*sin(q_1 + roll) - cos(pitch)*cos(q_2)*cos(yaw))**2)\n",
      "self.jacobian[5,8]=-((-sin(pitch)*sin(q_2)*sin(q_3) + sin(q_3)*cos(pitch)*cos(q_2)*cos(q_1 + roll) + sin(q_1 + roll)*cos(pitch)*cos(q_3))*(sin(pitch)*sin(q_2)*sin(q_3) - sin(q_3)*cos(pitch)*cos(q_2)*cos(q_1 + roll) - sin(q_1 + roll)*cos(pitch)*cos(q_3))/((-sin(pitch)*sin(q_2)*sin(q_3) + sin(q_3)*cos(pitch)*cos(q_2)*cos(q_1 + roll) + sin(q_1 + roll)*cos(pitch)*cos(q_3))**2 + (sin(pitch)*sin(q_2)*cos(q_3) + sin(q_3)*sin(q_1 + roll)*cos(pitch) - cos(pitch)*cos(q_2)*cos(q_3)*cos(q_1 + roll))**2) + (-sin(pitch)*sin(q_2)*cos(q_3) - sin(q_3)*sin(q_1 + roll)*cos(pitch) + cos(pitch)*cos(q_2)*cos(q_3)*cos(q_1 + roll))*(sin(pitch)*sin(q_2)*cos(q_3) + sin(q_3)*sin(q_1 + roll)*cos(pitch) - cos(pitch)*cos(q_2)*cos(q_3)*cos(q_1 + roll))/((-sin(pitch)*sin(q_2)*sin(q_3) + sin(q_3)*cos(pitch)*cos(q_2)*cos(q_1 + roll) + sin(q_1 + roll)*cos(pitch)*cos(q_3))**2 + (sin(pitch)*sin(q_2)*cos(q_3) + sin(q_3)*sin(q_1 + roll)*cos(pitch) - cos(pitch)*cos(q_2)*cos(q_3)*cos(q_1 + roll))**2))*sin(pitch)\n"
     ]
    }
   ],
   "source": [
    "# Closed loop inverse kinematics\n",
    "print(f\"Jacobian = J({J_A_centralised.free_symbols})\")\n",
    "\n",
    "J_G_centralised = T_A*J_A_centralised\n",
    "\n",
    "jacobian_object_name = \"self.jacobian\"\n",
    "for i in range(J_G_centralised.shape[0]):\n",
    "    for j in range(J_G_centralised.shape[1]):\n",
    "        if J_G_centralised[i,j] != 0:\n",
    "            print(f\"{jacobian_object_name}[{i},{j}]={J_G_centralised[i,j]}\")\n",
    "               \n",
    "\n",
    "J_G_controlled = J_G_centralised[:,0:4].row_join(J_G_centralised[:,6:9])\n",
    "J_G_uncontrolled = J_G_centralised[:,4:6]"
   ]
  },
  {
   "cell_type": "markdown",
   "metadata": {},
   "source": [
    "The initial idea was to derive symbolically the differential equation that is being reported (Arleo, 2013):\n",
    "$$\n",
    "\\dot{\\zeta}_{r}=J^{\\dagger}_{\\zeta}(\\sigma_{b}, \\zeta_{r})T_{A}(\\Phi_{e,r})(\\dot{x}_{e,d}+Ke)-J^{\\dagger}_{\\zeta}(\\sigma_{b}, \\zeta_{r})J_{\\sigma}(\\sigma_{b}, \\zeta_{r})\\dot{\\sigma}_{b} \\\\\n",
    "J^{\\dagger}_{\\zeta} = J_{\\zeta}^{\\top}(J_{\\zeta}J_{\\zeta}^{\\top})^{-1} \\\\\n",
    "e = x_{e,d} - x_{e,r}\n",
    "$$\n",
    "However this is impractical due to the complexity of the inversion operation. There are several other approaches that could supplement this:\n",
    "- Given that the system cannot track both generalized coordinates and their derivates at the same time, get the measured values of the current generalized coordinates and use these as the input to the equation. Then pass the derivatives back as references.\n",
    "- Employ a position inverse kinematics scheme to find $\\zeta_{r}$ from $x_{e,d}$, the desired end-effector pose (note that $x_{e,r}$ denotes the end-effector pose computed on the basis of $\\zeta_{r}$)\n",
    "\n",
    "Let's investigate these options.\n",
    "\n",
    "### Algorithm for option 1\n",
    "We follow the formulation by Siciliano 2009, page 133, with the partitioning into controllable and uncontrollable parts as in Arleo 2013.\n",
    "1. We set up the geometric Jacobian symbolically $J_{G}(\\xi)$. This is programmed as a callable function returning the evaluated Jacobian matrix. We split the Jacobian into the controllable and uncontrollable Jacobians by columns.\n",
    "2. We measure or estimate all states. The servo positions can be measured from the encoders, the drone orientation from the Kalman filter. Note that the Jacobian is not a function of drone position, so we don't need to estimate this.\n",
    "3. Evaluate $J_{A}$.\n",
    "4. Calculate forward kinematics to find $x_{e}$.\n",
    "5. Calculate error $e=x_{d}-x_{e}$, with $x_{d}$ the desired end-effector setpoint.\n",
    "6. Multiply error by gain matrix $K$ and add to $\\dot{x}_{d}$, the desired end-effector velocity: $\\dot{x}_{d}+K(x_{d}-x_{e})$\n",
    "7. Invert numerical Jacobian and multiply by the error term to obtain references for the states: $\\dot{\\zeta}=J_{a}^{-1}(\\xi)$\n",
    "8. Feed $\\dot{\\xi}$ as reference to the actuators.\n",
    "9. Repeat.\n",
    "\n",
    "**Notes**\n",
    "- One of the advantages of this approach is that we do not need to rely on position estimates of the drone, which are notoriously difficult to get accurate in outdoor conditions. The other states can be estimated with exceeding precision.\n",
    "- The instantaneous reference state is the current state position, and a targeted state velocity. Therefore, we can use __measured__ states to evaluate the Jacobian."
   ]
  }
 ],
 "metadata": {
  "kernelspec": {
   "display_name": "Python 3",
   "language": "python",
   "name": "python3"
  },
  "language_info": {
   "codemirror_mode": {
    "name": "ipython",
    "version": 3
   },
   "file_extension": ".py",
   "mimetype": "text/x-python",
   "name": "python",
   "nbconvert_exporter": "python",
   "pygments_lexer": "ipython3",
   "version": "3.10.12"
  }
 },
 "nbformat": 4,
 "nbformat_minor": 2
}
