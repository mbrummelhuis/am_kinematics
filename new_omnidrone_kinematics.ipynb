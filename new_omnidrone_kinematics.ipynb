{
 "cells": [
  {
   "cell_type": "code",
   "execution_count": null,
   "id": "4a4f57a3",
   "metadata": {},
   "outputs": [],
   "source": [
    "import sympy as sp\n",
    "\n",
    "sp.init_printing(use_latex=True)\n",
    "\n",
    "L1_length = 0.110\n",
    "L2_length = 0.311\n",
    "L3_length = 0.273\n",
    "\n",
    "#q1, q2, q3 = sp.symbols('q_1 q_2 q_3', real=True)\n",
    "x_B, y_B, z_B, yaw, pitch, roll, q1, q2, q3, alpha, beta, z_CS = sp.symbols('x_B y_B z_B psi theta varphi q_1 q_2 q_3 alpha beta z_CS', real=True)\n",
    "state_vector = sp.Matrix([x_B, y_B, z_B, yaw, pitch, roll, q1, q2, q3])\n",
    "joint_vector = sp.Matrix([q1, q2, q3])\n",
    "\n",
    "# Secondary states\n",
    "x_be, y_be, z_be = sp.symbols('x^{b}_{be} y^{b}_{be} z^{b}_{be}')\n",
    "\n",
    "# Parameters\n",
    "L1, L2, L3 = sp.symbols('L_1 L_2 L_3', real=True, positive=True)\n",
    "\n",
    "# Elementary rotation matrices\n",
    "def Rx(x):\n",
    "    return sp.Matrix([[1, 0, 0], [0, sp.cos(x), -sp.sin(x)], [0, sp.sin(x), sp.cos(x)]])\n",
    "\n",
    "def Ry(y):\n",
    "    return sp.Matrix([[sp.cos(y), 0, sp.sin(y)], [0, 1, 0], [-sp.sin(y), 0, sp.cos(y)]])\n",
    "\n",
    "def Rz(z):\n",
    "    return sp.Matrix([[sp.cos(z), -sp.sin(z), 0], [sp.sin(z), sp.cos(z), 0], [0, 0, 1]])"
   ]
  },
  {
   "cell_type": "markdown",
   "id": "e04215bc",
   "metadata": {},
   "source": [
    "### Frame definitions\n",
    "The nominal configuration (i.e. all joint angles 0) is defined as the arm pointing upwards and being fully extended. The frames for this derivation are defined as follows:\n",
    "- **Inertial frame** $\\mathcal{F}_{I}$ - Frame attached to the world, unmoving, North-East-Down for positive XYZ axes.\n",
    "- **Body frame** $\\mathcal{F}_{B}$ - Frame attached to the drone body in its center of mass (CoM), moves and rotates with body, Forward-Right-Down for positive XYZ axes\n",
    "- **Manipulator base frame** $\\mathcal{F}_{0}$ - Origin coincides with body frame, but rotated to Up-Right-Forward for positive XYZ to align Z axis with rotation of $q_{1}$ and set Y axis such that Euler angle singularity in $\\mathcal{F}_{0}$ is placed away from operational workspace. Does not rotate with $q_{1}$\n",
    "- **Frame 1** $\\mathcal{F}_{1}$ - Z-axis coincides with axis of rotation of $q_{2}$. X points towards $q_{3}$ when $q_{2}=0$. Does not rotate with $q_{2}$\n",
    "- **Frame 2** $\\mathcal{F}_{2}$ - Z-axis coincides with axis of rotation of $q_{3}$. X points towards end-effector. Does not rotate with $q_{3}$\n",
    "- **Frame S** $\\mathcal{F}_{S}$ - Oriented with positive Z pointing inwards, X in direction of negative $Z_{3}$ and Y completing right handed\n",
    "- **Frame C** $\\mathcal{F}_{C}$ - Oriented perpendicular to the sensor, contact frame.\n",
    "\n",
    "<p align=\"center\">\n",
    "    <img title=\"Kinematic diagram\" src=\"images/kinematic_diagramv2(1).png\">\n",
    "</p>\n",
    "\n",
    "### Angle conventions\n",
    "The transformation between $\\mathcal{F}_{S}$ and $\\mathcal{F}_{S}$ uses the extrinsic XYZ Euler angle convention with angles $\\alpha$, $\\beta$, and $\\gamma$ denoting the rotations about XYZ, respectively.\n"
   ]
  },
  {
   "cell_type": "code",
   "execution_count": 6,
   "id": "07c790de",
   "metadata": {},
   "outputs": [
    {
     "name": "stdout",
     "output_type": "stream",
     "text": [
      "⎡   cos(β)         0        -sin(β)         z_CS⋅sin(β)    ⎤\n",
      "⎢                                                          ⎥\n",
      "⎢sin(α)⋅sin(β)  cos(α)   sin(α)⋅cos(β)  -z_CS⋅sin(α)⋅cos(β)⎥\n",
      "⎢                                                          ⎥\n",
      "⎢sin(β)⋅cos(α)  -sin(α)  cos(α)⋅cos(β)  -z_CS⋅cos(α)⋅cos(β)⎥\n",
      "⎢                                                          ⎥\n",
      "⎣      0           0           0                 1         ⎦\n"
     ]
    }
   ],
   "source": [
    "# Inertial to Body\n",
    "R_B = Rz(yaw)*Ry(pitch)*Rz(yaw)\n",
    "P_B = sp.Matrix([[R_B[0,0], R_B[0,1], R_B[0,2], x_B],\n",
    "                 [R_B[1,0], R_B[1,1], R_B[1,2], y_B],\n",
    "                 [R_B[2,0], R_B[2,1], R_B[2,2], z_B],\n",
    "                 [0, 0, 0, 1]])\n",
    "\n",
    "# Body to manipulator base frame (frame 0)\n",
    "P_B0 = sp.Matrix([[0, 0, 1, 0],\n",
    "                  [0, 1, 0, 0],\n",
    "                  [-1, 0, 0, 0],\n",
    "                  [0, 0, 0, 1]])\n",
    "\n",
    "# Manipulator base frame (frame 0) to frame 1\n",
    "P_01 = sp.Matrix([[sp.cos(q1), 0, -sp.sin(q1), sp.cos(q1)*L1],\n",
    "                  [sp.sin(q1), 0, sp.cos(q1), sp.sin(q1)*L1],\n",
    "                  [0, -1, 0, 0],\n",
    "                  [0, 0, 0, 1]])\n",
    "\n",
    "# Frame 1 to frame 2\n",
    "P_12 = sp.Matrix([[sp.cos(q2), 0, sp.sin(q2), sp.cos(q2)*L2],\n",
    "                  [sp.sin(q2), 0, -sp.cos(q2), sp.sin(q2)*L2],\n",
    "                  [0, 1, 0, 0],\n",
    "                  [0, 0, 0, 1]])\n",
    "\n",
    "# Frame 2 to Sensor frame\n",
    "P_2S = sp.Matrix([[0, -sp.sin(q3), -sp.cos(q3), sp.cos(q3)*L3],\n",
    "                  [0, sp.cos(q3), sp.sin(q3), sp.sin(q3)*L3],\n",
    "                  [1, 0, 0, 0],\n",
    "                  [0, 0, 0, 1]])\n",
    "\n",
    "# Sensor frame to contact frame\n",
    "# 1. Contact frame to sensor frame\n",
    "R_CS = Ry(beta)*Rx(alpha)\n",
    "P_CS = sp.Matrix([[R_CS[0,0], R_CS[0,1], R_CS[0,2], 0],\n",
    "                  [R_CS[1,0], R_CS[1,1], R_CS[1,2], 0],\n",
    "                  [R_CS[2,0], R_CS[2,1], R_CS[2,2], z_CS],\n",
    "                  [0, 0, 0, 1]])\n",
    "\n",
    "# 2. Sensor frame to contact frame\n",
    "R_SC = R_CS.T\n",
    "p_CS = sp.Matrix([[0], [0], [z_CS]])\n",
    "\n",
    "P_SC = sp.Matrix([[R_SC[0,0], R_SC[0,1], R_SC[0,2], (-R_SC@p_CS)[0]],\n",
    "                  [R_SC[1,0], R_SC[1,1], R_SC[1,2], (-R_SC@p_CS)[1]],\n",
    "                  [R_SC[2,0], R_SC[2,1], R_SC[2,2], (-R_SC@p_CS)[2]],\n",
    "                  [0, 0, 0, 1]])\n",
    "sp.pprint(P_SC)"
   ]
  },
  {
   "cell_type": "code",
   "execution_count": null,
   "id": "5dad9ada",
   "metadata": {},
   "outputs": [
    {
     "name": "stdout",
     "output_type": "stream",
     "text": [
      "P_SC[0,0]=np.cos(beta)\n",
      "P_SC[0,1]=0\n",
      "P_SC[0,2]=-np.sin(beta)\n",
      "P_SC[0,3]=z_CS*np.sin(beta)\n",
      "P_SC[1,0]=np.sin(alpha)*np.sin(beta)\n",
      "P_SC[1,1]=np.cos(alpha)\n",
      "P_SC[1,2]=np.sin(alpha)*np.cos(beta)\n",
      "P_SC[1,3]=-z_CS*np.sin(alpha)*np.cos(beta)\n",
      "P_SC[2,0]=np.sin(beta)*np.cos(alpha)\n",
      "P_SC[2,1]=-np.sin(alpha)\n",
      "P_SC[2,2]=np.cos(alpha)*np.cos(beta)\n",
      "P_SC[2,3]=-z_CS*np.cos(alpha)*np.cos(beta)\n",
      "P_SC[3,0]=0\n",
      "P_SC[3,1]=0\n",
      "P_SC[3,2]=0\n",
      "P_SC[3,3]=1\n",
      "P_SC[0,0]=np.cos(beta)\n",
      "P_SC[0,1]=np.sin(alpha)*np.sin(beta)\n",
      "P_SC[0,2]=np.sin(beta)*np.cos(alpha)\n",
      "P_SC[0,3]=0\n",
      "P_SC[1,0]=0\n",
      "P_SC[1,1]=np.cos(alpha)\n",
      "P_SC[1,2]=-np.sin(alpha)\n",
      "P_SC[1,3]=0\n",
      "P_SC[2,0]=-np.sin(beta)\n",
      "P_SC[2,1]=np.sin(alpha)*np.cos(beta)\n",
      "P_SC[2,2]=np.cos(alpha)*np.cos(beta)\n",
      "P_SC[2,3]=z_CS\n",
      "P_SC[3,0]=0\n",
      "P_SC[3,1]=0\n",
      "P_SC[3,2]=0\n",
      "P_SC[3,3]=1\n"
     ]
    }
   ],
   "source": [
    "# Printing the equations\n",
    "print(\"----- ACTUAL POSE OF C IN S -----\")\n",
    "for i in range(P_SC.shape[0]):\n",
    "    for j in range(P_SC.shape[1]):\n",
    "        print(f\"P_SC[{i},{j}] = {str(P_SC[i,j]).replace(\"cos\", \"np.cos\").replace(\"sin\", \"np.sin\")}\")\n",
    "print(\"\\n ----- REFERENCE POSE OF S IN C -----\")\n",
    "for i in range(P_CS.shape[0]):\n",
    "    for j in range(P_CS.shape[1]):\n",
    "        print(f\"P_CS[{i},{j}] = {str(P_CS[i,j]).replace(\"cos\", \"np.cos\").replace(\"sin\", \"np.sin\")}\")"
   ]
  },
  {
   "cell_type": "code",
   "execution_count": null,
   "id": "35ccdfb7",
   "metadata": {},
   "outputs": [
    {
     "name": "stdout",
     "output_type": "stream",
     "text": [
      "⎡    cos(q₂)                    sin(q₂)⋅sin(q₃)                             si\n",
      "⎢                                                                             \n",
      "⎢sin(q₁)⋅sin(q₂)   -sin(q₁)⋅sin(q₃)⋅cos(q₂) + cos(q₁)⋅cos(q₃)  -sin(q₁)⋅cos(q₂\n",
      "⎢                                                                             \n",
      "⎢-sin(q₂)⋅cos(q₁)  sin(q₁)⋅cos(q₃) + sin(q₃)⋅cos(q₁)⋅cos(q₂)   sin(q₁)⋅sin(q₃)\n",
      "⎢                                                                             \n",
      "⎣       0                              0                                      \n",
      "\n",
      "n(q₂)⋅cos(q₃)                                            -(L₂ + L₃⋅cos(q₃))⋅si\n",
      "                                                                              \n",
      ")⋅cos(q₃) + sin(q₃)⋅cos(q₁)  L₁⋅sin(q₁) + L₂⋅sin(q₁)⋅cos(q₂) + L₃⋅sin(q₁)⋅cos(\n",
      "                                                                              \n",
      " + cos(q₁)⋅cos(q₂)⋅cos(q₃)   -L₁⋅cos(q₁) - L₂⋅cos(q₁)⋅cos(q₂) + L₃⋅sin(q₁)⋅sin\n",
      "                                                                              \n",
      "     0                                                               1        \n",
      "\n",
      "n(q₂)                            ⎤\n",
      "                                 ⎥\n",
      "q₂)⋅cos(q₃) + L₃⋅sin(q₃)⋅cos(q₁) ⎥\n",
      "                                 ⎥\n",
      "(q₃) - L₃⋅cos(q₁)⋅cos(q₂)⋅cos(q₃)⎥\n",
      "                                 ⎥\n",
      "                                 ⎦\n"
     ]
    }
   ],
   "source": [
    "# Sensor pose in inertial frame\n",
    "P_S = sp.trigsimp(P_B*P_B0*P_01*P_12*P_2S)\n",
    "sp.pprint(P_S)"
   ]
  },
  {
   "cell_type": "code",
   "execution_count": null,
   "id": "4e755577",
   "metadata": {},
   "outputs": [
    {
     "name": "stdout",
     "output_type": "stream",
     "text": [
      "----- ACTUAL POSE OF S IN I -----\n",
      "P_S[0,0]=np.cos(q_2)\n",
      "P_S[0,1]=np.sin(q_2)*np.sin(q_3)\n",
      "P_S[0,2]=np.sin(q_2)*np.cos(q_3)\n",
      "P_S[0,3]=-(L_2 + L_3*np.cos(q_3))*np.sin(q_2)\n",
      "P_S[1,0]=np.sin(q_1)*np.sin(q_2)\n",
      "P_S[1,1]=-np.sin(q_1)*np.sin(q_3)*np.cos(q_2) + np.cos(q_1)*np.cos(q_3)\n",
      "P_S[1,2]=-np.sin(q_1)*np.cos(q_2)*np.cos(q_3) + np.sin(q_3)*np.cos(q_1)\n",
      "P_S[1,3]=L_1*np.sin(q_1) + L_2*np.sin(q_1)*np.cos(q_2) + L_3*np.sin(q_1)*np.cos(q_2)*np.cos(q_3) + L_3*np.sin(q_3)*np.cos(q_1)\n",
      "P_S[2,0]=-np.sin(q_2)*np.cos(q_1)\n",
      "P_S[2,1]=np.sin(q_1)*np.cos(q_3) + np.sin(q_3)*np.cos(q_1)*np.cos(q_2)\n",
      "P_S[2,2]=np.sin(q_1)*np.sin(q_3) + np.cos(q_1)*np.cos(q_2)*np.cos(q_3)\n",
      "P_S[2,3]=-L_1*np.cos(q_1) - L_2*np.cos(q_1)*np.cos(q_2) + L_3*np.sin(q_1)*np.sin(q_3) - L_3*np.cos(q_1)*np.cos(q_2)*np.cos(q_3)\n",
      "P_S[3,0]=0\n",
      "P_S[3,1]=0\n",
      "P_S[3,2]=0\n",
      "P_S[3,3]=1\n"
     ]
    }
   ],
   "source": [
    "# Printing the equations\n",
    "print(\"----- ACTUAL POSE OF S IN I -----\")\n",
    "for i in range(P_S.shape[0]):\n",
    "    for j in range(P_S.shape[1]):\n",
    "        print(f\"P_S[{i},{j}] = {str(P_S[i,j]).replace(\"cos\", \"np.cos\").replace(\"sin\", \"np.sin\")}\")"
   ]
  }
 ],
 "metadata": {
  "kernelspec": {
   "display_name": "Python 3",
   "language": "python",
   "name": "python3"
  },
  "language_info": {
   "codemirror_mode": {
    "name": "ipython",
    "version": 3
   },
   "file_extension": ".py",
   "mimetype": "text/x-python",
   "name": "python",
   "nbconvert_exporter": "python",
   "pygments_lexer": "ipython3",
   "version": "3.12.3"
  }
 },
 "nbformat": 4,
 "nbformat_minor": 5
}
