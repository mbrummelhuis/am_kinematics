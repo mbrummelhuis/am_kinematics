{
 "cells": [
  {
   "cell_type": "code",
   "execution_count": 1,
   "metadata": {},
   "outputs": [],
   "source": [
    "import sympy as sp\n",
    "import sympy.physics.mechanics as me\n",
    "\n",
    "sp.init_printing()"
   ]
  },
  {
   "cell_type": "code",
   "execution_count": 2,
   "metadata": {},
   "outputs": [],
   "source": [
    "# symbols\n",
    "mb, mm, Ib, Im, l, r, g = sp.symbols('m_b m_m I_b I_m l r g', real=True, positive=True) # Model parameters (stationary)\n",
    "T1, T2, tau = sp.symbols('T_1 T_2 tau', real=True) # Control inputs\n",
    "t = sp.symbols('t', real=True) # Time\n",
    "\n",
    "xb, yb, pb, q = me.dynamicsymbols('x_b y_b p_b q') # Generalized coordinates\n",
    "xb_dot, yb_dot, pb_dot, q_dot = me.dynamicsymbols('x_b y_b p_b q', 1) # Generalized speeds\n",
    "xb_ddot, yb_ddot, pb_ddot, q_ddot = me.dynamicsymbols('x_b y_b p_b q', 2) # Generalized accelerations"
   ]
  },
  {
   "cell_type": "code",
   "execution_count": 3,
   "metadata": {},
   "outputs": [
    {
     "data": {
      "text/latex": [
       "$\\displaystyle \\left[\\begin{matrix}1.0 m_{b} \\frac{d^{2}}{d t^{2}} x_{b}{\\left(t \\right)} + 1.0 m_{m} \\frac{d^{2}}{d t^{2}} x_{b}{\\left(t \\right)}\\\\g m_{b} + g m_{m} + 1.0 m_{b} \\frac{d^{2}}{d t^{2}} y_{b}{\\left(t \\right)} + 1.0 m_{m} \\frac{d^{2}}{d t^{2}} y_{b}{\\left(t \\right)}\\\\1.0 I_{b} \\frac{d^{2}}{d t^{2}} p_{b}{\\left(t \\right)} + 1.0 I_{m} \\frac{d^{2}}{d t^{2}} p_{b}{\\left(t \\right)} + 1.0 I_{m} \\frac{d^{2}}{d t^{2}} q{\\left(t \\right)} + 0.25 l^{2} m_{m} \\frac{d^{2}}{d t^{2}} p_{b}{\\left(t \\right)} + 0.25 l^{2} m_{m} \\frac{d^{2}}{d t^{2}} q{\\left(t \\right)}\\\\1.0 I_{m} \\frac{d^{2}}{d t^{2}} p_{b}{\\left(t \\right)} + 1.0 I_{m} \\frac{d^{2}}{d t^{2}} q{\\left(t \\right)} + 0.5 g l m_{m} \\sin{\\left(q{\\left(t \\right)} \\right)} + 0.25 l^{2} m_{m} \\frac{d^{2}}{d t^{2}} p_{b}{\\left(t \\right)} + 0.25 l^{2} m_{m} \\frac{d^{2}}{d t^{2}} q{\\left(t \\right)}\\end{matrix}\\right]$"
      ],
      "text/plain": [
       "⎡                                           2                    2             ↪\n",
       "⎢                                          d                    d              ↪\n",
       "⎢                                  1.0⋅m_b⋅───(x_b(t)) + 1.0⋅mₘ⋅───(x_b(t))    ↪\n",
       "⎢                                            2                    2            ↪\n",
       "⎢                                          dt                   dt             ↪\n",
       "⎢                                                                              ↪\n",
       "⎢                                                  2                    2      ↪\n",
       "⎢                                                 d                    d       ↪\n",
       "⎢                          g⋅m_b + g⋅mₘ + 1.0⋅m_b⋅───(y_b(t)) + 1.0⋅mₘ⋅───(y_b ↪\n",
       "⎢                                                   2                    2     ↪\n",
       "⎢                                                 dt                   dt      ↪\n",
       "⎢                                                                              ↪\n",
       "⎢         2                    2                    2                      2   ↪\n",
       "⎢        d                    d                    d                 2    d    ↪\n",
       "⎢1.0⋅I_b⋅───(p_b(t)) + 1.0⋅Iₘ⋅───(p_b(t)) + 1.0⋅Iₘ⋅───(q(t)) + 0.25⋅l ⋅mₘ⋅───( ↪\n",
       "⎢          2                    2                    2                      2  ↪\n",
       "⎢        dt                   dt                   dt                     dt   ↪\n",
       "⎢                                                                              ↪\n",
       "⎢        2                    2                                             2  ↪\n",
       "⎢       d                    d                                        2    d   ↪\n",
       "⎢1.0⋅Iₘ⋅───(p_b(t)) + 1.0⋅Iₘ⋅───(q(t)) + 0.5⋅g⋅l⋅mₘ⋅sin(q(t)) + 0.25⋅l ⋅mₘ⋅─── ↪\n",
       "⎢         2                    2                                             2 ↪\n",
       "⎣       dt                   dt                                            dt  ↪\n",
       "\n",
       "↪                                ⎤\n",
       "↪                                ⎥\n",
       "↪                                ⎥\n",
       "↪                                ⎥\n",
       "↪                                ⎥\n",
       "↪                                ⎥\n",
       "↪                                ⎥\n",
       "↪                                ⎥\n",
       "↪ (t))                           ⎥\n",
       "↪                                ⎥\n",
       "↪                                ⎥\n",
       "↪                                ⎥\n",
       "↪                       2        ⎥\n",
       "↪                 2    d         ⎥\n",
       "↪ p_b(t)) + 0.25⋅l ⋅mₘ⋅───(q(t)) ⎥\n",
       "↪                        2       ⎥\n",
       "↪                      dt        ⎥\n",
       "↪                                ⎥\n",
       "↪                        2       ⎥\n",
       "↪                  2    d        ⎥\n",
       "↪ (p_b(t)) + 0.25⋅l ⋅mₘ⋅───(q(t))⎥\n",
       "↪                         2      ⎥\n",
       "↪                       dt       ⎦"
      ]
     },
     "metadata": {},
     "output_type": "display_data"
    }
   ],
   "source": [
    "# Kinetic and potential energy\n",
    "Kb = 0.5*mb*(xb_dot**2 + yb_dot**2) + 0.5*Ib*(pb_dot**2)\n",
    "Km = 0.5*mm*(xb_dot**2 + yb_dot**2) + 0.5*mm*(0.5*l*(q_dot+pb_dot))**2 + 0.5*Im*(q_dot+pb_dot)**2\n",
    "T = Kb + Km\n",
    "V = mb*g*yb + mm*g*(yb - 0.5*l*sp.cos(q))\n",
    "# Euler-Lagrange equations\n",
    "L = T - V\n",
    "eqn_lhs = sp.Matrix([sp.diff(sp.diff(L, xb_dot), 't')-sp.diff(L, xb),\n",
    "                sp.diff(sp.diff(L, yb_dot), 't')-sp.diff(L, yb),\n",
    "                sp.diff(sp.diff(L, pb_dot), 't')-sp.diff(L, pb),\n",
    "                sp.diff(sp.diff(L, q_dot), 't')-sp.diff(L, q)])\n",
    "eqn_lhs = sp.expand(eqn_lhs)\n",
    "display(eqn_lhs)\n",
    "\n",
    "F = sp.Matrix([sp.sin(pb)*(T1+T2), sp.cos(pb)*(T1+T2), -r*T1+r*T2, tau])\n",
    "\n"
   ]
  },
  {
   "cell_type": "code",
   "execution_count": 4,
   "metadata": {},
   "outputs": [
    {
     "name": "stdout",
     "output_type": "stream",
     "text": [
      "Mass Matrix (M):\n"
     ]
    },
    {
     "data": {
      "text/latex": [
       "$\\displaystyle \\left[\\begin{matrix}1.0 m_{b} + 1.0 m_{m} & 0 & 0 & 0\\\\0 & 1.0 m_{b} + 1.0 m_{m} & 0 & 0\\\\0 & 0 & 1.0 I_{b} + 1.0 I_{m} + 0.25 l^{2} m_{m} & 1.0 I_{m} + 0.25 l^{2} m_{m}\\\\0 & 0 & 1.0 I_{m} + 0.25 l^{2} m_{m} & 1.0 I_{m} + 0.25 l^{2} m_{m}\\end{matrix}\\right]$"
      ],
      "text/plain": [
       "⎡1.0⋅m_b + 1.0⋅mₘ         0                        0                         0 ↪\n",
       "⎢                                                                              ↪\n",
       "⎢       0          1.0⋅m_b + 1.0⋅mₘ                0                         0 ↪\n",
       "⎢                                                                              ↪\n",
       "⎢                                                             2                ↪\n",
       "⎢       0                 0          1.0⋅I_b + 1.0⋅Iₘ + 0.25⋅l ⋅mₘ  1.0⋅Iₘ + 0 ↪\n",
       "⎢                                                                              ↪\n",
       "⎢                                                        2                     ↪\n",
       "⎣       0                 0               1.0⋅Iₘ + 0.25⋅l ⋅mₘ       1.0⋅Iₘ + 0 ↪\n",
       "\n",
       "↪          ⎤\n",
       "↪          ⎥\n",
       "↪          ⎥\n",
       "↪          ⎥\n",
       "↪      2   ⎥\n",
       "↪ .25⋅l ⋅mₘ⎥\n",
       "↪          ⎥\n",
       "↪      2   ⎥\n",
       "↪ .25⋅l ⋅mₘ⎦"
      ]
     },
     "metadata": {},
     "output_type": "display_data"
    },
    {
     "name": "stdout",
     "output_type": "stream",
     "text": [
      "\n",
      "Coriolis Matrix (C):\n"
     ]
    },
    {
     "data": {
      "text/latex": [
       "$\\displaystyle \\left[\\begin{matrix}0 & 0 & 0 & 0\\\\0 & 0 & 0 & 0\\\\0 & 0 & 0 & 0\\\\0 & 0 & 0 & 0\\end{matrix}\\right]$"
      ],
      "text/plain": [
       "⎡0  0  0  0⎤\n",
       "⎢          ⎥\n",
       "⎢0  0  0  0⎥\n",
       "⎢          ⎥\n",
       "⎢0  0  0  0⎥\n",
       "⎢          ⎥\n",
       "⎣0  0  0  0⎦"
      ]
     },
     "metadata": {},
     "output_type": "display_data"
    },
    {
     "name": "stdout",
     "output_type": "stream",
     "text": [
      "\n",
      "Gravity Vector (G):\n"
     ]
    },
    {
     "data": {
      "text/latex": [
       "$\\displaystyle \\left[\\begin{matrix}0\\\\g \\left(m_{b} + m_{m}\\right)\\\\0\\\\0.5 g l m_{m} \\sin{\\left(q{\\left(t \\right)} \\right)}\\end{matrix}\\right]$"
      ],
      "text/plain": [
       "⎡         0          ⎤\n",
       "⎢                    ⎥\n",
       "⎢    g⋅(m_b + mₘ)    ⎥\n",
       "⎢                    ⎥\n",
       "⎢         0          ⎥\n",
       "⎢                    ⎥\n",
       "⎣0.5⋅g⋅l⋅mₘ⋅sin(q(t))⎦"
      ]
     },
     "metadata": {},
     "output_type": "display_data"
    },
    {
     "name": "stdout",
     "output_type": "stream",
     "text": [
      "\n",
      "Control Force Vector (F):\n"
     ]
    },
    {
     "data": {
      "text/latex": [
       "$\\displaystyle \\left[\\begin{matrix}\\left(T_{1} + T_{2}\\right) \\sin{\\left(p_{b}{\\left(t \\right)} \\right)}\\\\\\left(T_{1} + T_{2}\\right) \\cos{\\left(p_{b}{\\left(t \\right)} \\right)}\\\\- T_{1} r + T_{2} r\\\\\\tau\\end{matrix}\\right]$"
      ],
      "text/plain": [
       "⎡(T₁ + T₂)⋅sin(p_b(t))⎤\n",
       "⎢                     ⎥\n",
       "⎢(T₁ + T₂)⋅cos(p_b(t))⎥\n",
       "⎢                     ⎥\n",
       "⎢    -T₁⋅r + T₂⋅r     ⎥\n",
       "⎢                     ⎥\n",
       "⎣          τ          ⎦"
      ]
     },
     "metadata": {},
     "output_type": "display_data"
    },
    {
     "name": "stdout",
     "output_type": "stream",
     "text": [
      "\n",
      "Generalized accelerations (xi_ddots):\n"
     ]
    },
    {
     "data": {
      "text/latex": [
       "$\\displaystyle \\left[\\begin{matrix}\\frac{0.25 \\left(T_{1} + T_{2}\\right) \\sin{\\left(p_{b}{\\left(t \\right)} \\right)}}{0.25 m_{b} + 0.25 m_{m}}\\\\\\frac{0.25 \\left(- g \\left(m_{b} + m_{m}\\right) + \\left(T_{1} + T_{2}\\right) \\cos{\\left(p_{b}{\\left(t \\right)} \\right)}\\right)}{0.25 m_{b} + 0.25 m_{m}}\\\\\\frac{1.0 \\left(- T_{1} r + T_{2} r\\right)}{I_{b}} - \\frac{1.0 \\left(- 0.5 g l m_{m} \\sin{\\left(q{\\left(t \\right)} \\right)} + \\tau\\right)}{I_{b}}\\\\\\frac{\\left(- 0.5 g l m_{m} \\sin{\\left(q{\\left(t \\right)} \\right)} + \\tau\\right) \\left(1.0 I_{b} + 1.0 I_{m} + 0.25 l^{2} m_{m}\\right)}{1.0 I_{b} I_{m} + 0.25 I_{b} l^{2} m_{m}} - \\frac{1.0 \\left(- T_{1} r + T_{2} r\\right)}{I_{b}}\\end{matrix}\\right]$"
      ],
      "text/plain": [
       "⎡                           0.25⋅(T₁ + T₂)⋅sin(p_b(t))                         ↪\n",
       "⎢                           ──────────────────────────                         ↪\n",
       "⎢                               0.25⋅m_b + 0.25⋅mₘ                             ↪\n",
       "⎢                                                                              ↪\n",
       "⎢                  0.25⋅(-g⋅(m_b + mₘ) + (T₁ + T₂)⋅cos(p_b(t)))                ↪\n",
       "⎢                  ────────────────────────────────────────────                ↪\n",
       "⎢                               0.25⋅m_b + 0.25⋅mₘ                             ↪\n",
       "⎢                                                                              ↪\n",
       "⎢              1.0⋅(-T₁⋅r + T₂⋅r)   1.0⋅(-0.5⋅g⋅l⋅mₘ⋅sin(q(t)) + τ)            ↪\n",
       "⎢              ────────────────── - ───────────────────────────────            ↪\n",
       "⎢                     I_b                         I_b                          ↪\n",
       "⎢                                                                              ↪\n",
       "⎢                            ⎛                         2   ⎞                   ↪\n",
       "⎢(-0.5⋅g⋅l⋅mₘ⋅sin(q(t)) + τ)⋅⎝1.0⋅I_b + 1.0⋅Iₘ + 0.25⋅l ⋅mₘ⎠   1.0⋅(-T₁⋅r + T₂ ↪\n",
       "⎢─────────────────────────────────────────────────────────── - ─────────────── ↪\n",
       "⎢                                       2                             I_b      ↪\n",
       "⎣                1.0⋅I_b⋅Iₘ + 0.25⋅I_b⋅l ⋅mₘ                                   ↪\n",
       "\n",
       "↪    ⎤\n",
       "↪    ⎥\n",
       "↪    ⎥\n",
       "↪    ⎥\n",
       "↪    ⎥\n",
       "↪    ⎥\n",
       "↪    ⎥\n",
       "↪    ⎥\n",
       "↪    ⎥\n",
       "↪    ⎥\n",
       "↪    ⎥\n",
       "↪    ⎥\n",
       "↪    ⎥\n",
       "↪ ⋅r)⎥\n",
       "↪ ───⎥\n",
       "↪    ⎥\n",
       "↪    ⎦"
      ]
     },
     "metadata": {},
     "output_type": "display_data"
    }
   ],
   "source": [
    "# Generalized coordinates and accelerations for M, C, G isolation\n",
    "xis = [xb, yb, pb, q]\n",
    "xi_dots = [xb_dot, yb_dot, pb_dot, q_dot]\n",
    "xi_ddots = [xb_ddot, yb_ddot, pb_ddot, q_ddot]\n",
    "\n",
    "# Isolate M, C, G from the equations\n",
    "M = sp.zeros(len(xis), len(xis))  # Mass matrix\n",
    "C = sp.zeros(len(xis), len(xis))  # Coriolis matrix\n",
    "G = sp.zeros(len(xis), 1)  # Gravity vector\n",
    "\n",
    "# Iterate over the equations to isolate M, C, G based on their linear dependence\n",
    "for i, eq in enumerate(eqn_lhs):\n",
    "    # Extract M\n",
    "    for j, xi_ddot in enumerate(xi_ddots):\n",
    "        M[i, j] = sp.simplify(eq.coeff(xi_ddot))\n",
    "    \n",
    "    # Subtract the mass-related terms from the equation to find the rest\n",
    "    eq_residual = eq - sum(M[i, j] * xi_ddots[j] for j in range(len(xi_ddots)))\n",
    "    \n",
    "    # Extract C\n",
    "    for j, xi_dot in enumerate(xi_dots):\n",
    "        C[i, j] = sp.simplify(eq_residual.coeff(xi_dot))\n",
    "    \n",
    "    # Subtract the Coriolis-related terms to find the gravity vector\n",
    "    eq_residual -= sum(C[i, j] * xi_dots[j] for j in range(len(xi_dots)))\n",
    "    \n",
    "    # Extract G\n",
    "    G[i, 0] = sp.simplify(eq_residual)\n",
    "\n",
    "# Display results\n",
    "print(\"Mass Matrix (M):\")\n",
    "display(M)\n",
    "\n",
    "print(\"\\nCoriolis Matrix (C):\")\n",
    "display(C)\n",
    "\n",
    "print(\"\\nGravity Vector (G):\")\n",
    "display(G)\n",
    "\n",
    "print(\"\\nControl Force Vector (F):\")\n",
    "display(F)\n",
    "\n",
    "print(\"\\nGeneralized accelerations (xi_ddots):\")\n",
    "EOM = M.inv()*(F - C*sp.Matrix(xi_dots) - G)\n",
    "display(EOM)"
   ]
  },
  {
   "cell_type": "code",
   "execution_count": 5,
   "metadata": {},
   "outputs": [
    {
     "data": {
      "text/latex": [
       "$\\displaystyle \\left[\\begin{matrix}xb_{dot}\\\\yb_{dot}\\\\pb_{dot}\\\\q_{dot}\\\\\\frac{0.25 \\left(T_{1} + T_{2}\\right) \\sin{\\left(p_{b} \\right)}}{0.25 m_{b} + 0.25 m_{m}}\\\\\\frac{0.25 \\left(- g \\left(m_{b} + m_{m}\\right) + \\left(T_{1} + T_{2}\\right) \\cos{\\left(p_{b} \\right)}\\right)}{0.25 m_{b} + 0.25 m_{m}}\\\\\\frac{1.0 \\left(- T_{1} r + T_{2} r\\right)}{I_{b}} - \\frac{1.0 \\left(- 0.5 g l m_{m} \\sin{\\left(q \\right)} + \\tau\\right)}{I_{b}}\\\\\\frac{\\left(- 0.5 g l m_{m} \\sin{\\left(q \\right)} + \\tau\\right) \\left(1.0 I_{b} + 1.0 I_{m} + 0.25 l^{2} m_{m}\\right)}{1.0 I_{b} I_{m} + 0.25 I_{b} l^{2} m_{m}} - \\frac{1.0 \\left(- T_{1} r + T_{2} r\\right)}{I_{b}}\\end{matrix}\\right]$"
      ],
      "text/plain": [
       "⎡                                   xb_dot                                    ⎤\n",
       "⎢                                                                             ⎥\n",
       "⎢                                   yb_dot                                    ⎥\n",
       "⎢                                                                             ⎥\n",
       "⎢                                   pb_dot                                    ⎥\n",
       "⎢                                                                             ⎥\n",
       "⎢                                    q_dot                                    ⎥\n",
       "⎢                                                                             ⎥\n",
       "⎢                           0.25⋅(T₁ + T₂)⋅sin(p_b)                           ⎥\n",
       "⎢                           ───────────────────────                           ⎥\n",
       "⎢                             0.25⋅m_b + 0.25⋅mₘ                              ⎥\n",
       "⎢                                                                             ⎥\n",
       "⎢                  0.25⋅(-g⋅(m_b + mₘ) + (T₁ + T₂)⋅cos(p_b))                  ⎥\n",
       "⎢                  ─────────────────────────────────────────                  ⎥\n",
       "⎢                             0.25⋅m_b + 0.25⋅mₘ                              ⎥\n",
       "⎢                                                                             ⎥\n",
       "⎢              1.0⋅(-T₁⋅r + T₂⋅r)   1.0⋅(-0.5⋅g⋅l⋅mₘ⋅sin(q) + τ)              ⎥\n",
       "⎢              ────────────────── - ────────────────────────────              ⎥\n",
       "⎢                     I_b                       I_b                           ⎥\n",
       "⎢                                                                             ⎥\n",
       "⎢                         ⎛                         2   ⎞                     ⎥\n",
       "⎢(-0.5⋅g⋅l⋅mₘ⋅sin(q) + τ)⋅⎝1.0⋅I_b + 1.0⋅Iₘ + 0.25⋅l ⋅mₘ⎠   1.0⋅(-T₁⋅r + T₂⋅r)⎥\n",
       "⎢──────────────────────────────────────────────────────── - ──────────────────⎥\n",
       "⎢                                     2                            I_b        ⎥\n",
       "⎣              1.0⋅I_b⋅Iₘ + 0.25⋅I_b⋅l ⋅mₘ                                    ⎦"
      ]
     },
     "metadata": {},
     "output_type": "display_data"
    }
   ],
   "source": [
    "# Turn into a function of the form x_dot = f(x, u)\n",
    "x = sp.Matrix([xb, yb, pb, q, xb_dot, yb_dot, pb_dot, q_dot])\n",
    "u = sp.Matrix([T1, T2, tau])\n",
    "p = sp.Matrix([mb, mm, Ib, Im, l, r, g])\n",
    "f = sp.Matrix([xb_dot, yb_dot, pb_dot, q_dot, EOM])\n",
    "# Substitute all the time-dependent variables with symbols\n",
    "f = f.subs({xb: sp.symbols('x_b', real=True, positive=True),\n",
    "            yb: sp.symbols('y_b', real=True, positive=True),\n",
    "            pb: sp.symbols('p_b', real=True, positive=True),\n",
    "            q: sp.symbols('q', real=True, positive=True),\n",
    "            xb_dot: sp.symbols('xb_dot', real=True, positive=True),\n",
    "            yb_dot: sp.symbols('yb_dot', real=True, positive=True),\n",
    "            pb_dot: sp.symbols('pb_dot', real=True, positive=True),\n",
    "            q_dot: sp.symbols('q_dot', real=True, positive=True)})\n",
    "display(f)\n",
    "\n",
    "# Save the model to disk\n",
    "model_name = '2d_simple_aerial_manipulator'\n",
    "import pickle\n",
    "with open(f'{model_name}.pkl', 'wb') as file:\n",
    "    pickle.dump(f, file)\n"
   ]
  }
 ],
 "metadata": {
  "kernelspec": {
   "display_name": "kinematics-venv",
   "language": "python",
   "name": "python3"
  },
  "language_info": {
   "codemirror_mode": {
    "name": "ipython",
    "version": 3
   },
   "file_extension": ".py",
   "mimetype": "text/x-python",
   "name": "python",
   "nbconvert_exporter": "python",
   "pygments_lexer": "ipython3",
   "version": "3.10.12"
  }
 },
 "nbformat": 4,
 "nbformat_minor": 2
}
