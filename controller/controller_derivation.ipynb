{
 "cells": [
  {
   "cell_type": "code",
   "execution_count": 1,
   "metadata": {},
   "outputs": [],
   "source": [
    "import sympy as sp\n",
    "import sympy.physics.mechanics as me\n",
    "\n",
    "import numpy as np\n",
    "\n",
    "sp.init_printing()"
   ]
  },
  {
   "cell_type": "code",
   "execution_count": 9,
   "metadata": {},
   "outputs": [
    {
     "data": {
      "text/latex": [
       "$\\displaystyle \\left[\\begin{matrix}\\cos{\\left(\\operatorname{pb}{\\left(t \\right)} + q{\\left(t \\right)} \\right)} & - \\sin{\\left(\\operatorname{pb}{\\left(t \\right)} + q{\\left(t \\right)} \\right)} & - l \\sin^{2}{\\left(\\operatorname{pb}{\\left(t \\right)} + q{\\left(t \\right)} \\right)} + l \\cos^{2}{\\left(\\operatorname{pb}{\\left(t \\right)} + q{\\left(t \\right)} \\right)} & - l \\sin^{2}{\\left(\\operatorname{pb}{\\left(t \\right)} + q{\\left(t \\right)} \\right)} + l \\cos^{2}{\\left(\\operatorname{pb}{\\left(t \\right)} + q{\\left(t \\right)} \\right)}\\\\\\sin{\\left(\\operatorname{pb}{\\left(t \\right)} + q{\\left(t \\right)} \\right)} & \\cos{\\left(\\operatorname{pb}{\\left(t \\right)} + q{\\left(t \\right)} \\right)} & 2 l \\sin{\\left(\\operatorname{pb}{\\left(t \\right)} + q{\\left(t \\right)} \\right)} \\cos{\\left(\\operatorname{pb}{\\left(t \\right)} + q{\\left(t \\right)} \\right)} & 2 l \\sin{\\left(\\operatorname{pb}{\\left(t \\right)} + q{\\left(t \\right)} \\right)} \\cos{\\left(\\operatorname{pb}{\\left(t \\right)} + q{\\left(t \\right)} \\right)}\\\\0 & 0 & 1 & 1\\end{matrix}\\right]$"
      ],
      "text/plain": [
       "⎡                                              2                      2        ↪\n",
       "⎢cos(pb(t) + q(t))  -sin(pb(t) + q(t))  - l⋅sin (pb(t) + q(t)) + l⋅cos (pb(t)  ↪\n",
       "⎢                                                                              ↪\n",
       "⎢sin(pb(t) + q(t))  cos(pb(t) + q(t))      2⋅l⋅sin(pb(t) + q(t))⋅cos(pb(t) + q ↪\n",
       "⎢                                                                              ↪\n",
       "⎣        0                  0                                 1                ↪\n",
       "\n",
       "↪                 2                      2              ⎤\n",
       "↪ + q(t))  - l⋅sin (pb(t) + q(t)) + l⋅cos (pb(t) + q(t))⎥\n",
       "↪                                                       ⎥\n",
       "↪ (t))        2⋅l⋅sin(pb(t) + q(t))⋅cos(pb(t) + q(t))   ⎥\n",
       "↪                                                       ⎥\n",
       "↪                                1                      ⎦"
      ]
     },
     "metadata": {},
     "output_type": "display_data"
    }
   ],
   "source": [
    "# Forward kinematics\n",
    "# Define the symbolic variables\n",
    "xb, yb, pb, q = me.dynamicsymbols('xb yb pb q') # State\n",
    "xbd, ybd, pbd, qd = me.dynamicsymbols('xb yb pb q', 1) # State derivatives\n",
    "l, r = sp.symbols('l r') # Parameters\n",
    "\n",
    "# Define the position equations\n",
    "xe = xb + l*sp.sin(pb+q)\n",
    "ye = yb - l*sp.cos(pb+q)\n",
    "pe = pb + q\n",
    "\n",
    "# Define the velocity equations\n",
    "xe_dot = xbd + l*sp.cos(pb+q)*(pbd+qd)\n",
    "ye_dot = ybd + l*sp.sin(pb+q)*(pbd+qd)\n",
    "pe_dot = pbd + qd\n",
    "\n",
    "# Rotation matrix of end effector in world frame\n",
    "R_e = sp.Matrix([[sp.cos(pe), -sp.sin(pe)],\n",
    "                 [sp.sin(pe),  sp.cos(pe)]])\n",
    "\n",
    "# Geometric Jacobian in world frame\n",
    "J = sp.Matrix([[1, 0, l*sp.cos(pb+q), l*sp.cos(pb+q)],\n",
    "               [0, 1, l*sp.sin(pb+q), l*sp.sin(pb+q)],\n",
    "               [0, 0, 1, 1]])\n",
    "\n",
    "# Jacobian in end-effector frame\n",
    "jacobian_rotation = sp.Matrix([[R_e, sp.zeros(2,1)],[sp.zeros(1,2), sp.eye(1)]])\n",
    "J_e = jacobian_rotation * J\n",
    "\n",
    "display(J_e)"
   ]
  },
  {
   "cell_type": "code",
   "execution_count": 10,
   "metadata": {},
   "outputs": [
    {
     "data": {
      "text/latex": [
       "$\\displaystyle \\left[\\begin{matrix}\\cos{\\left(p_{b} + q \\right)} & - \\sin{\\left(p_{b} + q \\right)} & - l \\sin^{2}{\\left(p_{b} + q \\right)} + l \\cos^{2}{\\left(p_{b} + q \\right)} & - l \\sin^{2}{\\left(p_{b} + q \\right)} + l \\cos^{2}{\\left(p_{b} + q \\right)}\\\\\\sin{\\left(p_{b} + q \\right)} & \\cos{\\left(p_{b} + q \\right)} & 2 l \\sin{\\left(p_{b} + q \\right)} \\cos{\\left(p_{b} + q \\right)} & 2 l \\sin{\\left(p_{b} + q \\right)} \\cos{\\left(p_{b} + q \\right)}\\\\0 & 0 & 1 & 1\\end{matrix}\\right]$"
      ],
      "text/plain": [
       "⎡                                    2                 2                  2    ↪\n",
       "⎢cos(p_b + q)  -sin(p_b + q)  - l⋅sin (p_b + q) + l⋅cos (p_b + q)  - l⋅sin (p_ ↪\n",
       "⎢                                                                              ↪\n",
       "⎢sin(p_b + q)  cos(p_b + q)      2⋅l⋅sin(p_b + q)⋅cos(p_b + q)        2⋅l⋅sin( ↪\n",
       "⎢                                                                              ↪\n",
       "⎣     0              0                         1                               ↪\n",
       "\n",
       "↪               2         ⎤\n",
       "↪ b + q) + l⋅cos (p_b + q)⎥\n",
       "↪                         ⎥\n",
       "↪ p_b + q)⋅cos(p_b + q)   ⎥\n",
       "↪                         ⎥\n",
       "↪       1                 ⎦"
      ]
     },
     "metadata": {},
     "output_type": "display_data"
    }
   ],
   "source": [
    "# Lambdify the jacobian\n",
    "# Turn into a function of the form x_dot = f(x, u)\n",
    "x = sp.Matrix([xb, yb, pb, q])\n",
    "p = sp.Matrix([l, r])\n",
    "# Substitute all the time-dependent variables with symbols\n",
    "J_e_subbed = J_e.subs({xb: sp.symbols('x_b', real=True, positive=True),\n",
    "            yb: sp.symbols('y_b', real=True, positive=True),\n",
    "            pb: sp.symbols('p_b', real=True, positive=True),\n",
    "            q: sp.symbols('q', real=True, positive=True)})\n",
    "display(J_e_subbed)\n",
    "f = sp.lambdify((x, p), J_e_subbed, 'numpy')"
   ]
  },
  {
   "cell_type": "code",
   "execution_count": 11,
   "metadata": {},
   "outputs": [],
   "source": [
    "# Save the end-effector jacobian to file\n",
    "model_name = '2d_simple_aerial_manipulator_end_effector_jacobian'\n",
    "import dill\n",
    "dill.settings['recurse'] = True\n",
    "dill.dump(f, open(model_name+'.pkl', 'wb'))"
   ]
  }
 ],
 "metadata": {
  "kernelspec": {
   "display_name": "kinematics-venv",
   "language": "python",
   "name": "python3"
  },
  "language_info": {
   "codemirror_mode": {
    "name": "ipython",
    "version": 3
   },
   "file_extension": ".py",
   "mimetype": "text/x-python",
   "name": "python",
   "nbconvert_exporter": "python",
   "pygments_lexer": "ipython3",
   "version": "3.10.12"
  }
 },
 "nbformat": 4,
 "nbformat_minor": 2
}
