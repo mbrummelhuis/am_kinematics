{
 "cells": [
  {
   "cell_type": "code",
   "execution_count": 150,
   "metadata": {},
   "outputs": [],
   "source": [
    "import sympy as sp\n",
    "import sympy.physics.mechanics as me\n",
    "\n",
    "from scipy.integrate import solve_ivp\n",
    "\n",
    "import numpy as np\n",
    "\n",
    "sp.init_printing()"
   ]
  },
  {
   "cell_type": "code",
   "execution_count": 151,
   "metadata": {},
   "outputs": [],
   "source": [
    "# symbols\n",
    "mb, mm, Ib, Im, l, r, g = sp.symbols('m_b m_m I_b I_m l r g', real=True, positive=True) # Model parameters (stationary)\n",
    "T1, T2, tau = sp.symbols('T_1 T_2 tau', real=True) # Control inputs\n",
    "t = sp.symbols('t', real=True) # Time\n",
    "\n",
    "xb, yb, pb, q = me.dynamicsymbols('x_b y_b p_b q') # Generalized coordinates\n",
    "xb_dot, yb_dot, pb_dot, q_dot = me.dynamicsymbols('x_b y_b p_b q', 1) # Generalized speeds\n",
    "xb_ddot, yb_ddot, pb_ddot, q_ddot = me.dynamicsymbols('x_b y_b p_b q', 2) # Generalized accelerations"
   ]
  },
  {
   "cell_type": "code",
   "execution_count": 152,
   "metadata": {},
   "outputs": [
    {
     "data": {
      "text/latex": [
       "$\\displaystyle \\left[\\begin{matrix}1.0 m_{b} \\frac{d^{2}}{d t^{2}} x_{b}{\\left(t \\right)} + 1.0 m_{m} \\frac{d^{2}}{d t^{2}} x_{b}{\\left(t \\right)}\\\\g m_{b} + g m_{m} + 1.0 m_{b} \\frac{d^{2}}{d t^{2}} y_{b}{\\left(t \\right)} + 1.0 m_{m} \\frac{d^{2}}{d t^{2}} y_{b}{\\left(t \\right)}\\\\1.0 I_{b} \\frac{d^{2}}{d t^{2}} p_{b}{\\left(t \\right)} + 1.0 I_{m} \\frac{d^{2}}{d t^{2}} p_{b}{\\left(t \\right)} + 1.0 I_{m} \\frac{d^{2}}{d t^{2}} q{\\left(t \\right)} + 0.25 l^{2} m_{m} \\frac{d^{2}}{d t^{2}} p_{b}{\\left(t \\right)} + 0.25 l^{2} m_{m} \\frac{d^{2}}{d t^{2}} q{\\left(t \\right)}\\\\1.0 I_{m} \\frac{d^{2}}{d t^{2}} p_{b}{\\left(t \\right)} + 1.0 I_{m} \\frac{d^{2}}{d t^{2}} q{\\left(t \\right)} + 0.5 g l m_{m} \\sin{\\left(q{\\left(t \\right)} \\right)} + 0.25 l^{2} m_{m} \\frac{d^{2}}{d t^{2}} p_{b}{\\left(t \\right)} + 0.25 l^{2} m_{m} \\frac{d^{2}}{d t^{2}} q{\\left(t \\right)}\\end{matrix}\\right]$"
      ],
      "text/plain": [
       "⎡                                           2                    2             ↪\n",
       "⎢                                          d                    d              ↪\n",
       "⎢                                  1.0⋅m_b⋅───(x_b(t)) + 1.0⋅mₘ⋅───(x_b(t))    ↪\n",
       "⎢                                            2                    2            ↪\n",
       "⎢                                          dt                   dt             ↪\n",
       "⎢                                                                              ↪\n",
       "⎢                                                  2                    2      ↪\n",
       "⎢                                                 d                    d       ↪\n",
       "⎢                          g⋅m_b + g⋅mₘ + 1.0⋅m_b⋅───(y_b(t)) + 1.0⋅mₘ⋅───(y_b ↪\n",
       "⎢                                                   2                    2     ↪\n",
       "⎢                                                 dt                   dt      ↪\n",
       "⎢                                                                              ↪\n",
       "⎢         2                    2                    2                      2   ↪\n",
       "⎢        d                    d                    d                 2    d    ↪\n",
       "⎢1.0⋅I_b⋅───(p_b(t)) + 1.0⋅Iₘ⋅───(p_b(t)) + 1.0⋅Iₘ⋅───(q(t)) + 0.25⋅l ⋅mₘ⋅───( ↪\n",
       "⎢          2                    2                    2                      2  ↪\n",
       "⎢        dt                   dt                   dt                     dt   ↪\n",
       "⎢                                                                              ↪\n",
       "⎢        2                    2                                             2  ↪\n",
       "⎢       d                    d                                        2    d   ↪\n",
       "⎢1.0⋅Iₘ⋅───(p_b(t)) + 1.0⋅Iₘ⋅───(q(t)) + 0.5⋅g⋅l⋅mₘ⋅sin(q(t)) + 0.25⋅l ⋅mₘ⋅─── ↪\n",
       "⎢         2                    2                                             2 ↪\n",
       "⎣       dt                   dt                                            dt  ↪\n",
       "\n",
       "↪                                ⎤\n",
       "↪                                ⎥\n",
       "↪                                ⎥\n",
       "↪                                ⎥\n",
       "↪                                ⎥\n",
       "↪                                ⎥\n",
       "↪                                ⎥\n",
       "↪                                ⎥\n",
       "↪ (t))                           ⎥\n",
       "↪                                ⎥\n",
       "↪                                ⎥\n",
       "↪                                ⎥\n",
       "↪                       2        ⎥\n",
       "↪                 2    d         ⎥\n",
       "↪ p_b(t)) + 0.25⋅l ⋅mₘ⋅───(q(t)) ⎥\n",
       "↪                        2       ⎥\n",
       "↪                      dt        ⎥\n",
       "↪                                ⎥\n",
       "↪                        2       ⎥\n",
       "↪                  2    d        ⎥\n",
       "↪ (p_b(t)) + 0.25⋅l ⋅mₘ⋅───(q(t))⎥\n",
       "↪                         2      ⎥\n",
       "↪                       dt       ⎦"
      ]
     },
     "metadata": {},
     "output_type": "display_data"
    }
   ],
   "source": [
    "# Kinetic and potential energy\n",
    "Kb = 0.5*mb*(xb_dot**2 + yb_dot**2) + 0.5*Ib*(pb_dot**2)\n",
    "Km = 0.5*mm*(xb_dot**2 + yb_dot**2) + 0.5*mm*(0.5*l*(q_dot+pb_dot))**2 + 0.5*Im*(q_dot+pb_dot)**2\n",
    "T = Kb + Km\n",
    "V = mb*g*yb + mm*g*(yb - 0.5*l*sp.cos(q))\n",
    "# Euler-Lagrange equations\n",
    "L = T - V\n",
    "eqn_lhs = sp.Matrix([sp.diff(sp.diff(L, xb_dot), 't')-sp.diff(L, xb),\n",
    "                sp.diff(sp.diff(L, yb_dot), 't')-sp.diff(L, yb),\n",
    "                sp.diff(sp.diff(L, pb_dot), 't')-sp.diff(L, pb),\n",
    "                sp.diff(sp.diff(L, q_dot), 't')-sp.diff(L, q)])\n",
    "eqn_lhs = sp.expand(eqn_lhs)\n",
    "display(eqn_lhs)\n",
    "\n",
    "F = sp.Matrix([sp.sin(pb)*(T1+T2), sp.cos(pb)*(T1+T2), -r*T1+r*T2, tau])\n",
    "\n"
   ]
  },
  {
   "cell_type": "code",
   "execution_count": 153,
   "metadata": {},
   "outputs": [
    {
     "name": "stdout",
     "output_type": "stream",
     "text": [
      "Mass Matrix (M):\n"
     ]
    },
    {
     "data": {
      "text/latex": [
       "$\\displaystyle \\left[\\begin{matrix}1.0 m_{b} + 1.0 m_{m} & 0 & 0 & 0\\\\0 & 1.0 m_{b} + 1.0 m_{m} & 0 & 0\\\\0 & 0 & 1.0 I_{b} + 1.0 I_{m} + 0.25 l^{2} m_{m} & 1.0 I_{m} + 0.25 l^{2} m_{m}\\\\0 & 0 & 1.0 I_{m} + 0.25 l^{2} m_{m} & 1.0 I_{m} + 0.25 l^{2} m_{m}\\end{matrix}\\right]$"
      ],
      "text/plain": [
       "⎡1.0⋅m_b + 1.0⋅mₘ         0                        0                         0 ↪\n",
       "⎢                                                                              ↪\n",
       "⎢       0          1.0⋅m_b + 1.0⋅mₘ                0                         0 ↪\n",
       "⎢                                                                              ↪\n",
       "⎢                                                             2                ↪\n",
       "⎢       0                 0          1.0⋅I_b + 1.0⋅Iₘ + 0.25⋅l ⋅mₘ  1.0⋅Iₘ + 0 ↪\n",
       "⎢                                                                              ↪\n",
       "⎢                                                        2                     ↪\n",
       "⎣       0                 0               1.0⋅Iₘ + 0.25⋅l ⋅mₘ       1.0⋅Iₘ + 0 ↪\n",
       "\n",
       "↪          ⎤\n",
       "↪          ⎥\n",
       "↪          ⎥\n",
       "↪          ⎥\n",
       "↪      2   ⎥\n",
       "↪ .25⋅l ⋅mₘ⎥\n",
       "↪          ⎥\n",
       "↪      2   ⎥\n",
       "↪ .25⋅l ⋅mₘ⎦"
      ]
     },
     "metadata": {},
     "output_type": "display_data"
    },
    {
     "name": "stdout",
     "output_type": "stream",
     "text": [
      "\n",
      "Coriolis Matrix (C):\n"
     ]
    },
    {
     "data": {
      "text/latex": [
       "$\\displaystyle \\left[\\begin{matrix}0 & 0 & 0 & 0\\\\0 & 0 & 0 & 0\\\\0 & 0 & 0 & 0\\\\0 & 0 & 0 & 0\\end{matrix}\\right]$"
      ],
      "text/plain": [
       "⎡0  0  0  0⎤\n",
       "⎢          ⎥\n",
       "⎢0  0  0  0⎥\n",
       "⎢          ⎥\n",
       "⎢0  0  0  0⎥\n",
       "⎢          ⎥\n",
       "⎣0  0  0  0⎦"
      ]
     },
     "metadata": {},
     "output_type": "display_data"
    },
    {
     "name": "stdout",
     "output_type": "stream",
     "text": [
      "\n",
      "Gravity Vector (G):\n"
     ]
    },
    {
     "data": {
      "text/latex": [
       "$\\displaystyle \\left[\\begin{matrix}0\\\\g \\left(m_{b} + m_{m}\\right)\\\\0\\\\0.5 g l m_{m} \\sin{\\left(q{\\left(t \\right)} \\right)}\\end{matrix}\\right]$"
      ],
      "text/plain": [
       "⎡         0          ⎤\n",
       "⎢                    ⎥\n",
       "⎢    g⋅(m_b + mₘ)    ⎥\n",
       "⎢                    ⎥\n",
       "⎢         0          ⎥\n",
       "⎢                    ⎥\n",
       "⎣0.5⋅g⋅l⋅mₘ⋅sin(q(t))⎦"
      ]
     },
     "metadata": {},
     "output_type": "display_data"
    },
    {
     "name": "stdout",
     "output_type": "stream",
     "text": [
      "\n",
      "Control Force Vector (F):\n"
     ]
    },
    {
     "data": {
      "text/latex": [
       "$\\displaystyle \\left[\\begin{matrix}\\left(T_{1} + T_{2}\\right) \\sin{\\left(p_{b}{\\left(t \\right)} \\right)}\\\\\\left(T_{1} + T_{2}\\right) \\cos{\\left(p_{b}{\\left(t \\right)} \\right)}\\\\- T_{1} r + T_{2} r\\\\\\tau\\end{matrix}\\right]$"
      ],
      "text/plain": [
       "⎡(T₁ + T₂)⋅sin(p_b(t))⎤\n",
       "⎢                     ⎥\n",
       "⎢(T₁ + T₂)⋅cos(p_b(t))⎥\n",
       "⎢                     ⎥\n",
       "⎢    -T₁⋅r + T₂⋅r     ⎥\n",
       "⎢                     ⎥\n",
       "⎣          τ          ⎦"
      ]
     },
     "metadata": {},
     "output_type": "display_data"
    },
    {
     "name": "stdout",
     "output_type": "stream",
     "text": [
      "\n",
      "Generalized accelerations (xi_ddots):\n"
     ]
    },
    {
     "data": {
      "text/latex": [
       "$\\displaystyle \\left[\\begin{matrix}\\frac{0.25 \\left(T_{1} + T_{2}\\right) \\sin{\\left(p_{b}{\\left(t \\right)} \\right)}}{0.25 m_{b} + 0.25 m_{m}}\\\\\\frac{0.25 \\left(- g \\left(m_{b} + m_{m}\\right) + \\left(T_{1} + T_{2}\\right) \\cos{\\left(p_{b}{\\left(t \\right)} \\right)}\\right)}{0.25 m_{b} + 0.25 m_{m}}\\\\\\frac{1.0 \\left(- T_{1} r + T_{2} r\\right)}{I_{b}} - \\frac{1.0 \\left(- 0.5 g l m_{m} \\sin{\\left(q{\\left(t \\right)} \\right)} + \\tau\\right)}{I_{b}}\\\\\\frac{\\left(- 0.5 g l m_{m} \\sin{\\left(q{\\left(t \\right)} \\right)} + \\tau\\right) \\left(1.0 I_{b} + 1.0 I_{m} + 0.25 l^{2} m_{m}\\right)}{1.0 I_{b} I_{m} + 0.25 I_{b} l^{2} m_{m}} - \\frac{1.0 \\left(- T_{1} r + T_{2} r\\right)}{I_{b}}\\end{matrix}\\right]$"
      ],
      "text/plain": [
       "⎡                           0.25⋅(T₁ + T₂)⋅sin(p_b(t))                         ↪\n",
       "⎢                           ──────────────────────────                         ↪\n",
       "⎢                               0.25⋅m_b + 0.25⋅mₘ                             ↪\n",
       "⎢                                                                              ↪\n",
       "⎢                  0.25⋅(-g⋅(m_b + mₘ) + (T₁ + T₂)⋅cos(p_b(t)))                ↪\n",
       "⎢                  ────────────────────────────────────────────                ↪\n",
       "⎢                               0.25⋅m_b + 0.25⋅mₘ                             ↪\n",
       "⎢                                                                              ↪\n",
       "⎢              1.0⋅(-T₁⋅r + T₂⋅r)   1.0⋅(-0.5⋅g⋅l⋅mₘ⋅sin(q(t)) + τ)            ↪\n",
       "⎢              ────────────────── - ───────────────────────────────            ↪\n",
       "⎢                     I_b                         I_b                          ↪\n",
       "⎢                                                                              ↪\n",
       "⎢                            ⎛                         2   ⎞                   ↪\n",
       "⎢(-0.5⋅g⋅l⋅mₘ⋅sin(q(t)) + τ)⋅⎝1.0⋅I_b + 1.0⋅Iₘ + 0.25⋅l ⋅mₘ⎠   1.0⋅(-T₁⋅r + T₂ ↪\n",
       "⎢─────────────────────────────────────────────────────────── - ─────────────── ↪\n",
       "⎢                                       2                             I_b      ↪\n",
       "⎣                1.0⋅I_b⋅Iₘ + 0.25⋅I_b⋅l ⋅mₘ                                   ↪\n",
       "\n",
       "↪    ⎤\n",
       "↪    ⎥\n",
       "↪    ⎥\n",
       "↪    ⎥\n",
       "↪    ⎥\n",
       "↪    ⎥\n",
       "↪    ⎥\n",
       "↪    ⎥\n",
       "↪    ⎥\n",
       "↪    ⎥\n",
       "↪    ⎥\n",
       "↪    ⎥\n",
       "↪    ⎥\n",
       "↪ ⋅r)⎥\n",
       "↪ ───⎥\n",
       "↪    ⎥\n",
       "↪    ⎦"
      ]
     },
     "metadata": {},
     "output_type": "display_data"
    }
   ],
   "source": [
    "# Generalized coordinates and accelerations for M, C, G isolation\n",
    "xis = [xb, yb, pb, q]\n",
    "xi_dots = [xb_dot, yb_dot, pb_dot, q_dot]\n",
    "xi_ddots = [xb_ddot, yb_ddot, pb_ddot, q_ddot]\n",
    "\n",
    "# Isolate M, C, G from the equations\n",
    "M = sp.zeros(len(xis), len(xis))  # Mass matrix\n",
    "C = sp.zeros(len(xis), len(xis))  # Coriolis matrix\n",
    "G = sp.zeros(len(xis), 1)  # Gravity vector\n",
    "\n",
    "# Iterate over the equations to isolate M, C, G based on their linear dependence\n",
    "for i, eq in enumerate(eqn_lhs):\n",
    "    # Extract M\n",
    "    for j, xi_ddot in enumerate(xi_ddots):\n",
    "        M[i, j] = sp.simplify(eq.coeff(xi_ddot))\n",
    "    \n",
    "    # Subtract the mass-related terms from the equation to find the rest\n",
    "    eq_residual = eq - sum(M[i, j] * xi_ddots[j] for j in range(len(xi_ddots)))\n",
    "    \n",
    "    # Extract C\n",
    "    for j, xi_dot in enumerate(xi_dots):\n",
    "        C[i, j] = sp.simplify(eq_residual.coeff(xi_dot))\n",
    "    \n",
    "    # Subtract the Coriolis-related terms to find the gravity vector\n",
    "    eq_residual -= sum(C[i, j] * xi_dots[j] for j in range(len(xi_dots)))\n",
    "    \n",
    "    # Extract G\n",
    "    G[i, 0] = sp.simplify(eq_residual)\n",
    "\n",
    "# Display results\n",
    "print(\"Mass Matrix (M):\")\n",
    "display(M)\n",
    "\n",
    "print(\"\\nCoriolis Matrix (C):\")\n",
    "display(C)\n",
    "\n",
    "print(\"\\nGravity Vector (G):\")\n",
    "display(G)\n",
    "\n",
    "print(\"\\nControl Force Vector (F):\")\n",
    "display(F)\n",
    "\n",
    "print(\"\\nGeneralized accelerations (xi_ddots):\")\n",
    "EOM = M.inv()*(F - C*sp.Matrix(xi_dots) - G)\n",
    "display(EOM)"
   ]
  },
  {
   "cell_type": "code",
   "execution_count": 154,
   "metadata": {},
   "outputs": [
    {
     "data": {
      "text/latex": [
       "$\\displaystyle \\left[\\begin{matrix}\\frac{0.25 \\left(T_{1} + T_{2}\\right) \\sin{\\left(p_{b}{\\left(t \\right)} \\right)}}{0.25 m_{b} + 0.25 m_{m}}\\\\\\frac{0.25 \\left(- g \\left(m_{b} + m_{m}\\right) + \\left(T_{1} + T_{2}\\right) \\cos{\\left(p_{b}{\\left(t \\right)} \\right)}\\right)}{0.25 m_{b} + 0.25 m_{m}}\\\\\\frac{1.0 \\left(- T_{1} r + T_{2} r\\right)}{I_{b}} - \\frac{1.0 \\left(- 0.5 g l m_{m} \\sin{\\left(q{\\left(t \\right)} \\right)} + \\tau\\right)}{I_{b}}\\\\\\frac{\\left(- 0.5 g l m_{m} \\sin{\\left(q{\\left(t \\right)} \\right)} + \\tau\\right) \\left(1.0 I_{b} + 1.0 I_{m} + 0.25 l^{2} m_{m}\\right)}{1.0 I_{b} I_{m} + 0.25 I_{b} l^{2} m_{m}} - \\frac{1.0 \\left(- T_{1} r + T_{2} r\\right)}{I_{b}}\\end{matrix}\\right]$"
      ],
      "text/plain": [
       "⎡                           0.25⋅(T₁ + T₂)⋅sin(p_b(t))                         ↪\n",
       "⎢                           ──────────────────────────                         ↪\n",
       "⎢                               0.25⋅m_b + 0.25⋅mₘ                             ↪\n",
       "⎢                                                                              ↪\n",
       "⎢                  0.25⋅(-g⋅(m_b + mₘ) + (T₁ + T₂)⋅cos(p_b(t)))                ↪\n",
       "⎢                  ────────────────────────────────────────────                ↪\n",
       "⎢                               0.25⋅m_b + 0.25⋅mₘ                             ↪\n",
       "⎢                                                                              ↪\n",
       "⎢              1.0⋅(-T₁⋅r + T₂⋅r)   1.0⋅(-0.5⋅g⋅l⋅mₘ⋅sin(q(t)) + τ)            ↪\n",
       "⎢              ────────────────── - ───────────────────────────────            ↪\n",
       "⎢                     I_b                         I_b                          ↪\n",
       "⎢                                                                              ↪\n",
       "⎢                            ⎛                         2   ⎞                   ↪\n",
       "⎢(-0.5⋅g⋅l⋅mₘ⋅sin(q(t)) + τ)⋅⎝1.0⋅I_b + 1.0⋅Iₘ + 0.25⋅l ⋅mₘ⎠   1.0⋅(-T₁⋅r + T₂ ↪\n",
       "⎢─────────────────────────────────────────────────────────── - ─────────────── ↪\n",
       "⎢                                       2                             I_b      ↪\n",
       "⎣                1.0⋅I_b⋅Iₘ + 0.25⋅I_b⋅l ⋅mₘ                                   ↪\n",
       "\n",
       "↪    ⎤\n",
       "↪    ⎥\n",
       "↪    ⎥\n",
       "↪    ⎥\n",
       "↪    ⎥\n",
       "↪    ⎥\n",
       "↪    ⎥\n",
       "↪    ⎥\n",
       "↪    ⎥\n",
       "↪    ⎥\n",
       "↪    ⎥\n",
       "↪    ⎥\n",
       "↪    ⎥\n",
       "↪ ⋅r)⎥\n",
       "↪ ───⎥\n",
       "↪    ⎥\n",
       "↪    ⎦"
      ]
     },
     "metadata": {},
     "output_type": "display_data"
    }
   ],
   "source": [
    "# Substitute all the time-dependent variables with symbols\n",
    "EOM = EOM.subs({pb: sp.symbols('pb', real=True, positive=True),\n",
    "                q: sp.symbols('q', real=True, positive=True)\n",
    "                })\n",
    "display(EOM)"
   ]
  },
  {
   "cell_type": "code",
   "execution_count": 141,
   "metadata": {},
   "outputs": [
    {
     "data": {
      "text/latex": [
       "$\\displaystyle \\left[\\begin{matrix}0\\\\9.81\\\\0\\\\1.22625 \\sin{\\left(q \\right)}\\end{matrix}\\right]$"
      ],
      "text/plain": [
       "⎡      0       ⎤\n",
       "⎢              ⎥\n",
       "⎢     9.81     ⎥\n",
       "⎢              ⎥\n",
       "⎢      0       ⎥\n",
       "⎢              ⎥\n",
       "⎣1.22625⋅sin(q)⎦"
      ]
     },
     "metadata": {},
     "output_type": "display_data"
    },
    {
     "data": {
      "image/png": "[encoded data removed]",
      "text/latex": [
       "$\\displaystyle \\left( xb, \\  yb, \\  pb, \\  q, \\  dxb, \\  dyb, \\  dpb, \\  dq\\right)$"
      ],
      "text/plain": [
       "(xb, yb, pb, q, dxb, dyb, dpb, dq)"
      ]
     },
     "metadata": {},
     "output_type": "display_data"
    },
    {
     "ename": "ValueError",
     "evalue": "not enough values to unpack (expected 8, got 4)",
     "output_type": "error",
     "traceback": [
      "\u001b[0;31m---------------------------------------------------------------------------\u001b[0m",
      "\u001b[0;31mValueError\u001b[0m                                Traceback (most recent call last)",
      "Cell \u001b[0;32mIn[141], line 41\u001b[0m\n\u001b[1;32m     38\u001b[0m t_eval \u001b[38;5;241m=\u001b[39m np\u001b[38;5;241m.\u001b[39mlinspace(t_span[\u001b[38;5;241m0\u001b[39m], t_span[\u001b[38;5;241m1\u001b[39m], \u001b[38;5;241m1000\u001b[39m)  \u001b[38;5;66;03m# Time points\u001b[39;00m\n\u001b[1;32m     40\u001b[0m \u001b[38;5;66;03m# Numerical integration\u001b[39;00m\n\u001b[0;32m---> 41\u001b[0m sol \u001b[38;5;241m=\u001b[39m \u001b[43msolve_ivp\u001b[49m\u001b[43m(\u001b[49m\u001b[43maerial_manipulator_dynamics\u001b[49m\u001b[43m,\u001b[49m\u001b[43m \u001b[49m\u001b[43mt_span\u001b[49m\u001b[43m,\u001b[49m\u001b[43m \u001b[49m\u001b[43my0\u001b[49m\u001b[43m,\u001b[49m\u001b[43m \u001b[49m\u001b[43mt_eval\u001b[49m\u001b[38;5;241;43m=\u001b[39;49m\u001b[43mt_eval\u001b[49m\u001b[43m,\u001b[49m\u001b[43m \u001b[49m\u001b[43mmethod\u001b[49m\u001b[38;5;241;43m=\u001b[39;49m\u001b[38;5;124;43m'\u001b[39;49m\u001b[38;5;124;43mRK45\u001b[39;49m\u001b[38;5;124;43m'\u001b[39;49m\u001b[43m)\u001b[49m\n\u001b[1;32m     43\u001b[0m \u001b[38;5;66;03m# Results\u001b[39;00m\n\u001b[1;32m     44\u001b[0m \u001b[38;5;28;01mimport\u001b[39;00m \u001b[38;5;21;01mmatplotlib\u001b[39;00m\u001b[38;5;21;01m.\u001b[39;00m\u001b[38;5;21;01mpyplot\u001b[39;00m \u001b[38;5;28;01mas\u001b[39;00m \u001b[38;5;21;01mplt\u001b[39;00m\n",
      "File \u001b[0;32m~/.local/lib/python3.10/site-packages/scipy/integrate/_ivp/ivp.py:621\u001b[0m, in \u001b[0;36msolve_ivp\u001b[0;34m(fun, t_span, y0, method, t_eval, dense_output, events, vectorized, args, **options)\u001b[0m\n\u001b[1;32m    618\u001b[0m \u001b[38;5;28;01mif\u001b[39;00m method \u001b[38;5;129;01min\u001b[39;00m METHODS:\n\u001b[1;32m    619\u001b[0m     method \u001b[38;5;241m=\u001b[39m METHODS[method]\n\u001b[0;32m--> 621\u001b[0m solver \u001b[38;5;241m=\u001b[39m \u001b[43mmethod\u001b[49m\u001b[43m(\u001b[49m\u001b[43mfun\u001b[49m\u001b[43m,\u001b[49m\u001b[43m \u001b[49m\u001b[43mt0\u001b[49m\u001b[43m,\u001b[49m\u001b[43m \u001b[49m\u001b[43my0\u001b[49m\u001b[43m,\u001b[49m\u001b[43m \u001b[49m\u001b[43mtf\u001b[49m\u001b[43m,\u001b[49m\u001b[43m \u001b[49m\u001b[43mvectorized\u001b[49m\u001b[38;5;241;43m=\u001b[39;49m\u001b[43mvectorized\u001b[49m\u001b[43m,\u001b[49m\u001b[43m \u001b[49m\u001b[38;5;241;43m*\u001b[39;49m\u001b[38;5;241;43m*\u001b[39;49m\u001b[43moptions\u001b[49m\u001b[43m)\u001b[49m\n\u001b[1;32m    623\u001b[0m \u001b[38;5;28;01mif\u001b[39;00m t_eval \u001b[38;5;129;01mis\u001b[39;00m \u001b[38;5;28;01mNone\u001b[39;00m:\n\u001b[1;32m    624\u001b[0m     ts \u001b[38;5;241m=\u001b[39m [t0]\n",
      "File \u001b[0;32m~/.local/lib/python3.10/site-packages/scipy/integrate/_ivp/rk.py:94\u001b[0m, in \u001b[0;36mRungeKutta.__init__\u001b[0;34m(self, fun, t0, y0, t_bound, max_step, rtol, atol, vectorized, first_step, **extraneous)\u001b[0m\n\u001b[1;32m     92\u001b[0m \u001b[38;5;28mself\u001b[39m\u001b[38;5;241m.\u001b[39mmax_step \u001b[38;5;241m=\u001b[39m validate_max_step(max_step)\n\u001b[1;32m     93\u001b[0m \u001b[38;5;28mself\u001b[39m\u001b[38;5;241m.\u001b[39mrtol, \u001b[38;5;28mself\u001b[39m\u001b[38;5;241m.\u001b[39matol \u001b[38;5;241m=\u001b[39m validate_tol(rtol, atol, \u001b[38;5;28mself\u001b[39m\u001b[38;5;241m.\u001b[39mn)\n\u001b[0;32m---> 94\u001b[0m \u001b[38;5;28mself\u001b[39m\u001b[38;5;241m.\u001b[39mf \u001b[38;5;241m=\u001b[39m \u001b[38;5;28;43mself\u001b[39;49m\u001b[38;5;241;43m.\u001b[39;49m\u001b[43mfun\u001b[49m\u001b[43m(\u001b[49m\u001b[38;5;28;43mself\u001b[39;49m\u001b[38;5;241;43m.\u001b[39;49m\u001b[43mt\u001b[49m\u001b[43m,\u001b[49m\u001b[43m \u001b[49m\u001b[38;5;28;43mself\u001b[39;49m\u001b[38;5;241;43m.\u001b[39;49m\u001b[43my\u001b[49m\u001b[43m)\u001b[49m\n\u001b[1;32m     95\u001b[0m \u001b[38;5;28;01mif\u001b[39;00m first_step \u001b[38;5;129;01mis\u001b[39;00m \u001b[38;5;28;01mNone\u001b[39;00m:\n\u001b[1;32m     96\u001b[0m     \u001b[38;5;28mself\u001b[39m\u001b[38;5;241m.\u001b[39mh_abs \u001b[38;5;241m=\u001b[39m select_initial_step(\n\u001b[1;32m     97\u001b[0m         \u001b[38;5;28mself\u001b[39m\u001b[38;5;241m.\u001b[39mfun, \u001b[38;5;28mself\u001b[39m\u001b[38;5;241m.\u001b[39mt, \u001b[38;5;28mself\u001b[39m\u001b[38;5;241m.\u001b[39my, t_bound, max_step, \u001b[38;5;28mself\u001b[39m\u001b[38;5;241m.\u001b[39mf, \u001b[38;5;28mself\u001b[39m\u001b[38;5;241m.\u001b[39mdirection,\n\u001b[1;32m     98\u001b[0m         \u001b[38;5;28mself\u001b[39m\u001b[38;5;241m.\u001b[39merror_estimator_order, \u001b[38;5;28mself\u001b[39m\u001b[38;5;241m.\u001b[39mrtol, \u001b[38;5;28mself\u001b[39m\u001b[38;5;241m.\u001b[39matol)\n",
      "File \u001b[0;32m~/.local/lib/python3.10/site-packages/scipy/integrate/_ivp/base.py:154\u001b[0m, in \u001b[0;36mOdeSolver.__init__.<locals>.fun\u001b[0;34m(t, y)\u001b[0m\n\u001b[1;32m    152\u001b[0m \u001b[38;5;28;01mdef\u001b[39;00m \u001b[38;5;21mfun\u001b[39m(t, y):\n\u001b[1;32m    153\u001b[0m     \u001b[38;5;28mself\u001b[39m\u001b[38;5;241m.\u001b[39mnfev \u001b[38;5;241m+\u001b[39m\u001b[38;5;241m=\u001b[39m \u001b[38;5;241m1\u001b[39m\n\u001b[0;32m--> 154\u001b[0m     \u001b[38;5;28;01mreturn\u001b[39;00m \u001b[38;5;28;43mself\u001b[39;49m\u001b[38;5;241;43m.\u001b[39;49m\u001b[43mfun_single\u001b[49m\u001b[43m(\u001b[49m\u001b[43mt\u001b[49m\u001b[43m,\u001b[49m\u001b[43m \u001b[49m\u001b[43my\u001b[49m\u001b[43m)\u001b[49m\n",
      "File \u001b[0;32m~/.local/lib/python3.10/site-packages/scipy/integrate/_ivp/base.py:23\u001b[0m, in \u001b[0;36mcheck_arguments.<locals>.fun_wrapped\u001b[0;34m(t, y)\u001b[0m\n\u001b[1;32m     22\u001b[0m \u001b[38;5;28;01mdef\u001b[39;00m \u001b[38;5;21mfun_wrapped\u001b[39m(t, y):\n\u001b[0;32m---> 23\u001b[0m     \u001b[38;5;28;01mreturn\u001b[39;00m np\u001b[38;5;241m.\u001b[39masarray(\u001b[43mfun\u001b[49m\u001b[43m(\u001b[49m\u001b[43mt\u001b[49m\u001b[43m,\u001b[49m\u001b[43m \u001b[49m\u001b[43my\u001b[49m\u001b[43m)\u001b[49m, dtype\u001b[38;5;241m=\u001b[39mdtype)\n",
      "Cell \u001b[0;32mIn[141], line 34\u001b[0m, in \u001b[0;36maerial_manipulator_dynamics\u001b[0;34m(t, y)\u001b[0m\n\u001b[1;32m     33\u001b[0m \u001b[38;5;28;01mdef\u001b[39;00m \u001b[38;5;21maerial_manipulator_dynamics\u001b[39m(t, y):\n\u001b[0;32m---> 34\u001b[0m     \u001b[38;5;28;01mreturn\u001b[39;00m \u001b[43mdynamics_func\u001b[49m\u001b[43m(\u001b[49m\u001b[38;5;241;43m*\u001b[39;49m\u001b[43my\u001b[49m\u001b[43m)\u001b[49m\n",
      "Cell \u001b[0;32mIn[141], line 31\u001b[0m, in \u001b[0;36m<lambda>\u001b[0;34m(xb, yb, pb, q, dxb, dyb, dpb, dq)\u001b[0m\n\u001b[1;32m     28\u001b[0m C_func \u001b[38;5;241m=\u001b[39m sp\u001b[38;5;241m.\u001b[39mlambdify([state], C_subbed\u001b[38;5;241m*\u001b[39msp\u001b[38;5;241m.\u001b[39mMatrix([xb_dot, yb_dot, pb_dot, q_dot]), \u001b[38;5;124m'\u001b[39m\u001b[38;5;124mnumpy\u001b[39m\u001b[38;5;124m'\u001b[39m)\n\u001b[1;32m     29\u001b[0m G_func \u001b[38;5;241m=\u001b[39m sp\u001b[38;5;241m.\u001b[39mlambdify([state], G_subbed, \u001b[38;5;124m'\u001b[39m\u001b[38;5;124mnumpy\u001b[39m\u001b[38;5;124m'\u001b[39m)\n\u001b[0;32m---> 31\u001b[0m dynamics_func \u001b[38;5;241m=\u001b[39m \u001b[38;5;28;01mlambda\u001b[39;00m xb, yb, pb, q, dxb, dyb, dpb, dq: np\u001b[38;5;241m.\u001b[39mlinalg\u001b[38;5;241m.\u001b[39msolve(\u001b[43mM_func\u001b[49m\u001b[43m(\u001b[49m\u001b[43m[\u001b[49m\u001b[43mxb\u001b[49m\u001b[43m,\u001b[49m\u001b[43m \u001b[49m\u001b[43myb\u001b[49m\u001b[43m,\u001b[49m\u001b[43m \u001b[49m\u001b[43mpb\u001b[49m\u001b[43m,\u001b[49m\u001b[43m \u001b[49m\u001b[43mq\u001b[49m\u001b[43m]\u001b[49m\u001b[43m)\u001b[49m, \u001b[38;5;241m-\u001b[39mC_func([xb, yb, pb, q]) \u001b[38;5;241m-\u001b[39m G_func([xb, yb, pb, q]))\n\u001b[1;32m     33\u001b[0m \u001b[38;5;28;01mdef\u001b[39;00m \u001b[38;5;21maerial_manipulator_dynamics\u001b[39m(t, y):\n\u001b[1;32m     34\u001b[0m     \u001b[38;5;28;01mreturn\u001b[39;00m dynamics_func(\u001b[38;5;241m*\u001b[39my)\n",
      "File \u001b[0;32m<lambdifygenerated-64>:2\u001b[0m, in \u001b[0;36m_lambdifygenerated\u001b[0;34m(_Dummy_875)\u001b[0m\n\u001b[1;32m      1\u001b[0m \u001b[38;5;28;01mdef\u001b[39;00m \u001b[38;5;21m_lambdifygenerated\u001b[39m(_Dummy_875):\n\u001b[0;32m----> 2\u001b[0m     [xb, yb, pb, q, dxb, dyb, dpb, dq] \u001b[38;5;241m=\u001b[39m _Dummy_875\n\u001b[1;32m      3\u001b[0m     \u001b[38;5;28;01mreturn\u001b[39;00m array([[\u001b[38;5;241m1.0\u001b[39m, \u001b[38;5;241m0\u001b[39m, \u001b[38;5;241m0\u001b[39m, \u001b[38;5;241m0\u001b[39m], [\u001b[38;5;241m0\u001b[39m, \u001b[38;5;241m1.0\u001b[39m, \u001b[38;5;241m0\u001b[39m, \u001b[38;5;241m0\u001b[39m], [\u001b[38;5;241m0\u001b[39m, \u001b[38;5;241m0\u001b[39m, \u001b[38;5;241m0.23125\u001b[39m, \u001b[38;5;241m0.13125\u001b[39m], [\u001b[38;5;241m0\u001b[39m, \u001b[38;5;241m0\u001b[39m, \u001b[38;5;241m0.13125\u001b[39m, \u001b[38;5;241m0.13125\u001b[39m]])\n",
      "\u001b[0;31mValueError\u001b[0m: not enough values to unpack (expected 8, got 4)"
     ]
    }
   ],
   "source": [
    "# Substitute all the time-dependent variables with symbols\n",
    "EOM = EOM.subs({xi_ddot: sp.symbols(f'd{xi}/dt') for xi, xi_ddot in zip(xis, xi_ddots)})\n",
    "display(EOM)\n",
    "\n",
    "\n",
    "# Initial conditions: [xb, yb, pb, q, xb_dot, yb_dot, pb_dot, q_dot]\n",
    "y0 = [0.0, 0.0, 0.0, 0.0, 0.0, 0.0, 0.0, 0.0]\n",
    "\n",
    "# parameters\n",
    "am_params = [\n",
    "    (mb, 0.5),  # Mass of the base (kg)\n",
    "    (mm, 0.5),  # Mass of the manipulator (kg)\n",
    "    (Ib, 0.1),  # Moment of inertia of the base (kg*m^2)\n",
    "    (Im, 0.1),  # Moment of inertia of the manipulator (kg*m^2)\n",
    "    (l, 0.5),   # Length of the manipulator (m)\n",
    "    (r, 0.1),   # Distance from the center of mass of the manipulator to the rotor (m)\n",
    "    (g, 9.81)   # Gravity (m/s^2)\n",
    "]\n",
    "\n",
    "# Substitute parameters into the expressions\n",
    "M_subbed = M.subs(am_params)\n",
    "C_subbed = C.subs(am_params)\n",
    "G_subbed = G.subs(am_params) # Replace q(t) with a symbol\n",
    "display(G_subbed.replace(q, sp.symbols('q')))\n",
    "\n",
    "# Define the dynamics function of form dy/dt = f(t, y)\n",
    "np.linalg.solve(M, F-C*sp.Matrix([xb_dot, yb_dot, pb_dot, q_dot]) - G)\n",
    "\n",
    "\n",
    "\n",
    "# Combine parameters into a single list\n",
    "state = sp.symbols('xb yb pb q dxb dyb dpb dq')\n",
    "display(state)\n",
    "# Lambdify the expressions\n",
    "M_func = sp.lambdify([state], M_subbed, 'numpy')\n",
    "C_func = sp.lambdify([state], C_subbed*sp.Matrix([xb_dot, yb_dot, pb_dot, q_dot]), 'numpy')\n",
    "G_func = sp.lambdify([state], G_subbed, 'numpy')\n",
    "\n",
    "dynamics_func = lambda xb, yb, pb, q, dxb, dyb, dpb, dq: np.linalg.solve(M_func([xb, yb, pb, q]), -C_func([xb, yb, pb, q]) - G_func([xb, yb, pb, q]))\n",
    "\n",
    "# Define the dynamics function of form dy/dt = f(t, y)\n",
    "def aerial_manipulator_dynamics(t, y):\n",
    "    return dynamics_func(*y)\n",
    "\n",
    "# Time span and integration\n",
    "t_span = (0, 10)  # 10 seconds\n",
    "t_eval = np.linspace(t_span[0], t_span[1], 1000)  # Time points\n",
    "\n",
    "# Numerical integration\n",
    "sol = solve_ivp(aerial_manipulator_dynamics, t_span, y0, t_eval=t_eval, method='RK45')\n",
    "\n",
    "# Results\n",
    "import matplotlib.pyplot as plt\n",
    "plt.figure(figsize=(10, 6))\n",
    "plt.plot(sol.t, sol.y[0], label=r'$\\theta_1$ (Position of Pendulum 1)')\n",
    "plt.plot(sol.t, sol.y[1], label=r'$\\theta_2$ (Position of Pendulum 2)')\n",
    "plt.xlabel('Time (s)')\n",
    "plt.ylabel('Angle (rad)')\n",
    "plt.legend()\n",
    "plt.title('Double Pendulum Dynamics')\n",
    "plt.grid()\n",
    "plt.show()"
   ]
  }
 ],
 "metadata": {
  "kernelspec": {
   "display_name": "usr",
   "language": "python",
   "name": "python3"
  },
  "language_info": {
   "codemirror_mode": {
    "name": "ipython",
    "version": 3
   },
   "file_extension": ".py",
   "mimetype": "text/x-python",
   "name": "python",
   "nbconvert_exporter": "python",
   "pygments_lexer": "ipython3",
   "version": "3.10.12"
  }
 },
 "nbformat": 4,
 "nbformat_minor": 2
}
