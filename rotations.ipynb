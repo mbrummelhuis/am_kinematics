{
 "cells": [
  {
   "cell_type": "code",
   "execution_count": 4,
   "metadata": {},
   "outputs": [
    {
     "name": "stdout",
     "output_type": "stream",
     "text": [
      "⎡    cos(b)        0         sin(b)    ⎤\n",
      "⎢                                      ⎥\n",
      "⎢sin(a)⋅sin(b)   cos(a)  -sin(a)⋅cos(b)⎥\n",
      "⎢                                      ⎥\n",
      "⎣-sin(b)⋅cos(a)  sin(a)  cos(a)⋅cos(b) ⎦\n",
      "⎡cos(b)   sin(a)⋅sin(b)  sin(b)⋅cos(a)⎤\n",
      "⎢                                     ⎥\n",
      "⎢   0        cos(a)         -sin(a)   ⎥\n",
      "⎢                                     ⎥\n",
      "⎣-sin(b)  sin(a)⋅cos(b)  cos(a)⋅cos(b)⎦\n"
     ]
    }
   ],
   "source": [
    "import sympy as sp\n",
    "\n",
    "def Rx(angle):\n",
    "    return sp.Matrix([\n",
    "    [1, 0, 0],\n",
    "    [0, sp.cos(angle), -sp.sin(angle)],\n",
    "    [0, sp.sin(angle), sp.cos(angle)]\n",
    "    ])\n",
    "\n",
    "\n",
    "def Ry(angle):\n",
    "    return sp.Matrix([\n",
    "    [sp.cos(angle), 0, sp.sin(angle)],\n",
    "    [0, 1, 0],\n",
    "    [-sp.sin(angle), 0, sp.cos(angle)]\n",
    "    ])\n",
    "\n",
    "# XY rotation\n",
    "a, b = sp.symbols('a b')\n",
    "Rxy = Rx(a) * Ry(b)\n",
    "sp.pprint(Rxy)\n",
    "\n",
    "# YX rotation\n",
    "Ryx = Ry(b) * Rx(a)\n",
    "sp.pprint(Ryx)\n"
   ]
  }
 ],
 "metadata": {
  "kernelspec": {
   "display_name": "Python 3",
   "language": "python",
   "name": "python3"
  },
  "language_info": {
   "codemirror_mode": {
    "name": "ipython",
    "version": 3
   },
   "file_extension": ".py",
   "mimetype": "text/x-python",
   "name": "python",
   "nbconvert_exporter": "python",
   "pygments_lexer": "ipython3",
   "version": "3.10.12"
  }
 },
 "nbformat": 4,
 "nbformat_minor": 2
}
