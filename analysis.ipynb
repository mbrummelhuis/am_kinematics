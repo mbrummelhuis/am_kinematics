{
 "cells": [
  {
   "cell_type": "code",
   "execution_count": 2,
   "metadata": {},
   "outputs": [],
   "source": [
    "import sympy as sp\n",
    "import numpy as np\n",
    "\n",
    "sp.init_printing(use_latex=True)"
   ]
  },
  {
   "cell_type": "markdown",
   "metadata": {},
   "source": [
    "### Rotation convention\n",
    "The roll, pitch, yaw (RPY) convention common in aerospace follows an intrinsic (that is, about the moving coordinate system) rotation about the body Z, Y, and X axes. A confusing aspect is that the order of rotations is inverted w.r.t. the naming since the yaw rotation is the first one. The naming refers to the conventional ordering of the rotations as states, which is roll first, then pitch, then yaw.\n",
    "\n",
    "For the calculation of the associated rotation matrices see the code below. This also shows that the RPY convention is equal to an extrinsic (that is, about the inertial coordinate system) rotation in the order XYZ.\n",
    "\n",
    "The convention used here thus corresponds to the Euler ZYX mentioned in this source: http://web.mit.edu/2.05/www/Handout/HO2.PDF \\\n",
    "And this corresponds to the rotation matrix derived here: https://link.springer.com/article/10.1007/s11071-022-08212-w"
   ]
  },
  {
   "cell_type": "code",
   "execution_count": null,
   "metadata": {},
   "outputs": [],
   "source": [
    "L1_length = 0.110\n",
    "L2_length = 0.311\n",
    "L3_length = 0.273\n",
    "\n",
    "#q1, q2, q3 = sp.symbols('q_1 q_2 q_3', real=True)\n",
    "x, y, z, roll, pitch, yaw, q1, q2, q3 = sp.symbols('x_b y_b z_b roll pitch yaw q_1 q_2 q_3', real=True)\n",
    "\n",
    "# Parameters\n",
    "L1, L2, L3 = sp.symbols('L_1 L_2 L_3', real=True, positive=True)"
   ]
  },
  {
   "cell_type": "code",
   "execution_count": 4,
   "metadata": {},
   "outputs": [
    {
     "name": "stdout",
     "output_type": "stream",
     "text": [
      "⎡cos(pitch)⋅cos(yaw)  sin(pitch)⋅sin(roll)⋅cos(yaw) - sin(yaw)⋅cos(roll)  sin( ↪\n",
      "⎢                                                                              ↪\n",
      "⎢sin(yaw)⋅cos(pitch)  sin(pitch)⋅sin(roll)⋅sin(yaw) + cos(roll)⋅cos(yaw)  sin( ↪\n",
      "⎢                                                                              ↪\n",
      "⎣    -sin(pitch)                     sin(roll)⋅cos(pitch)                      ↪\n",
      "\n",
      "↪ pitch)⋅cos(roll)⋅cos(yaw) + sin(roll)⋅sin(yaw)⎤\n",
      "↪                                               ⎥\n",
      "↪ pitch)⋅sin(yaw)⋅cos(roll) - sin(roll)⋅cos(yaw)⎥\n",
      "↪                                               ⎥\n",
      "↪            cos(pitch)⋅cos(roll)               ⎦\n",
      "⎡cos(pitch)⋅cos(yaw)  sin(pitch)⋅sin(roll)⋅cos(yaw) - sin(yaw)⋅cos(roll)  sin( ↪\n",
      "⎢                                                                              ↪\n",
      "⎢sin(yaw)⋅cos(pitch)  sin(pitch)⋅sin(roll)⋅sin(yaw) + cos(roll)⋅cos(yaw)  sin( ↪\n",
      "⎢                                                                              ↪\n",
      "⎣    -sin(pitch)                     sin(roll)⋅cos(pitch)                      ↪\n",
      "\n",
      "↪ pitch)⋅cos(roll)⋅cos(yaw) + sin(roll)⋅sin(yaw)⎤\n",
      "↪                                               ⎥\n",
      "↪ pitch)⋅sin(yaw)⋅cos(roll) - sin(roll)⋅cos(yaw)⎥\n",
      "↪                                               ⎥\n",
      "↪            cos(pitch)⋅cos(roll)               ⎦\n"
     ]
    }
   ],
   "source": [
    "# ROTATIONS\n",
    "# Intrinsic ZYX\n",
    "Rz = sp.Matrix([\n",
    "    [sp.cos(yaw), -sp.sin(yaw), 0],\n",
    "    [sp.sin(yaw),  sp.cos(yaw), 0],\n",
    "    [0,            0,           1]\n",
    "])\n",
    "\n",
    "Ry = sp.Matrix([\n",
    "    [sp.cos(pitch),  0, sp.sin(pitch)],\n",
    "    [0,              1, 0            ],\n",
    "    [-sp.sin(pitch), 0, sp.cos(pitch)]\n",
    "])\n",
    "\n",
    "Rx = sp.Matrix([\n",
    "    [1, 0,            0           ],\n",
    "    [0, sp.cos(roll), -sp.sin(roll)],\n",
    "    [0, sp.sin(roll),  sp.cos(roll)]\n",
    "])\n",
    "\n",
    "# Intrinsic ZYX: Postmultiplication\n",
    "R_zyx_intrinsic = Rz * Ry * Rx\n",
    "\n",
    "# Extrinsic XYZ: Premultiplication\n",
    "R_xyz_extrinsic = Rz * Ry * Rx\n",
    "\n",
    "sp.pprint(R_xyz_extrinsic)\n",
    "sp.pprint(R_zyx_intrinsic)"
   ]
  },
  {
   "cell_type": "markdown",
   "metadata": {},
   "source": [
    "### Conventions\n",
    "For arm 1, the nominal configuration is straight out to the right of the body (i.e. along positive $Y_{b}$). For arm 2, the nominal configuration is straight out to the left of the body (i.e. along the negative $Y_{b}$).\n",
    "\n",
    "Rotations around relative axes are intrinsic and thus you use postmultiplication of the rotation."
   ]
  },
  {
   "cell_type": "code",
   "execution_count": 21,
   "metadata": {},
   "outputs": [],
   "source": [
    "# Body frame b: FRD at vehicle CoM\n",
    "T_Ib = sp.Matrix([[sp.cos(yaw)*sp.cos(pitch), sp.cos(yaw)*sp.sin(pitch)*sp.sin(roll)-sp.sin(yaw)*sp.cos(roll), sp.cos(yaw)*sp.sin(pitch)*sp.cos(roll)+sp.sin(yaw)*sp.sin(roll), x],\n",
    "                  [sp.sin(yaw)*sp.cos(pitch), sp.sin(yaw)*sp.sin(pitch)*sp.sin(roll)+sp.cos(yaw)*sp.cos(roll), sp.sin(yaw)*sp.sin(pitch)*sp.cos(roll)-sp.cos(yaw)*sp.sin(roll), y],\n",
    "                  [-sp.sin(pitch), sp.cos(pitch)*sp.sin(roll), sp.cos(pitch)*sp.cos(roll), z],\n",
    "                  [0, 0, 0, 1]])\n",
    "\n",
    "# Frame 0: Z axis of rotation pointing forward, X axis pointing up, Y axis pointing right (90 deg rotation around Yb)\n",
    "T_b0 = sp.Matrix([[0, 0, 1, 0],\n",
    "                  [0, 1, 0, 0],\n",
    "                  [-1, 0, 0, 0],\n",
    "                  [0, 0, 0, 1]])\n",
    "\n",
    "# Frame 1: Rotation around Z0 by q1\n",
    "T_01 = sp.Matrix([[sp.cos(q1), -sp.sin(q1), 0, 0],\n",
    "                [sp.sin(q1),  sp.cos(q1), 0, 0],\n",
    "                [0, 0, 1, 0],\n",
    "                [0, 0, 0, 1]])\n",
    "\n",
    "# Frame 2: Translation along Y1 of L1, then rotation around Y1 by pi/2 and rotation around new Z2 by q2\n",
    "rot_y1 = sp.Matrix([[sp.cos(sp.pi/2), 0, sp.sin(sp.pi/2)],\n",
    "                    [0, 1, 0],\n",
    "                    [-sp.sin(sp.pi/2), 0, sp.cos(sp.pi/2)]])\n",
    "rot_z2 = sp.Matrix([[sp.cos(q2), -sp.sin(q2), 0],\n",
    "                    [sp.sin(q2), sp.cos(q2), 0],\n",
    "                    [0, 0, 1]])\n",
    "rot_y1z2 = rot_y1 * rot_z2 # postmultiply because z2 is relative axis\n",
    "T_12 = sp.diag(rot_y1z2, 1)\n",
    "T_12[0, 3] = L1\n",
    "\n",
    "# Frame 3: Translation along Y2 by L2, rotation about Y2 by -pi/2, then rotation about new Z3 by q3\n",
    "rot_y2 = sp.Matrix([[sp.cos(-sp.pi/2), 0, sp.sin(-sp.pi/2)],\n",
    "                    [0, 1, 0],\n",
    "                    [-sp.sin(-sp.pi/2), 0, sp.cos(-sp.pi/2)]])\n",
    "rot_z3 = sp.Matrix([[sp.cos(q3), -sp.sin(q3), 0],\n",
    "                    [sp.sin(q3), sp.cos(q3), 0],\n",
    "                    [0, 0, 1]])\n",
    "rot_y2z3 = rot_y2 * rot_z3 # postmultiply because z3 is relative axis\n",
    "T_23 = sp.diag(rot_y2z3, 1)\n",
    "T_23[0, 3] = L2\n",
    "\n",
    "# Frame e: Translation along Y3 by L3, rotation about X3 by -pi/2\n",
    "T_3e = sp.Matrix([[1, 0, 0, 0],\n",
    "                [0, 0, 1, L3],\n",
    "                [0, -1, 0, 0],\n",
    "                [0, 0, 0, 1]])\n",
    "\n",
    "T_be = sp.trigsimp(sp.expand(T_b0*T_01*T_12*T_23*T_3e))\n",
    "    \n",
    "# Set parameters\n",
    "T_be = T_be.subs([(L1, L1_length), (L2, L2_length), (L3, L3_length)])"
   ]
  },
  {
   "cell_type": "code",
   "execution_count": null,
   "metadata": {},
   "outputs": [
    {
     "name": "stdout",
     "output_type": "stream",
     "text": [
      "State dependencies\n",
      "xe = f({q_3, q_2})\n",
      "ye = f({q_1, q_3, q_2})\n",
      "ze = f({q_1, q_3, q_2})\n",
      "yawe = f({q_1, q_3, q_2})\n",
      "rolle = f({q_1, q_3, q_2})\n",
      "pitche = f({q_1, q_3, q_2})\n"
     ]
    }
   ],
   "source": [
    "# Forward kinematics function\n",
    "FK = sp.Matrix([T_be[0,3],\n",
    "                T_be[1,3],\n",
    "                T_be[2,3],\n",
    "                sp.atan2(T_be[2,1], T_be[2,2])], # roll\n",
    "                sp.atan2(-T_be[2,0], sp.sqrt(T_be[0,0]**2 + T_be[1,0]**2)), # oitch\n",
    "                sp.atan2(T_be[1,0], T_be[0,0])) # yaw\n",
    "\n",
    "sp.pprint(\"State dependencies\")\n",
    "print(f\"xe = f({FK[0,0].free_symbols})\")\n",
    "print(f\"ye = f({FK[1,0].free_symbols})\")\n",
    "print(f\"ze = f({FK[2,0].free_symbols})\")\n",
    "print(f\"rolle = f({FK[3,0].free_symbols})\")\n",
    "print(f\"pitche = f({FK[4,0].free_symbols})\")\n",
    "print(f\"yawe = f({FK[5,0].free_symbols})\")\n",
    "\n"
   ]
  },
  {
   "cell_type": "code",
   "execution_count": null,
   "metadata": {},
   "outputs": [
    {
     "name": "stdout",
     "output_type": "stream",
     "text": [
      "State dependencies\n",
      "xe = f({pitch, roll, yaw, x_b, q_1, q_3, q_2})\n",
      "ye = f({pitch, y_b, roll, yaw, q_1, q_3, q_2})\n",
      "ze = f({pitch, roll, z_b, q_1, q_3, q_2})\n",
      "yawe = f({pitch, roll, q_1, q_3, q_2})\n",
      "rolle = f({pitch, roll, yaw, q_1, q_3, q_2})\n",
      "pitche = f({pitch, roll, q_1, q_3, q_2})\n"
     ]
    }
   ],
   "source": [
    "# Forward kinematics function\n",
    "T_Ie = T_Ib * T_be\n",
    "FK_centralised = sp.Matrix([T_Ie[0,3],\n",
    "                T_Ie[1,3],\n",
    "                T_Ie[2,3],\n",
    "                sp.atan2(-T_Ie[2,0], sp.sqrt(T_Ie[0,0]**2 + T_Ie[1,0]**2)), # roll\n",
    "                sp.atan2(T_Ie[1,0], T_Ie[0,0]), # \n",
    "                sp.atan2(T_Ie[2,1], T_Ie[2,2])])\n",
    "FK_centralised = sp.trigsimp(sp.expand(FK_centralised))\n",
    "sp.pprint(\"State dependencies\")\n",
    "print(f\"xe = f({FK_centralised[0,0].free_symbols})\")\n",
    "print(f\"ye = f({FK_centralised[1,0].free_symbols})\")\n",
    "print(f\"ze = f({FK_centralised[2,0].free_symbols})\")\n",
    "print(f\"yawe = f({FK_centralised[3,0].free_symbols})\")\n",
    "print(f\"rolle = f({FK_centralised[4,0].free_symbols})\")\n",
    "print(f\"pitche = f({FK_centralised[5,0].free_symbols})\")"
   ]
  },
  {
   "cell_type": "markdown",
   "metadata": {},
   "source": [
    "### Analysis of Euler angle singularity\n",
    "When calculating the end-effector yaw and pitch, there is a division by zero which causes an Euler angle singularity. Therefore, we examine denominators in the expressions for $\\theta_{e}$ and $\\psi_{e}$. They are rather long and cumbersome expressions on their own due to the many rotations, so we just look at the states they are a function of.\n",
    "\n",
    "We can simplify a little bit by setting both the body pitch and roll to zero, since the platform needs this for stabilization, and these values are likely to cause or contribute to the singularity. We look again at the independent states. Now, the expression is also much less cumbersome and we can investigate."
   ]
  },
  {
   "cell_type": "code",
   "execution_count": 24,
   "metadata": {},
   "outputs": [
    {
     "name": "stdout",
     "output_type": "stream",
     "text": [
      "Free variables in denominator of yawe and pitche:\n",
      "{pitch, q₁, q₂, q₃, roll}\n",
      "{pitch, q₁, q₂, q₃, roll, yaw}\n",
      "\n",
      "With zero pitch and roll angle:\n",
      "T_Ie = f({q_1, q_3, q_2})\n",
      "T_Ie = f({yaw, q_1, q_3, q_2})\n",
      "sin(q₁)⋅cos(q₂)⋅cos(q₃) + sin(q₃)⋅cos(q₁)\n",
      "-(sin(q₁)⋅cos(q₃) + sin(q₃)⋅cos(q₁)⋅cos(q₂))⋅sin(yaw) + sin(q₂)⋅sin(q₃)⋅cos(yaw)\n"
     ]
    }
   ],
   "source": [
    "# checking out denominator of expression for yawe and pitche\n",
    "print(\"Free variables in denominator of yawe and pitche:\")\n",
    "sp.pprint(T_Ie[2,2].free_symbols)\n",
    "sp.pprint(T_Ie[0,0].free_symbols)\n",
    "\n",
    "# substitute zero pitch and roll since that is the nominal configuration\n",
    "T_Ie_22 = T_Ie[2,2].subs([(roll, 0.0), (pitch, 0.0)])\n",
    "T_Ie_00 = T_Ie[0,0].subs([(roll, 0.0), (pitch, 0.0)])\n",
    "print(\"\\nWith zero pitch and roll angle:\")\n",
    "print(f\"T_Ie = f({T_Ie_22.free_symbols})\")\n",
    "print(f\"T_Ie = f({T_Ie_00.free_symbols})\")\n",
    "sp.pprint(T_Ie_22)\n",
    "sp.pprint(T_Ie_00)"
   ]
  },
  {
   "cell_type": "markdown",
   "metadata": {},
   "source": [
    "The two lines above mean that no singularities (expression evaluates to 0) exist purely dependent on the yaw.\n",
    "For end-effector yaw, a singularity exists when $q_{1}$=0 and $q_{3}$=0 (fully stretched sideways), which is intuitive. When $\\cos(q_{2})$ is 0, a singularity could exist, but this is irrelevant since the associated angle ($q_{2}$=$\\pi /2$) is outside the joint limit.\n",
    "\n",
    "For the end-effector pitch, a couple of conditions for Euler angle singularities exist. We can evaluate them by looking at when the factors in the expression evaluate to zero. With this method, the following set of singularities can be derived:\n",
    "$$\n",
    "\\phi_{b} = 0 \\land q_{2}=0 \\\\\n",
    "\\phi_{b} = 0 \\land q_{3}=0 \\\\\n",
    "q_{1}=0 \\land q_{3}=0 \\\\\n",
    "\\phi_{b} = \\pi /2 \\land q_{1}=\\pi /2 \\land q_{3}=\\pi /2\n",
    "$$\n",
    "Of these, condition IV is also not feasible because $q_{3}=\\pi /2$ is outside the joint limit for $q_{3}$"
   ]
  },
  {
   "cell_type": "markdown",
   "metadata": {},
   "source": [
    "### Controllability\n",
    "Since the states roll and y_b, and pitch and x_b are coupled, not the entire end-effector configuration space is reachable."
   ]
  },
  {
   "cell_type": "code",
   "execution_count": 20,
   "metadata": {},
   "outputs": [
    {
     "name": "stdout",
     "output_type": "stream",
     "text": [
      "⎡1.0   0    0   0.0657609306503489  -0.0673609679265374  -0.0673609679265374   ↪\n",
      "⎢                                                                              ↪\n",
      "⎢ 0   1.0   0   -0.374059487247684  -0.0673609679265374  0.0673609679265374    ↪\n",
      "⎢                                                                              ↪\n",
      "⎢ 0    0   1.0          0                  0.311                0.218          ↪\n",
      "⎢                                                                              ↪\n",
      "⎢ 0    0    0           0                    0                   nan           ↪\n",
      "⎢                                                                              ↪\n",
      "⎢ 0    0    0          nan                  nan                  nan           ↪\n",
      "⎢                                                                              ↪\n",
      "⎣ 0    0    0           0                   zoo                   0            ↪\n",
      "\n",
      "↪ -0.0673609679265374  -0.0232701525564402    0  ⎤\n",
      "↪                                                ⎥\n",
      "↪ 0.0673609679265374    0.357625502446344     0  ⎥\n",
      "↪                                                ⎥\n",
      "↪        0.218               -0.1555        0.273⎥\n",
      "↪                                                ⎥\n",
      "↪         nan                   0            nan ⎥\n",
      "↪                                                ⎥\n",
      "↪         nan                  nan           nan ⎥\n",
      "↪                                                ⎥\n",
      "↪          0                   zoo            0  ⎦\n",
      "(6, 9)\n",
      "atan2(sin(pitch)⋅cos(q₂) + sin(q₂)⋅sin(q₁ + roll)⋅cos(pitch), -sin(pitch)⋅sin( ↪\n",
      "\n",
      "↪ q₂)⋅cos(q₃) + sin(q₃)⋅cos(pitch)⋅cos(q₁ + roll) + sin(q₁ + roll)⋅cos(pitch)⋅ ↪\n",
      "\n",
      "↪ cos(q₂)⋅cos(q₃))\n"
     ]
    },
    {
     "ename": "NonInvertibleMatrixError",
     "evalue": "Matrix det == 0; not invertible.",
     "output_type": "error",
     "traceback": [
      "\u001b[0;31m---------------------------------------------------------------------------\u001b[0m",
      "\u001b[0;31mDMNonInvertibleMatrixError\u001b[0m                Traceback (most recent call last)",
      "File \u001b[0;32m~/.local/lib/python3.10/site-packages/sympy/matrices/inverse.py:326\u001b[0m, in \u001b[0;36m_inv_DM\u001b[0;34m(dM, cancel)\u001b[0m\n\u001b[1;32m    325\u001b[0m \u001b[38;5;28;01mtry\u001b[39;00m:\n\u001b[0;32m--> 326\u001b[0m     dMi, den \u001b[38;5;241m=\u001b[39m \u001b[43mdM\u001b[49m\u001b[38;5;241;43m.\u001b[39;49m\u001b[43minv_den\u001b[49m\u001b[43m(\u001b[49m\u001b[43m)\u001b[49m\n\u001b[1;32m    327\u001b[0m \u001b[38;5;28;01mexcept\u001b[39;00m DMNonInvertibleMatrixError:\n",
      "File \u001b[0;32m~/.local/lib/python3.10/site-packages/sympy/polys/matrices/domainmatrix.py:2743\u001b[0m, in \u001b[0;36mDomainMatrix.inv_den\u001b[0;34m(self, method)\u001b[0m\n\u001b[1;32m   2742\u001b[0m I \u001b[38;5;241m=\u001b[39m \u001b[38;5;28mself\u001b[39m\u001b[38;5;241m.\u001b[39meye(\u001b[38;5;28mself\u001b[39m\u001b[38;5;241m.\u001b[39mshape, \u001b[38;5;28mself\u001b[39m\u001b[38;5;241m.\u001b[39mdomain)\n\u001b[0;32m-> 2743\u001b[0m \u001b[38;5;28;01mreturn\u001b[39;00m \u001b[38;5;28;43mself\u001b[39;49m\u001b[38;5;241;43m.\u001b[39;49m\u001b[43msolve_den\u001b[49m\u001b[43m(\u001b[49m\u001b[43mI\u001b[49m\u001b[43m,\u001b[49m\u001b[43m \u001b[49m\u001b[43mmethod\u001b[49m\u001b[38;5;241;43m=\u001b[39;49m\u001b[43mmethod\u001b[49m\u001b[43m)\u001b[49m\n",
      "File \u001b[0;32m~/.local/lib/python3.10/site-packages/sympy/polys/matrices/domainmatrix.py:2883\u001b[0m, in \u001b[0;36mDomainMatrix.solve_den\u001b[0;34m(self, b, method)\u001b[0m\n\u001b[1;32m   2882\u001b[0m \u001b[38;5;28;01melif\u001b[39;00m method \u001b[38;5;241m==\u001b[39m \u001b[38;5;124m'\u001b[39m\u001b[38;5;124mrref\u001b[39m\u001b[38;5;124m'\u001b[39m:\n\u001b[0;32m-> 2883\u001b[0m     xnum, xden \u001b[38;5;241m=\u001b[39m \u001b[38;5;28;43mself\u001b[39;49m\u001b[38;5;241;43m.\u001b[39;49m\u001b[43msolve_den_rref\u001b[49m\u001b[43m(\u001b[49m\u001b[43mb\u001b[49m\u001b[43m)\u001b[49m\n\u001b[1;32m   2884\u001b[0m \u001b[38;5;28;01melse\u001b[39;00m:\n",
      "File \u001b[0;32m~/.local/lib/python3.10/site-packages/sympy/polys/matrices/domainmatrix.py:2935\u001b[0m, in \u001b[0;36mDomainMatrix.solve_den_rref\u001b[0;34m(self, b)\u001b[0m\n\u001b[1;32m   2934\u001b[0m \u001b[38;5;28;01mif\u001b[39;00m \u001b[38;5;28mlen\u001b[39m(pivots) \u001b[38;5;241m!=\u001b[39m n \u001b[38;5;129;01mor\u001b[39;00m pivots \u001b[38;5;129;01mand\u001b[39;00m pivots[\u001b[38;5;241m-\u001b[39m\u001b[38;5;241m1\u001b[39m] \u001b[38;5;241m>\u001b[39m\u001b[38;5;241m=\u001b[39m n:\n\u001b[0;32m-> 2935\u001b[0m     \u001b[38;5;28;01mraise\u001b[39;00m DMNonInvertibleMatrixError(\u001b[38;5;124m\"\u001b[39m\u001b[38;5;124mNon-unique solution.\u001b[39m\u001b[38;5;124m\"\u001b[39m)\n\u001b[1;32m   2937\u001b[0m xnum \u001b[38;5;241m=\u001b[39m Aaug_rref[:n, n:]\n",
      "\u001b[0;31mDMNonInvertibleMatrixError\u001b[0m: Non-unique solution.",
      "\nDuring handling of the above exception, another exception occurred:\n",
      "\u001b[0;31mNonInvertibleMatrixError\u001b[0m                  Traceback (most recent call last)",
      "Cell \u001b[0;32mIn[20], line 11\u001b[0m\n\u001b[1;32m      9\u001b[0m \u001b[38;5;28mprint\u001b[39m(J\u001b[38;5;241m.\u001b[39mshape)\n\u001b[1;32m     10\u001b[0m sp\u001b[38;5;241m.\u001b[39mpprint(FK_centralised[\u001b[38;5;241m5\u001b[39m])\n\u001b[0;32m---> 11\u001b[0m J_inv \u001b[38;5;241m=\u001b[39m \u001b[43mJ\u001b[49m\u001b[38;5;241;43m.\u001b[39;49m\u001b[43mpinv\u001b[49m\u001b[43m(\u001b[49m\u001b[43m)\u001b[49m \u001b[38;5;66;03m# use pseudoinverse because J is non-square\u001b[39;00m\n\u001b[1;32m     13\u001b[0m \u001b[38;5;66;03m# Jacobian calculation for velocity\u001b[39;00m\n\u001b[1;32m     14\u001b[0m velocity_reference \u001b[38;5;241m=\u001b[39m sp\u001b[38;5;241m.\u001b[39mMatrix([\u001b[38;5;241m1\u001b[39m, \u001b[38;5;241m0\u001b[39m, \u001b[38;5;241m0\u001b[39m, \u001b[38;5;241m0\u001b[39m, \u001b[38;5;241m0\u001b[39m, \u001b[38;5;241m0\u001b[39m]) \u001b[38;5;66;03m# 1 m/s in x direction\u001b[39;00m\n",
      "File \u001b[0;32m~/.local/lib/python3.10/site-packages/sympy/matrices/matrixbase.py:5195\u001b[0m, in \u001b[0;36mMatrixBase.pinv\u001b[0;34m(self, method)\u001b[0m\n\u001b[1;32m   5194\u001b[0m \u001b[38;5;28;01mdef\u001b[39;00m \u001b[38;5;21mpinv\u001b[39m(\u001b[38;5;28mself\u001b[39m, method\u001b[38;5;241m=\u001b[39m\u001b[38;5;124m'\u001b[39m\u001b[38;5;124mRD\u001b[39m\u001b[38;5;124m'\u001b[39m):\n\u001b[0;32m-> 5195\u001b[0m     \u001b[38;5;28;01mreturn\u001b[39;00m \u001b[43m_pinv\u001b[49m\u001b[43m(\u001b[49m\u001b[38;5;28;43mself\u001b[39;49m\u001b[43m,\u001b[49m\u001b[43m \u001b[49m\u001b[43mmethod\u001b[49m\u001b[38;5;241;43m=\u001b[39;49m\u001b[43mmethod\u001b[49m\u001b[43m)\u001b[49m\n",
      "File \u001b[0;32m~/.local/lib/python3.10/site-packages/sympy/matrices/inverse.py:134\u001b[0m, in \u001b[0;36m_pinv\u001b[0;34m(M, method)\u001b[0m\n\u001b[1;32m    131\u001b[0m     \u001b[38;5;28;01mreturn\u001b[39;00m M\u001b[38;5;241m.\u001b[39mH\n\u001b[1;32m    133\u001b[0m \u001b[38;5;28;01mif\u001b[39;00m method \u001b[38;5;241m==\u001b[39m \u001b[38;5;124m'\u001b[39m\u001b[38;5;124mRD\u001b[39m\u001b[38;5;124m'\u001b[39m:\n\u001b[0;32m--> 134\u001b[0m     \u001b[38;5;28;01mreturn\u001b[39;00m \u001b[43m_pinv_rank_decomposition\u001b[49m\u001b[43m(\u001b[49m\u001b[43mM\u001b[49m\u001b[43m)\u001b[49m\n\u001b[1;32m    135\u001b[0m \u001b[38;5;28;01melif\u001b[39;00m method \u001b[38;5;241m==\u001b[39m \u001b[38;5;124m'\u001b[39m\u001b[38;5;124mED\u001b[39m\u001b[38;5;124m'\u001b[39m:\n\u001b[1;32m    136\u001b[0m     \u001b[38;5;28;01mreturn\u001b[39;00m _pinv_diagonalization(M)\n",
      "File \u001b[0;32m~/.local/lib/python3.10/site-packages/sympy/matrices/inverse.py:39\u001b[0m, in \u001b[0;36m_pinv_rank_decomposition\u001b[0;34m(M)\u001b[0m\n\u001b[1;32m     35\u001b[0m     \u001b[38;5;28;01mreturn\u001b[39;00m M\u001b[38;5;241m.\u001b[39mH\n\u001b[1;32m     37\u001b[0m B, C \u001b[38;5;241m=\u001b[39m M\u001b[38;5;241m.\u001b[39mrank_decomposition()\n\u001b[0;32m---> 39\u001b[0m Bp \u001b[38;5;241m=\u001b[39m \u001b[43m_pinv_full_rank\u001b[49m\u001b[43m(\u001b[49m\u001b[43mB\u001b[49m\u001b[43m)\u001b[49m\n\u001b[1;32m     40\u001b[0m Cp \u001b[38;5;241m=\u001b[39m _pinv_full_rank(C)\n\u001b[1;32m     42\u001b[0m \u001b[38;5;28;01mreturn\u001b[39;00m Cp\u001b[38;5;241m.\u001b[39mmultiply(Bp)\n",
      "File \u001b[0;32m~/.local/lib/python3.10/site-packages/sympy/matrices/inverse.py:22\u001b[0m, in \u001b[0;36m_pinv_full_rank\u001b[0;34m(M)\u001b[0m\n\u001b[1;32m     19\u001b[0m     \u001b[38;5;28;01mreturn\u001b[39;00m M\u001b[38;5;241m.\u001b[39mH\n\u001b[1;32m     21\u001b[0m \u001b[38;5;28;01mif\u001b[39;00m M\u001b[38;5;241m.\u001b[39mrows \u001b[38;5;241m>\u001b[39m\u001b[38;5;241m=\u001b[39m M\u001b[38;5;241m.\u001b[39mcols:\n\u001b[0;32m---> 22\u001b[0m     \u001b[38;5;28;01mreturn\u001b[39;00m \u001b[43mM\u001b[49m\u001b[38;5;241;43m.\u001b[39;49m\u001b[43mH\u001b[49m\u001b[38;5;241;43m.\u001b[39;49m\u001b[43mmultiply\u001b[49m\u001b[43m(\u001b[49m\u001b[43mM\u001b[49m\u001b[43m)\u001b[49m\u001b[38;5;241;43m.\u001b[39;49m\u001b[43minv\u001b[49m\u001b[43m(\u001b[49m\u001b[43m)\u001b[49m\u001b[38;5;241m.\u001b[39mmultiply(M\u001b[38;5;241m.\u001b[39mH)\n\u001b[1;32m     23\u001b[0m \u001b[38;5;28;01melse\u001b[39;00m:\n\u001b[1;32m     24\u001b[0m     \u001b[38;5;28;01mreturn\u001b[39;00m M\u001b[38;5;241m.\u001b[39mH\u001b[38;5;241m.\u001b[39mmultiply(M\u001b[38;5;241m.\u001b[39mmultiply(M\u001b[38;5;241m.\u001b[39mH)\u001b[38;5;241m.\u001b[39minv())\n",
      "File \u001b[0;32m~/.local/lib/python3.10/site-packages/sympy/matrices/matrixbase.py:5219\u001b[0m, in \u001b[0;36mMatrixBase.inv\u001b[0;34m(self, method, iszerofunc, try_block_diag)\u001b[0m\n\u001b[1;32m   5218\u001b[0m \u001b[38;5;28;01mdef\u001b[39;00m \u001b[38;5;21minv\u001b[39m(\u001b[38;5;28mself\u001b[39m, method\u001b[38;5;241m=\u001b[39m\u001b[38;5;28;01mNone\u001b[39;00m, iszerofunc\u001b[38;5;241m=\u001b[39m_iszero, try_block_diag\u001b[38;5;241m=\u001b[39m\u001b[38;5;28;01mFalse\u001b[39;00m):\n\u001b[0;32m-> 5219\u001b[0m     \u001b[38;5;28;01mreturn\u001b[39;00m \u001b[43m_inv\u001b[49m\u001b[43m(\u001b[49m\u001b[38;5;28;43mself\u001b[39;49m\u001b[43m,\u001b[49m\u001b[43m \u001b[49m\u001b[43mmethod\u001b[49m\u001b[38;5;241;43m=\u001b[39;49m\u001b[43mmethod\u001b[49m\u001b[43m,\u001b[49m\u001b[43m \u001b[49m\u001b[43miszerofunc\u001b[49m\u001b[38;5;241;43m=\u001b[39;49m\u001b[43miszerofunc\u001b[49m\u001b[43m,\u001b[49m\n\u001b[1;32m   5220\u001b[0m \u001b[43m            \u001b[49m\u001b[43mtry_block_diag\u001b[49m\u001b[38;5;241;43m=\u001b[39;49m\u001b[43mtry_block_diag\u001b[49m\u001b[43m)\u001b[49m\n",
      "File \u001b[0;32m~/.local/lib/python3.10/site-packages/sympy/matrices/inverse.py:504\u001b[0m, in \u001b[0;36m_inv\u001b[0;34m(M, method, iszerofunc, try_block_diag)\u001b[0m\n\u001b[1;32m    501\u001b[0m         method \u001b[38;5;241m=\u001b[39m \u001b[38;5;124m'\u001b[39m\u001b[38;5;124mGE\u001b[39m\u001b[38;5;124m'\u001b[39m\n\u001b[1;32m    503\u001b[0m \u001b[38;5;28;01mif\u001b[39;00m method \u001b[38;5;241m==\u001b[39m \u001b[38;5;124m\"\u001b[39m\u001b[38;5;124mDM\u001b[39m\u001b[38;5;124m\"\u001b[39m:\n\u001b[0;32m--> 504\u001b[0m     rv \u001b[38;5;241m=\u001b[39m \u001b[43m_inv_DM\u001b[49m\u001b[43m(\u001b[49m\u001b[43mdM\u001b[49m\u001b[43m)\u001b[49m\n\u001b[1;32m    505\u001b[0m \u001b[38;5;28;01melif\u001b[39;00m method \u001b[38;5;241m==\u001b[39m \u001b[38;5;124m\"\u001b[39m\u001b[38;5;124mDMNC\u001b[39m\u001b[38;5;124m\"\u001b[39m:\n\u001b[1;32m    506\u001b[0m     rv \u001b[38;5;241m=\u001b[39m _inv_DM(dM, cancel\u001b[38;5;241m=\u001b[39m\u001b[38;5;28;01mFalse\u001b[39;00m)\n",
      "File \u001b[0;32m~/.local/lib/python3.10/site-packages/sympy/matrices/inverse.py:328\u001b[0m, in \u001b[0;36m_inv_DM\u001b[0;34m(dM, cancel)\u001b[0m\n\u001b[1;32m    326\u001b[0m     dMi, den \u001b[38;5;241m=\u001b[39m dM\u001b[38;5;241m.\u001b[39minv_den()\n\u001b[1;32m    327\u001b[0m \u001b[38;5;28;01mexcept\u001b[39;00m DMNonInvertibleMatrixError:\n\u001b[0;32m--> 328\u001b[0m     \u001b[38;5;28;01mraise\u001b[39;00m NonInvertibleMatrixError(\u001b[38;5;124m\"\u001b[39m\u001b[38;5;124mMatrix det == 0; not invertible.\u001b[39m\u001b[38;5;124m\"\u001b[39m)\n\u001b[1;32m    330\u001b[0m \u001b[38;5;28;01mif\u001b[39;00m use_exact:\n\u001b[1;32m    331\u001b[0m     dMi \u001b[38;5;241m=\u001b[39m dMi\u001b[38;5;241m.\u001b[39mconvert_to(dom)\n",
      "\u001b[0;31mNonInvertibleMatrixError\u001b[0m: Matrix det == 0; not invertible."
     ]
    }
   ],
   "source": [
    "# Jacobian calculation for velocity\n",
    "J = FK_centralised.jacobian([x, y, z, yaw, pitch, roll, q1, q2, q3])\n",
    "\n",
    "# Sample values for x, y, z, yaw, pitch, roll, q1, q2, q3\n",
    "J = J.subs([(x, 0), (y, 1.5), (z, -2.0), (yaw, sp.pi/4.), (pitch, 0.0), (roll, 0.0), (q1, -sp.pi/6), (q2, 0.0), (q3, sp.pi/6)])\n",
    "\n",
    "# Check for singularity here\n",
    "sp.pprint(J.evalf())\n",
    "print(J.shape)\n",
    "sp.pprint(FK_centralised[5])\n",
    "J_inv = J.pinv() # use pseudoinverse because J is non-square\n",
    "\n",
    "# Jacobian calculation for velocity\n",
    "velocity_reference = sp.Matrix([1, 0, 0, 0, 0, 0]) # 1 m/s in x direction\n",
    "joint_velocities = J_inv * velocity_reference\n",
    "sp.pprint(joint_velocities)"
   ]
  }
 ],
 "metadata": {
  "kernelspec": {
   "display_name": "Python 3",
   "language": "python",
   "name": "python3"
  },
  "language_info": {
   "codemirror_mode": {
    "name": "ipython",
    "version": 3
   },
   "file_extension": ".py",
   "mimetype": "text/x-python",
   "name": "python",
   "nbconvert_exporter": "python",
   "pygments_lexer": "ipython3",
   "version": "3.10.12"
  }
 },
 "nbformat": 4,
 "nbformat_minor": 2
}
