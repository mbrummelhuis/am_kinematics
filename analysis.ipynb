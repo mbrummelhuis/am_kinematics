{
 "cells": [
  {
   "cell_type": "code",
   "execution_count": 6,
   "metadata": {},
   "outputs": [],
   "source": [
    "import sympy as sp\n",
    "import numpy as np\n",
    "\n",
    "sp.init_printing(use_latex=True)"
   ]
  },
  {
   "cell_type": "markdown",
   "metadata": {},
   "source": [
    "### Rotation convention\n",
    "The yaw, pitch, roll (YPR) convention common in aerospace follows an intrinsic (that is, about the moving coordinate system) rotation about the body Z, Y, and X axes. \n",
    "\n",
    "For the calculation of the associated rotation matrices see the code below. This also shows that the YPR convention is equal to an extrinsic (that is, about the inertial coordinate system) rotation in the order XYZ.\n",
    "\n",
    "The convention used here thus corresponds to the Euler ZYX mentioned in this source: http://web.mit.edu/2.05/www/Handout/HO2.PDF \\\n",
    "And this corresponds to the rotation matrix derived here: https://link.springer.com/article/10.1007/s11071-022-08212-w"
   ]
  },
  {
   "cell_type": "code",
   "execution_count": 7,
   "metadata": {},
   "outputs": [],
   "source": [
    "L1_length = 0.110\n",
    "L2_length = 0.311\n",
    "L3_length = 0.273\n",
    "\n",
    "#q1, q2, q3 = sp.symbols('q_1 q_2 q_3', real=True)\n",
    "x_b, y_b, z_b, yaw, pitch, roll, q1, q2, q3 = sp.symbols('x_b y_b z_b yaw pitch roll q_1 q_2 q_3', real=True)\n",
    "state_vector = sp.Matrix([x_b, y_b, z_b, yaw, pitch, roll, q1, q2, q3])\n",
    "\n",
    "# Secondary states\n",
    "x_be, y_be, z_be = sp.symbols('x^{b}_{be} y^{b}_{be} z^{b}_{be}')\n",
    "\n",
    "# Parameters\n",
    "L1, L2, L3 = sp.symbols('L_1 L_2 L_3', real=True, positive=True)"
   ]
  },
  {
   "cell_type": "code",
   "execution_count": 8,
   "metadata": {},
   "outputs": [
    {
     "name": "stdout",
     "output_type": "stream",
     "text": [
      "⎡cos(pitch)⋅cos(yaw)  sin(pitch)⋅sin(roll)⋅cos(yaw) - sin(yaw)⋅cos(roll)  sin( ↪\n",
      "⎢                                                                              ↪\n",
      "⎢sin(yaw)⋅cos(pitch)  sin(pitch)⋅sin(roll)⋅sin(yaw) + cos(roll)⋅cos(yaw)  sin( ↪\n",
      "⎢                                                                              ↪\n",
      "⎣    -sin(pitch)                     sin(roll)⋅cos(pitch)                      ↪\n",
      "\n",
      "↪ pitch)⋅cos(roll)⋅cos(yaw) + sin(roll)⋅sin(yaw)⎤\n",
      "↪                                               ⎥\n",
      "↪ pitch)⋅sin(yaw)⋅cos(roll) - sin(roll)⋅cos(yaw)⎥\n",
      "↪                                               ⎥\n",
      "↪            cos(pitch)⋅cos(roll)               ⎦\n",
      "⎡cos(pitch)⋅cos(yaw)  sin(pitch)⋅sin(roll)⋅cos(yaw) - sin(yaw)⋅cos(roll)  sin( ↪\n",
      "⎢                                                                              ↪\n",
      "⎢sin(yaw)⋅cos(pitch)  sin(pitch)⋅sin(roll)⋅sin(yaw) + cos(roll)⋅cos(yaw)  sin( ↪\n",
      "⎢                                                                              ↪\n",
      "⎣    -sin(pitch)                     sin(roll)⋅cos(pitch)                      ↪\n",
      "\n",
      "↪ pitch)⋅cos(roll)⋅cos(yaw) + sin(roll)⋅sin(yaw)⎤\n",
      "↪                                               ⎥\n",
      "↪ pitch)⋅sin(yaw)⋅cos(roll) - sin(roll)⋅cos(yaw)⎥\n",
      "↪                                               ⎥\n",
      "↪            cos(pitch)⋅cos(roll)               ⎦\n"
     ]
    }
   ],
   "source": [
    "# ROTATIONS\n",
    "# Intrinsic ZYX\n",
    "Rz = sp.Matrix([\n",
    "    [sp.cos(yaw), -sp.sin(yaw), 0],\n",
    "    [sp.sin(yaw),  sp.cos(yaw), 0],\n",
    "    [0,            0,           1]\n",
    "])\n",
    "\n",
    "Ry = sp.Matrix([\n",
    "    [sp.cos(pitch),  0, sp.sin(pitch)],\n",
    "    [0,              1, 0            ],\n",
    "    [-sp.sin(pitch), 0, sp.cos(pitch)]\n",
    "])\n",
    "\n",
    "Rx = sp.Matrix([\n",
    "    [1, 0,            0           ],\n",
    "    [0, sp.cos(roll), -sp.sin(roll)],\n",
    "    [0, sp.sin(roll),  sp.cos(roll)]\n",
    "])\n",
    "\n",
    "# Intrinsic ZYX: Postmultiplication\n",
    "R_zyx_intrinsic = Rz * Ry * Rx\n",
    "\n",
    "# Extrinsic XYZ: Premultiplication\n",
    "R_xyz_extrinsic = Rz * Ry * Rx\n",
    "\n",
    "sp.pprint(R_xyz_extrinsic)\n",
    "sp.pprint(R_zyx_intrinsic)\n",
    "R_b = R_zyx_intrinsic"
   ]
  },
  {
   "cell_type": "markdown",
   "metadata": {},
   "source": [
    "### Angular velocity\n",
    "Taking the time-derivative of expressions of Euler angles does not yield angular velocities. A transformation matrix exists to convert between them. For the YPR convention described above, this looks like:\n",
    "$$\n",
    "T(\\phi_{b})=\\begin{bmatrix} 0 & -\\sin(\\psi) & \\cos(\\psi) \\cos(\\theta) \\\\\n",
    "                            0 & \\cos(\\psi) & \\sin(\\psi) \\cos(\\theta) \\\\\n",
    "                            1 & 0 & 0 \\end{bmatrix}\n",
    "$$\n",
    "\n",
    "Source: https://ieeexplore.ieee.org/document/6608869"
   ]
  },
  {
   "cell_type": "code",
   "execution_count": 9,
   "metadata": {},
   "outputs": [],
   "source": [
    "T_euler = sp.Matrix([[0, -sp.sin(yaw), sp.cos(yaw)*sp.cos(pitch)],\n",
    "                     [0, sp.cos(yaw), sp.sin(yaw)*sp.cos(pitch)],\n",
    "                     [1, 0, -sp.sin(pitch)]])\n",
    "\n",
    "T_A = sp.Matrix([[sp.eye(3), sp.zeros(3, 3)],\n",
    "                 [sp.zeros(3, 3), T_euler]])"
   ]
  },
  {
   "cell_type": "markdown",
   "metadata": {},
   "source": [
    "### Conventions\n",
    "For arm 1, the nominal configuration is straight out to the right of the body (i.e. along positive $Y_{b}$). For arm 2, the nominal configuration is straight out to the left of the body (i.e. along the negative $Y_{b}$).\n",
    "\n",
    "Rotations around relative axes are intrinsic and thus you use postmultiplication of the rotation."
   ]
  },
  {
   "cell_type": "code",
   "execution_count": 10,
   "metadata": {},
   "outputs": [],
   "source": [
    "# Body frame b: FRD at vehicle CoM\n",
    "T_Ib = sp.Matrix([[sp.cos(yaw)*sp.cos(pitch), sp.cos(yaw)*sp.sin(pitch)*sp.sin(roll)-sp.sin(yaw)*sp.cos(roll), sp.cos(yaw)*sp.sin(pitch)*sp.cos(roll)+sp.sin(yaw)*sp.sin(roll), x_b],\n",
    "                  [sp.sin(yaw)*sp.cos(pitch), sp.sin(yaw)*sp.sin(pitch)*sp.sin(roll)+sp.cos(yaw)*sp.cos(roll), sp.sin(yaw)*sp.sin(pitch)*sp.cos(roll)-sp.cos(yaw)*sp.sin(roll), y_b],\n",
    "                  [-sp.sin(pitch), sp.cos(pitch)*sp.sin(roll), sp.cos(pitch)*sp.cos(roll), z_b],\n",
    "                  [0, 0, 0, 1]])\n",
    "\n",
    "# Frame 0: Z axis of rotation pointing forward, X axis pointing up, Y axis pointing right (90 deg rotation around Yb)\n",
    "T_b0 = sp.Matrix([[0, 0, 1, 0],\n",
    "                  [0, 1, 0, 0],\n",
    "                  [-1, 0, 0, 0],\n",
    "                  [0, 0, 0, 1]])\n",
    "\n",
    "# Frame 1: Rotation around Z0 by q1\n",
    "T_01 = sp.Matrix([[sp.cos(q1), -sp.sin(q1), 0, 0],\n",
    "                [sp.sin(q1),  sp.cos(q1), 0, 0],\n",
    "                [0, 0, 1, 0],\n",
    "                [0, 0, 0, 1]])\n",
    "\n",
    "# Frame 2: Translation along Y1 of L1, then rotation around Y1 by pi/2 and rotation around new Z2 by q2\n",
    "rot_y1 = sp.Matrix([[sp.cos(sp.pi/2), 0, sp.sin(sp.pi/2)],\n",
    "                    [0, 1, 0],\n",
    "                    [-sp.sin(sp.pi/2), 0, sp.cos(sp.pi/2)]])\n",
    "rot_z2 = sp.Matrix([[sp.cos(q2), -sp.sin(q2), 0],\n",
    "                    [sp.sin(q2), sp.cos(q2), 0],\n",
    "                    [0, 0, 1]])\n",
    "rot_y1z2 = rot_y1 * rot_z2 # postmultiply because z2 is relative axis\n",
    "T_12 = sp.diag(rot_y1z2, 1)\n",
    "T_12[0, 3] = L1\n",
    "\n",
    "# Frame 3: Translation along Y2 by L2, rotation about Y2 by -pi/2, then rotation about new Z3 by q3\n",
    "rot_y2 = sp.Matrix([[sp.cos(-sp.pi/2), 0, sp.sin(-sp.pi/2)],\n",
    "                    [0, 1, 0],\n",
    "                    [-sp.sin(-sp.pi/2), 0, sp.cos(-sp.pi/2)]])\n",
    "rot_z3 = sp.Matrix([[sp.cos(q3), -sp.sin(q3), 0],\n",
    "                    [sp.sin(q3), sp.cos(q3), 0],\n",
    "                    [0, 0, 1]])\n",
    "rot_y2z3 = rot_y2 * rot_z3 # postmultiply because z3 is relative axis\n",
    "T_23 = sp.diag(rot_y2z3, 1)\n",
    "T_23[0, 3] = L2\n",
    "\n",
    "# Frame e: Translation along Y3 by L3, rotation about X3 by -pi/2\n",
    "T_3e = sp.Matrix([[1, 0, 0, 0],\n",
    "                [0, 0, 1, L3],\n",
    "                [0, -1, 0, 0],\n",
    "                [0, 0, 0, 1]])\n",
    "\n",
    "T_be = sp.trigsimp(sp.expand(T_b0*T_01*T_12*T_23*T_3e))\n",
    "    \n",
    "# Set parameters\n",
    "T_be = T_be.subs([(L1, L1_length), (L2, L2_length), (L3, L3_length)])"
   ]
  },
  {
   "cell_type": "code",
   "execution_count": null,
   "metadata": {},
   "outputs": [
    {
     "name": "stdout",
     "output_type": "stream",
     "text": [
      "State dependencies of manipulator kinematics\n",
      "xe = f({q_3, q_2})\n",
      "ye = f({q_2, q_1, q_3})\n",
      "ze = f({q_2, q_1, q_3})\n",
      "yawe = f({q_2, q_1, q_3})\n",
      "pitche = f({q_2, q_1, q_3})\n",
      "rolle = f({q_2, q_1, q_3})\n"
     ]
    }
   ],
   "source": [
    "# Forward kinematics function\n",
    "FK_manipulator = sp.Matrix([T_be[0,3],\n",
    "                T_be[1,3],\n",
    "                T_be[2,3],\n",
    "                sp.atan2(T_be[1,0], T_be[0,0]), # yaw\n",
    "                sp.atan2(-T_be[2,0], sp.sqrt(T_be[0,0]**2 + T_be[1,0]**2)), # pitch\n",
    "                sp.atan2(T_be[2,1], T_be[2,2])]) # roll\n",
    "\n",
    "\n",
    "sp.pprint(\"State dependencies of manipulator kinematics\")\n",
    "print(f\"x_bbe = f({FK_manipulator[0,0].free_symbols})\")\n",
    "print(f\"y_bbe = f({FK_manipulator[1,0].free_symbols})\")\n",
    "print(f\"z_bbe = f({FK_manipulator[2,0].free_symbols})\")\n",
    "print(f\"yaw_bbe = f({FK_manipulator[3,0].free_symbols})\")\n",
    "print(f\"pitch_bbe = f({FK_manipulator[4,0].free_symbols})\")\n",
    "print(f\"roll_bbe = f({FK_manipulator[5,0].free_symbols})\")\n",
    "\n"
   ]
  },
  {
   "cell_type": "code",
   "execution_count": 12,
   "metadata": {},
   "outputs": [
    {
     "name": "stdout",
     "output_type": "stream",
     "text": [
      "State dependencies of centralised kinematics\n",
      "xe = f({x_b, q_3, yaw, roll, q_1, q_2, pitch})\n",
      "ye = f({q_3, yaw, y_b, roll, q_1, q_2, pitch})\n",
      "ze = f({q_3, q_2, roll, q_1, pitch, z_b})\n",
      "yawe = f({q_3, yaw, roll, q_1, q_2, pitch})\n",
      "pitche = f({q_3, roll, q_1, q_2, pitch})\n",
      "rolle = f({q_3, roll, q_2, q_1, pitch})\n"
     ]
    }
   ],
   "source": [
    "# Forward kinematics function\n",
    "T_Ie = T_Ib * T_be\n",
    "FK_centralised = sp.Matrix([T_Ie[0,3],\n",
    "                T_Ie[1,3],\n",
    "                T_Ie[2,3],\n",
    "                sp.atan2(T_Ie[1,0], T_Ie[0,0]), # yaw\n",
    "                sp.atan2(-T_Ie[2,0], sp.sqrt(T_Ie[0,0]**2 + T_Ie[1,0]**2)), # pitch\n",
    "                sp.atan2(T_Ie[2,1], T_Ie[2,2])]) # roll\n",
    "FK_centralised = sp.trigsimp(sp.expand(FK_centralised))\n",
    "sp.pprint(\"State dependencies of centralised kinematics\")\n",
    "print(f\"xe = f({FK_centralised[0,0].free_symbols})\")\n",
    "print(f\"ye = f({FK_centralised[1,0].free_symbols})\")\n",
    "print(f\"ze = f({FK_centralised[2,0].free_symbols})\")\n",
    "print(f\"yawe = f({FK_centralised[3,0].free_symbols})\")\n",
    "print(f\"pitche = f({FK_centralised[4,0].free_symbols})\")\n",
    "print(f\"rolle = f({FK_centralised[5,0].free_symbols})\")"
   ]
  },
  {
   "cell_type": "markdown",
   "metadata": {},
   "source": [
    "### Analysis of Euler angle singularity\n",
    "When calculating the end-effector yaw and pitch, there is a division by zero which causes an Euler angle singularity. Therefore, we examine denominators in the expressions for $\\theta_{e}$ and $\\psi_{e}$. They are rather long and cumbersome expressions on their own due to the many rotations, so we just look at the states they are a function of.\n",
    "\n",
    "We can simplify a little bit by setting both the body pitch and roll to zero, since the platform needs this for stabilization, and these values are likely to cause or contribute to the singularity. We look again at the independent states. Now, the expression is also much less cumbersome and we can investigate."
   ]
  },
  {
   "cell_type": "code",
   "execution_count": 13,
   "metadata": {},
   "outputs": [
    {
     "name": "stdout",
     "output_type": "stream",
     "text": [
      "Free variables in denominator of yawe and pitche:\n",
      "{pitch, q₁, q₂, q₃, roll}\n",
      "{pitch, q₁, q₂, q₃, roll, yaw}\n",
      "\n",
      "With zero pitch and roll angle:\n",
      "T_Ie = f({q_1, q_2, q_3})\n",
      "T_Ie = f({q_2, q_1, q_3, yaw})\n",
      "sin(q₁)⋅cos(q₂)⋅cos(q₃) + sin(q₃)⋅cos(q₁)\n",
      "-(sin(q₁)⋅cos(q₃) + sin(q₃)⋅cos(q₁)⋅cos(q₂))⋅sin(yaw) + sin(q₂)⋅sin(q₃)⋅cos(yaw)\n"
     ]
    }
   ],
   "source": [
    "# checking out denominator of expression for yawe and pitche\n",
    "print(\"Free variables in denominator of yawe and pitche:\")\n",
    "sp.pprint(T_Ie[2,2].free_symbols)\n",
    "sp.pprint(T_Ie[0,0].free_symbols)\n",
    "\n",
    "# substitute zero pitch and roll since that is the nominal configuration\n",
    "T_Ie_22 = T_Ie[2,2].subs([(roll, 0.0), (pitch, 0.0)])\n",
    "T_Ie_00 = T_Ie[0,0].subs([(roll, 0.0), (pitch, 0.0)])\n",
    "print(\"\\nWith zero pitch and roll angle:\")\n",
    "print(f\"T_Ie = f({T_Ie_22.free_symbols})\")\n",
    "print(f\"T_Ie = f({T_Ie_00.free_symbols})\")\n",
    "sp.pprint(T_Ie_22)\n",
    "sp.pprint(T_Ie_00)"
   ]
  },
  {
   "cell_type": "markdown",
   "metadata": {},
   "source": [
    "The two lines above mean that no singularities (expression evaluates to 0) exist purely dependent on the yaw.\n",
    "For end-effector yaw, a singularity exists when $q_{1}$=0 and $q_{3}$=0 (fully stretched sideways), which is intuitive. When $\\cos(q_{2})$ is 0, a singularity could exist, but this is irrelevant since the associated angle ($q_{2}$=$\\pi /2$) is outside the joint limit.\n",
    "\n",
    "For the end-effector pitch, a couple of conditions for Euler angle singularities exist. We can evaluate them by looking at when the factors in the expression evaluate to zero. With this method, the following set of singularities can be derived:\n",
    "$$\n",
    "\\phi_{b} = 0 \\land q_{2}=0 \\\\\n",
    "\\phi_{b} = 0 \\land q_{3}=0 \\\\\n",
    "q_{1}=0 \\land q_{3}=0 \\\\\n",
    "\\phi_{b} = \\pi /2 \\land q_{1}=\\pi /2 \\land q_{3}=\\pi /2\n",
    "$$\n",
    "Of these, condition IV is also not feasible because $q_{3}=\\pi /2$ is outside the joint limit for $q_{3}$"
   ]
  },
  {
   "cell_type": "markdown",
   "metadata": {},
   "source": [
    "### Controllability\n",
    "Since the states roll and y_b, and pitch and x_b are coupled, not the entire end-effector configuration space is reachable."
   ]
  },
  {
   "cell_type": "code",
   "execution_count": 25,
   "metadata": {},
   "outputs": [
    {
     "name": "stdout",
     "output_type": "stream",
     "text": [
      "Centralised Jacobian shape: (6, 9)\n",
      "Shape and dependencies of the controlled and uncontrolled Jacobians (rows, columns):\n",
      "J_con = f({q_3, yaw, roll, q_1, q_2, pitch})\t Shape = (6, 7)\n",
      "J_unc = f({q_3, yaw, q_2, q_1, roll, pitch})\t Shape = (6, 2)\n",
      "T_A = f({pitch, yaw})\n",
      "FK_centralised = f({x_b, q_3, yaw, y_b, roll, q_1, q_2, pitch, z_b})\n"
     ]
    }
   ],
   "source": [
    "# Jacobian calculation for velocity\n",
    "J_centralised = FK_centralised.jacobian([x_b, y_b, z_b, yaw, pitch, roll, q1, q2, q3])\n",
    "\n",
    "print(f\"Centralised Jacobian shape: {J_centralised.shape}\")\n",
    "\n",
    "J_manipulator = FK_manipulator.jacobian([q1, q2, q3])\n",
    "J_b = sp.Matrix([[sp.eye(3), -(R_b*sp.Matrix([[FK_manipulator[0,0]],[FK_manipulator[1,0]],[FK_manipulator[2,0]]])).hat()],\n",
    "                [sp.zeros(3,3), sp.eye(3)]])\n",
    "\n",
    "J_eb = sp.Matrix([[R_b, sp.zeros(3,3)],[sp.zeros(3,3), R_b]])*J_manipulator\n",
    "\n",
    "\n",
    "J_geometric = J_b*T_A.row_join(J_eb)\n",
    "\n",
    "J_controlled = J_geometric[:,0:4].row_join(J_geometric[:,6:9])\n",
    "J_uncontrolled = J_geometric[:,4:6]\n",
    "print(\"Shape and dependencies of the controlled and uncontrolled Jacobians (rows, columns):\")\n",
    "sp.pprint(f\"J_con = f({J_controlled.free_symbols})\\t Shape = {J_controlled.shape}\")\n",
    "sp.pprint(f\"J_unc = f({J_uncontrolled.free_symbols})\\t Shape = {J_uncontrolled.shape}\")\n",
    "\n",
    "sp.pprint(f\"T_A = f({T_A.free_symbols})\")\n",
    "sp.pprint(f\"FK_centralised = f({FK_centralised.free_symbols})\")\n",
    "# Sample values for x, y, z, yaw, pitch, roll, q1, q2, q3\n",
    "#J = J.subs([(x, 0), (y, 1.5), (z, -2.0), (yaw, sp.pi/4.), (pitch, 0.0), (roll, 0.0), (q1, -sp.pi/6), (q3, sp.pi/6)])"
   ]
  },
  {
   "cell_type": "markdown",
   "metadata": {},
   "source": [
    "### Inverse kinematics\n",
    "From this, we follow the formulation of inverse kinematics through Closed Loop Inverse Kinematics (CLIK) from Arleo 2013 and Cataldi 2016. The formulation from Arleo is missing the inverse notation in the paper and the formulation of Cataldi involves a weighted pseudoinverse to bias the controller towards using the manipulator. We can investigate this later."
   ]
  },
  {
   "cell_type": "code",
   "execution_count": null,
   "metadata": {},
   "outputs": [
    {
     "name": "stdout",
     "output_type": "stream",
     "text": [
      "Setting up dzeta/dt function\n"
     ]
    }
   ],
   "source": [
    "print(\"Setting up dzeta/dt function\")\n",
    "# Instantaneous states\n",
    "xb_inst = 0.0\n",
    "yb_inst = 0.0\n",
    "zb_inst = 0.0\n",
    "yaw_inst = sp.pi/7\n",
    "pitch_inst = 0.0\n",
    "roll_inst = 0.0\n",
    "q1_inst = -sp.pi/6\n",
    "q2_inst = 0.0\n",
    "q3_inst = sp.pi/6\n",
    "\n",
    "\n",
    "# inputs\n",
    "x_dot_ed = sp.Matrix([0.0, 0.0, 1.0, 0.0, 0.0, 0.0, 0.0]) # desired end-effector velocity (set by controller)\n",
    "x_ed = sp.Matrix([0.0, 0.0, 0.0, 0.0, 0.0, 0.0]) # desired end-effector pose (set by controller)\n",
    "K = sp.eye(6) # gain matrix (static)\n",
    "sigma_dot = sp.Matrix([0.0, 0.0]) # uncontrolled joint velocities, pitch and roll rates (measured)\n",
    "\n",
    "# Set up the CLIK differential equation\n",
    "controlled_states_ref_dot = J_controlled.pinv()*T_A*(x_dot_ed+K*(x_ed - FK_centralised)) - J_controlled.pinv()*J_uncontrolled*sigma_dot\n",
    "sp.pprint(f\"State dependencies of controlled states reference velocities: {controlled_states_ref_dot.free_symbols}\")\n"
   ]
  },
  {
   "cell_type": "code",
   "execution_count": null,
   "metadata": {},
   "outputs": [],
   "source": [
    "time_window = [0, 1]\n",
    "initial_conditions = [xb_inst, yb_inst, zb_inst, yaw_inst, pitch_inst, roll_inst, q1_inst, q2_inst, q3_inst]\n",
    "\n",
    "dzetadt = sp.lamdify((state_vector), controlled_states_ref_dot, 'numpy')\n",
    "\n",
    "def dzetadt_func(state_vector):\n",
    "    return dzetadt(*state_vector)\n",
    "\n",
    "from scipy.integrate import solve_ivp\n",
    "\n",
    "solution = solve_ivp(dzetadt_func, time_window, initial_conditions)"
   ]
  }
 ],
 "metadata": {
  "kernelspec": {
   "display_name": "Python 3",
   "language": "python",
   "name": "python3"
  },
  "language_info": {
   "codemirror_mode": {
    "name": "ipython",
    "version": 3
   },
   "file_extension": ".py",
   "mimetype": "text/x-python",
   "name": "python",
   "nbconvert_exporter": "python",
   "pygments_lexer": "ipython3",
   "version": "3.10.12"
  }
 },
 "nbformat": 4,
 "nbformat_minor": 2
}
