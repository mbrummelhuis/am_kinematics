{
 "cells": [
  {
   "cell_type": "code",
   "execution_count": 1,
   "metadata": {},
   "outputs": [],
   "source": [
    "import sympy as sp\n",
    "import numpy as np\n",
    "\n",
    "sp.init_printing(use_latex=True)"
   ]
  },
  {
   "cell_type": "code",
   "execution_count": 2,
   "metadata": {},
   "outputs": [],
   "source": [
    "L1_length = 0.110\n",
    "L2_length = 0.311\n",
    "L3_length = 0.273\n",
    "\n",
    "#q1, q2, q3 = sp.symbols('q_1 q_2 q_3', real=True)\n",
    "x, y, z, yaw, pitch, roll, q1, q2, q3 = sp.symbols('x_b y_b z_b yaw pitch roll q_1 q_2 q_3', real=True)\n",
    "\n",
    "# Parameters\n",
    "L1, L2, L3 = sp.symbols('L_1 L_2 L_3', real=True, positive=True)"
   ]
  },
  {
   "cell_type": "code",
   "execution_count": 3,
   "metadata": {},
   "outputs": [
    {
     "name": "stdout",
     "output_type": "stream",
     "text": [
      "⎡cos(pitch)⋅cos(yaw)  sin(pitch)⋅sin(roll)⋅cos(yaw) - sin(yaw)⋅cos(roll)  sin( ↪\n",
      "⎢                                                                              ↪\n",
      "⎢sin(yaw)⋅cos(pitch)  sin(pitch)⋅sin(roll)⋅sin(yaw) + cos(roll)⋅cos(yaw)  sin( ↪\n",
      "⎢                                                                              ↪\n",
      "⎣    -sin(pitch)                     sin(roll)⋅cos(pitch)                      ↪\n",
      "\n",
      "↪ pitch)⋅cos(roll)⋅cos(yaw) + sin(roll)⋅sin(yaw)⎤\n",
      "↪                                               ⎥\n",
      "↪ pitch)⋅sin(yaw)⋅cos(roll) - sin(roll)⋅cos(yaw)⎥\n",
      "↪                                               ⎥\n",
      "↪            cos(pitch)⋅cos(roll)               ⎦\n",
      "⎡cos(pitch)⋅cos(yaw)  sin(pitch)⋅sin(roll)⋅cos(yaw) - sin(yaw)⋅cos(roll)  sin( ↪\n",
      "⎢                                                                              ↪\n",
      "⎢sin(yaw)⋅cos(pitch)  sin(pitch)⋅sin(roll)⋅sin(yaw) + cos(roll)⋅cos(yaw)  sin( ↪\n",
      "⎢                                                                              ↪\n",
      "⎣    -sin(pitch)                     sin(roll)⋅cos(pitch)                      ↪\n",
      "\n",
      "↪ pitch)⋅cos(roll)⋅cos(yaw) + sin(roll)⋅sin(yaw)⎤\n",
      "↪                                               ⎥\n",
      "↪ pitch)⋅sin(yaw)⋅cos(roll) - sin(roll)⋅cos(yaw)⎥\n",
      "↪                                               ⎥\n",
      "↪            cos(pitch)⋅cos(roll)               ⎦\n"
     ]
    }
   ],
   "source": [
    "# ROTATIONS\n",
    "# Intrinsic ZYX\n",
    "Rz = sp.Matrix([\n",
    "    [sp.cos(yaw), -sp.sin(yaw), 0],\n",
    "    [sp.sin(yaw),  sp.cos(yaw), 0],\n",
    "    [0,            0,           1]\n",
    "])\n",
    "\n",
    "Ry = sp.Matrix([\n",
    "    [sp.cos(pitch),  0, sp.sin(pitch)],\n",
    "    [0,              1, 0            ],\n",
    "    [-sp.sin(pitch), 0, sp.cos(pitch)]\n",
    "])\n",
    "\n",
    "Rx = sp.Matrix([\n",
    "    [1, 0,            0           ],\n",
    "    [0, sp.cos(roll), -sp.sin(roll)],\n",
    "    [0, sp.sin(roll),  sp.cos(roll)]\n",
    "])\n",
    "\n",
    "# Intrinsic ZYX: Postmultiplication\n",
    "R_zyx_intrinsic = Rz * Ry * Rx\n",
    "\n",
    "# Extrinsic XYZ: Premultiplication\n",
    "R_xyz_extrinsic = Rz * Ry * Rx\n",
    "\n",
    "sp.pprint(R_xyz_extrinsic)\n",
    "sp.pprint(R_zyx_intrinsic)"
   ]
  },
  {
   "cell_type": "markdown",
   "metadata": {},
   "source": [
    "### Conventions\n",
    "For arm 1, the nominal configuration is straight out to the right of the body (i.e. along positive $Y_{b}$). For arm 2, the nominal configuration is straight out to the left of the body (i.e. along the negative $Y_{b}$).\n",
    "\n",
    "Rotations around relative axes are intrinsic and thus you use postmultiplication of the rotation."
   ]
  },
  {
   "cell_type": "code",
   "execution_count": 11,
   "metadata": {},
   "outputs": [],
   "source": [
    "# Body frame b: FRD at vehicle CoM\n",
    "T_Ib = sp.Matrix([[sp.cos(yaw)*sp.cos(pitch), sp.cos(yaw)*sp.sin(pitch)*sp.sin(roll)-sp.sin(yaw)*sp.cos(roll), sp.cos(yaw)*sp.sin(pitch)*sp.cos(roll)+sp.sin(yaw)*sp.sin(roll), x],\n",
    "                  [sp.sin(yaw)*sp.cos(pitch), sp.sin(yaw)*sp.sin(pitch)*sp.sin(roll)+sp.cos(yaw)*sp.cos(roll), sp.sin(yaw)*sp.sin(pitch)*sp.cos(roll)-sp.cos(yaw)*sp.sin(roll), y],\n",
    "                  [-sp.sin(pitch), sp.cos(pitch)*sp.sin(roll), sp.cos(pitch)*sp.cos(roll), z],\n",
    "                  [0, 0, 0, 1]])\n",
    "\n",
    "# Frame 0: Z axis of rotation pointing forward, X axis pointing up, Y axis pointing right (90 deg rotation around Yb)\n",
    "T_b0 = sp.Matrix([[0, 0, 1, 0],\n",
    "                  [0, 1, 0, 0],\n",
    "                  [-1, 0, 0, 0],\n",
    "                  [0, 0, 0, 1]])\n",
    "\n",
    "# Frame 1: Rotation around Z0 by q1\n",
    "T_01 = sp.Matrix([[sp.cos(q1), -sp.sin(q1), 0, 0],\n",
    "                [sp.sin(q1),  sp.cos(q1), 0, 0],\n",
    "                [0, 0, 1, 0],\n",
    "                [0, 0, 0, 1]])\n",
    "\n",
    "# Frame 2: Translation along Y1 of L1, then rotation around Y1 by pi/2 and rotation around new Z2 by q2\n",
    "rot_y1 = sp.Matrix([[sp.cos(sp.pi/2), 0, sp.sin(sp.pi/2)],\n",
    "                    [0, 1, 0],\n",
    "                    [-sp.sin(sp.pi/2), 0, sp.cos(sp.pi/2)]])\n",
    "rot_z2 = sp.Matrix([[sp.cos(q2), -sp.sin(q2), 0],\n",
    "                    [sp.sin(q2), sp.cos(q2), 0],\n",
    "                    [0, 0, 1]])\n",
    "rot_y1z2 = rot_y1 * rot_z2 # postmultiply because z2 is relative axis\n",
    "T_12 = sp.diag(rot_y1z2, 1)\n",
    "T_12[0, 3] = L1\n",
    "\n",
    "# Frame 3: Translation along Y2 by L2, rotation about Y2 by -pi/2, then rotation about new Z3 by q3\n",
    "rot_y2 = sp.Matrix([[sp.cos(-sp.pi/2), 0, sp.sin(-sp.pi/2)],\n",
    "                    [0, 1, 0],\n",
    "                    [-sp.sin(-sp.pi/2), 0, sp.cos(-sp.pi/2)]])\n",
    "rot_z3 = sp.Matrix([[sp.cos(q3), -sp.sin(q3), 0],\n",
    "                    [sp.sin(q3), sp.cos(q3), 0],\n",
    "                    [0, 0, 1]])\n",
    "rot_y2z3 = rot_y2 * rot_z3 # postmultiply because z3 is relative axis\n",
    "T_23 = sp.diag(rot_y2z3, 1)\n",
    "T_23[0, 3] = L2\n",
    "\n",
    "# Frame e: Translation along Y3 by L3, rotation about X3 by -pi/2\n",
    "T_3e = sp.Matrix([[1, 0, 0, 0],\n",
    "                [0, 0, 1, L3],\n",
    "                [0, -1, 0, 0],\n",
    "                [0, 0, 0, 1]])\n",
    "\n",
    "T_be = sp.trigsimp(sp.expand(T_b0*T_01*T_12*T_23*T_3e))\n",
    "    \n",
    "# Set parameters\n",
    "T_be = T_be.subs([(L1, L1_length), (L2, L2_length), (L3, L3_length)])"
   ]
  },
  {
   "cell_type": "code",
   "execution_count": 12,
   "metadata": {},
   "outputs": [
    {
     "name": "stdout",
     "output_type": "stream",
     "text": [
      "State dependencies\n",
      "xe = f({q_2, q_3})\n",
      "ye = f({q_3, q_1, q_2})\n",
      "ze = f({q_1, q_3, q_2})\n",
      "yawe = f({q_3, q_1, q_2})\n",
      "rolle = f({q_2, q_3})\n",
      "pitche = f({q_1, q_3, q_2})\n"
     ]
    }
   ],
   "source": [
    "# Forward kinematics function\n",
    "FK = sp.Matrix([T_be[0,3],\n",
    "                T_be[1,3],\n",
    "                T_be[2,3],\n",
    "                sp.atan2(T_be[2,1], T_be[2,2]),\n",
    "                sp.asin(T_be[0,3]),\n",
    "                sp.atan2(T_be[1,0], T_be[0,0])])\n",
    "\n",
    "sp.pprint(\"State dependencies\")\n",
    "print(f\"xe = f({FK[0,0].free_symbols})\")\n",
    "print(f\"ye = f({FK[1,0].free_symbols})\")\n",
    "print(f\"ze = f({FK[2,0].free_symbols})\")\n",
    "print(f\"yawe = f({FK[3,0].free_symbols})\")\n",
    "print(f\"rolle = f({FK[4,0].free_symbols})\")\n",
    "print(f\"pitche = f({FK[5,0].free_symbols})\")\n",
    "\n"
   ]
  },
  {
   "cell_type": "code",
   "execution_count": 13,
   "metadata": {},
   "outputs": [
    {
     "name": "stdout",
     "output_type": "stream",
     "text": [
      "State dependencies\n",
      "xe = f({pitch, q_3, q_2, roll, q_1, x_b, yaw})\n",
      "ye = f({pitch, q_2, q_3, roll, q_1, yaw, y_b})\n",
      "ze = f({pitch, q_2, q_3, roll, q_1, z_b})\n",
      "yawe = f({pitch, q_2, q_3, roll, q_1})\n",
      "rolle = f({roll, pitch, q_1, q_3, x_b, yaw, q_2})\n",
      "pitche = f({pitch, q_3, q_2, roll, q_1, yaw})\n"
     ]
    }
   ],
   "source": [
    "# Forward kinematics function\n",
    "T_Ie = T_Ib * T_be\n",
    "FK_centralised = sp.Matrix([T_Ie[0,3],\n",
    "                T_Ie[1,3],\n",
    "                T_Ie[2,3],\n",
    "                sp.atan2(T_Ie[2,1], T_Ie[2,2]),\n",
    "                sp.asin(T_Ie[0,3]),\n",
    "                sp.atan2(T_Ie[1,0], T_Ie[0,0])])\n",
    "\n",
    "sp.pprint(\"State dependencies\")\n",
    "print(f\"xe = f({FK_centralised[0,0].free_symbols})\")\n",
    "print(f\"ye = f({FK_centralised[1,0].free_symbols})\")\n",
    "print(f\"ze = f({FK_centralised[2,0].free_symbols})\")\n",
    "print(f\"yawe = f({FK_centralised[3,0].free_symbols})\")\n",
    "print(f\"rolle = f({FK_centralised[4,0].free_symbols})\")\n",
    "print(f\"pitche = f({FK_centralised[5,0].free_symbols})\")"
   ]
  },
  {
   "cell_type": "markdown",
   "metadata": {},
   "source": [
    "### Controllability\n",
    "Since the states roll and y_b, and pitch and x_b are coupled, not the entire end-effector configuration space is reachable."
   ]
  },
  {
   "cell_type": "code",
   "execution_count": null,
   "metadata": {},
   "outputs": [
    {
     "name": "stdout",
     "output_type": "stream",
     "text": [
      "(6, 9)\n"
     ]
    }
   ],
   "source": [
    "# Jacobian calculation for velocity\n",
    "J = FK_centralised.jacobian([x, y, z, yaw, pitch, roll, q1, q2, q3])\n",
    "\n",
    "print(J.shape)\n",
    "J_inv = J.pinv() # use pseudoinverse because J is non-square"
   ]
  }
 ],
 "metadata": {
  "kernelspec": {
   "display_name": "Python 3",
   "language": "python",
   "name": "python3"
  },
  "language_info": {
   "codemirror_mode": {
    "name": "ipython",
    "version": 3
   },
   "file_extension": ".py",
   "mimetype": "text/x-python",
   "name": "python",
   "nbconvert_exporter": "python",
   "pygments_lexer": "ipython3",
   "version": "3.10.12"
  }
 },
 "nbformat": 4,
 "nbformat_minor": 2
}
