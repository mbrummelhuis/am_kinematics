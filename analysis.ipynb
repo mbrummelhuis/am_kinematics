{
 "cells": [
  {
   "cell_type": "code",
   "execution_count": 1,
   "metadata": {},
   "outputs": [],
   "source": [
    "import sympy as sp\n",
    "import numpy as np\n",
    "\n",
    "sp.init_printing(use_latex=True)\n"
   ]
  },
  {
   "cell_type": "code",
   "execution_count": 5,
   "metadata": {},
   "outputs": [],
   "source": [
    "L1_length = 0.110\n",
    "L2_length = 0.311\n",
    "L3_length = 0.273\n",
    "\n",
    "#q1, q2, q3 = sp.symbols('q_1 q_2 q_3', real=True)\n",
    "x, y, z, yaw, pitch, roll, q1, q2, q3 = sp.symbols('x_b y_b z_b yaw pitch roll q_1 q_2 q_3', real=True)\n",
    "\n",
    "# Parameters\n",
    "L1, L2, L3 = sp.symbols('L_1 L_2 L_3', real=True, positive=True)"
   ]
  },
  {
   "cell_type": "code",
   "execution_count": 11,
   "metadata": {},
   "outputs": [
    {
     "name": "stdout",
     "output_type": "stream",
     "text": [
      "⎡cos(pitch)⋅cos(yaw)  sin(pitch)⋅sin(roll)⋅cos(yaw) - sin(yaw)⋅cos(roll)  sin( ↪\n",
      "⎢                                                                              ↪\n",
      "⎢sin(yaw)⋅cos(pitch)  sin(pitch)⋅sin(roll)⋅sin(yaw) + cos(roll)⋅cos(yaw)  sin( ↪\n",
      "⎢                                                                              ↪\n",
      "⎣    -sin(pitch)                     sin(roll)⋅cos(pitch)                      ↪\n",
      "\n",
      "↪ pitch)⋅cos(roll)⋅cos(yaw) + sin(roll)⋅sin(yaw)⎤\n",
      "↪                                               ⎥\n",
      "↪ pitch)⋅sin(yaw)⋅cos(roll) - sin(roll)⋅cos(yaw)⎥\n",
      "↪                                               ⎥\n",
      "↪            cos(pitch)⋅cos(roll)               ⎦\n",
      "⎡cos(pitch)⋅cos(yaw)  sin(pitch)⋅sin(roll)⋅cos(yaw) - sin(yaw)⋅cos(roll)  sin( ↪\n",
      "⎢                                                                              ↪\n",
      "⎢sin(yaw)⋅cos(pitch)  sin(pitch)⋅sin(roll)⋅sin(yaw) + cos(roll)⋅cos(yaw)  sin( ↪\n",
      "⎢                                                                              ↪\n",
      "⎣    -sin(pitch)                     sin(roll)⋅cos(pitch)                      ↪\n",
      "\n",
      "↪ pitch)⋅cos(roll)⋅cos(yaw) + sin(roll)⋅sin(yaw)⎤\n",
      "↪                                               ⎥\n",
      "↪ pitch)⋅sin(yaw)⋅cos(roll) - sin(roll)⋅cos(yaw)⎥\n",
      "↪                                               ⎥\n",
      "↪            cos(pitch)⋅cos(roll)               ⎦\n",
      "equal\n"
     ]
    }
   ],
   "source": [
    "# ROTATIONS\n",
    "# Intrinsic ZYX\n",
    "Rz = sp.Matrix([\n",
    "    [sp.cos(yaw), -sp.sin(yaw), 0],\n",
    "    [sp.sin(yaw),  sp.cos(yaw), 0],\n",
    "    [0,            0,           1]\n",
    "])\n",
    "\n",
    "Ry = sp.Matrix([\n",
    "    [sp.cos(pitch),  0, sp.sin(pitch)],\n",
    "    [0,              1, 0            ],\n",
    "    [-sp.sin(pitch), 0, sp.cos(pitch)]\n",
    "])\n",
    "\n",
    "Rx = sp.Matrix([\n",
    "    [1, 0,            0           ],\n",
    "    [0, sp.cos(roll), -sp.sin(roll)],\n",
    "    [0, sp.sin(roll),  sp.cos(roll)]\n",
    "])\n",
    "\n",
    "# Intrinsic ZYX: Postmultiplication\n",
    "R_zyx_intrinsic = Rz * Ry * Rx\n",
    "\n",
    "# Extrinsic XYZ: Premultiplication\n",
    "R_xyz_extrinsic = Rz * Ry * Rx\n",
    "\n",
    "sp.pprint(R_xyz_extrinsic)\n",
    "sp.pprint(R_zyx_intrinsic)"
   ]
  },
  {
   "cell_type": "code",
   "execution_count": 6,
   "metadata": {},
   "outputs": [],
   "source": [
    "T_Ib = sp.Matrix([[sp.cos(yaw)*sp.cos(pitch), sp.cos(yaw)*sp.sin(pitch)*sp.sin(roll)-sp.sin(yaw)*sp.cos(roll), sp.cos(yaw)*sp.sin(pitch)*sp.cos(roll)+sp.sin(yaw)*sp.sin(roll), x],\n",
    "                  [sp.sin(yaw)*sp.cos(pitch), sp.sin(yaw)*sp.sin(pitch)*sp.sin(roll)+sp.cos(yaw)*sp.cos(roll), sp.sin(yaw)*sp.sin(pitch)*sp.cos(roll)-sp.cos(yaw)*sp.sin(roll), y],\n",
    "                  [-sp.sin(pitch), sp.cos(pitch)*sp.sin(roll), sp.cos(pitch)*sp.cos(roll), z],\n",
    "                  [0, 0, 0, 1]])\n",
    "\n",
    "T_b0 = sp.Matrix([[0, 0, 1, 0],\n",
    "                [1, 0, 0, 0],\n",
    "                [0, 1, 0, 0],\n",
    "                [0, 0, 0, 1]])\n",
    "\n",
    "T_01 = sp.Matrix([[sp.cos(q1), -sp.sin(q1), 0, 0],\n",
    "                [sp.sin(q1),  sp.cos(q1), 0, 0],\n",
    "                [0, 0, 1, 0],\n",
    "                [0, 0, 0, 1]])\n",
    "\n",
    "T_12 = sp.Matrix([[-sp.cos(q2), sp.sin(q2), 0, -L1],\n",
    "                [0, 0, 1, 0],\n",
    "                [sp.sin(q2), sp.cos(q2), 0, 0],\n",
    "                [0, 0, 0, 1]])\n",
    "\n",
    "T_23 = sp.Matrix([[-sp.cos(q3), sp.sin(q3), 0, L2],\n",
    "                [0, 0, 1, 0],\n",
    "                [sp.sin(q3), sp.cos(q3), 0, 0],\n",
    "                [0, 0, 0, 1]])\n",
    "\n",
    "T_3e = sp.Matrix([[0, 0, -1, -L3],\n",
    "                [0, 1, 0, 0],\n",
    "                [1, 0, 0, 0],\n",
    "                [0, 0, 0, 1]])\n",
    "\n",
    "T_be = sp.trigsimp(sp.expand(T_b0*T_01*T_12*T_23*T_3e))\n",
    "    \n",
    "# Set parameters\n",
    "T_be = T_be.subs([(L1, L1_length), (L2, L2_length), (L3, L3_length)])"
   ]
  },
  {
   "cell_type": "code",
   "execution_count": 9,
   "metadata": {},
   "outputs": [
    {
     "name": "stdout",
     "output_type": "stream",
     "text": [
      "⎡                               (0.273⋅cos(q₃) + 0.311)⋅sin(q₂)                ↪\n",
      "⎢                                                                              ↪\n",
      "⎢0.273⋅sin(q₁)⋅sin(q₃) - 0.273⋅cos(q₁)⋅cos(q₂)⋅cos(q₃) - 0.311⋅cos(q₁)⋅cos(q₂) ↪\n",
      "⎢                                                                              ↪\n",
      "⎢-0.273⋅sin(q₁)⋅cos(q₂)⋅cos(q₃) - 0.311⋅sin(q₁)⋅cos(q₂) - 0.11⋅sin(q₁) - 0.273 ↪\n",
      "⎢                                                                              ↪\n",
      "⎢atan2(-sin(q₁)⋅sin(q₃)⋅cos(q₂) + cos(q₁)⋅cos(q₃), -sin(q₁)⋅cos(q₂)⋅cos(q₃) -  ↪\n",
      "⎢                                                                              ↪\n",
      "⎢                            asin((0.273⋅cos(q₃) + 0.311)⋅sin(q₂))             ↪\n",
      "⎢                                                                              ↪\n",
      "⎣                               atan2(sin(q₂)⋅cos(q₁), cos(q₂))                ↪\n",
      "\n",
      "↪                 ⎤\n",
      "↪                 ⎥\n",
      "↪  - 0.11⋅cos(q₁) ⎥\n",
      "↪                 ⎥\n",
      "↪ ⋅sin(q₃)⋅cos(q₁)⎥\n",
      "↪                 ⎥\n",
      "↪ sin(q₃)⋅cos(q₁))⎥\n",
      "↪                 ⎥\n",
      "↪                 ⎥\n",
      "↪                 ⎥\n",
      "↪                 ⎦\n",
      "State dependencies\n",
      "xe = f({q_2, q_3})\n",
      "ye = f({q_1, q_2, q_3})\n",
      "ze = f({q_1, q_2, q_3})\n",
      "yawe = f({q_1, q_2, q_3})\n",
      "rolle = f({q_2, q_3})\n",
      "pitche = f({q_1, q_2})\n"
     ]
    }
   ],
   "source": [
    "# Forward kinematics function\n",
    "FK = sp.Matrix([T_be[0,3],\n",
    "                T_be[1,3],\n",
    "                T_be[2,3],\n",
    "                sp.atan2(T_be[2,1], T_be[2,2]),\n",
    "                sp.asin(T_be[0,3]),\n",
    "                sp.atan2(T_be[1,0], T_be[0,0])])\n",
    "sp.pprint(FK)\n",
    "\n",
    "sp.pprint(\"State dependencies\")\n",
    "sp.pprint(f\"xe = f({FK[0,0].free_symbols})\")\n",
    "print(f\"ye = f({FK[1,0].free_symbols})\")\n",
    "print(f\"ze = f({FK[2,0].free_symbols})\")\n",
    "print(f\"yawe = f({FK[3,0].free_symbols})\")\n",
    "print(f\"rolle = f({FK[4,0].free_symbols})\")\n",
    "print(f\"pitche = f({FK[5,0].free_symbols})\")\n",
    "\n"
   ]
  }
 ],
 "metadata": {
  "kernelspec": {
   "display_name": "venv-kinematics",
   "language": "python",
   "name": "python3"
  },
  "language_info": {
   "codemirror_mode": {
    "name": "ipython",
    "version": 3
   },
   "file_extension": ".py",
   "mimetype": "text/x-python",
   "name": "python",
   "nbconvert_exporter": "python",
   "pygments_lexer": "ipython3",
   "version": "3.12.3"
  }
 },
 "nbformat": 4,
 "nbformat_minor": 2
}
